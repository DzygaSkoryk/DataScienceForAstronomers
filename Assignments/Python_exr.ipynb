{
 "cells": [
  {
   "cell_type": "markdown",
   "metadata": {
    "id": "XfS975Cg7NTE"
   },
   "source": [
    "# Data Science and Machine Learning in Astronomy with Python \n",
    "\n",
    "A course by Anastasiia Skoryk. \n",
    "\n",
    "2023/24"
   ]
  },
  {
   "cell_type": "markdown",
   "metadata": {
    "id": "irvFpYwm67JV"
   },
   "source": [
    "## Practice 1. Python basics \n",
    "Please don't use any specific library (your code should not contain import statement)."
   ]
  },
  {
   "cell_type": "markdown",
   "metadata": {
    "id": "tjCaBE_Y6ZXT"
   },
   "source": [
    "**1. Implement a function which returns second smallest item in the list (your code mustn't contain such words as 'sort', 'sorted'):**"
   ]
  },
  {
   "cell_type": "code",
   "execution_count": 69,
   "metadata": {
    "id": "vtmsejC06bf0"
   },
   "outputs": [],
   "source": [
    "def smallest_item(number_list):\n",
    "    \"\"\"\n",
    "    numbers_list: list[int] / list of ints\n",
    "    return: int    \n",
    "    \"\"\"\n",
    "    # YOUR CODE HERE\n"
   ]
  },
  {
   "cell_type": "code",
   "execution_count": 70,
   "metadata": {
    "id": "fyt5gWwP7u9c"
   },
   "outputs": [
    {
     "name": "stdout",
     "output_type": "stream",
     "text": [
      "Second smallest: -8\n"
     ]
    }
   ],
   "source": [
    "print('Second smallest:', smallest_item([1, 2, -8, -8, -2, 0]))"
   ]
  },
  {
   "cell_type": "code",
   "execution_count": 14,
   "metadata": {},
   "outputs": [],
   "source": [
    "list1 = [1, 2, -8, -8, -2, 0]\n",
    "list2 = [1, 2, -8, -8, -2, 0]\n",
    "list3 = [1, 2, -8, -10, -2, 0, -100]"
   ]
  },
  {
   "cell_type": "code",
   "execution_count": 15,
   "metadata": {},
   "outputs": [],
   "source": [
    "# hint\n",
    "m1 = m2 = float('inf') # start from the the very huge number    \n",
    "# then compare "
   ]
  },
  {
   "cell_type": "markdown",
   "metadata": {
    "id": "54Li8x0nHtXj"
   },
   "source": [
    "**2. Implement a function which returns all prime numbers in the numeric sequence up to N number:**"
   ]
  },
  {
   "cell_type": "code",
   "execution_count": 71,
   "metadata": {
    "id": "G9wrofOi7310"
   },
   "outputs": [],
   "source": [
    "def prime_nums(N):\n",
    "    \"\"\"\n",
    "    parameters: \n",
    "    N: int / The last number in the list  \n",
    "    return: \n",
    "    list[int] / list of prime numbers\n",
    "    \"\"\"\n",
    "    # YOUR CODE HERE\n"
   ]
  },
  {
   "cell_type": "code",
   "execution_count": 72,
   "metadata": {
    "colab": {
     "base_uri": "https://localhost:8080/",
     "height": 163
    },
    "id": "7OVDD-Ko7_xc",
    "outputId": "0e341206-e204-471a-e7be-a6afed692af0"
   },
   "outputs": [
    {
     "name": "stdout",
     "output_type": "stream",
     "text": [
      "[0, 1, 2, 3, 5, 7, 11, 13, 17, 19, 23, 29, 31, 37, 41, 43, 47, 53, 59, 61, 67, 71, 73, 79, 83, 89, 97]\n"
     ]
    }
   ],
   "source": [
    "n = 100\n",
    "print(prime_nums(n))"
   ]
  },
  {
   "cell_type": "code",
   "execution_count": 65,
   "metadata": {},
   "outputs": [],
   "source": [
    "# hint\n",
    "# N%n != 0 for n in ....\n",
    "# if all(...): # append to a primer list"
   ]
  },
  {
   "cell_type": "markdown",
   "metadata": {
    "id": "xBWsCbD9IChV"
   },
   "source": [
    "**3. Implement a function, which returnes the index of tuple wich has the maximum sum of elements:**"
   ]
  },
  {
   "cell_type": "code",
   "execution_count": 73,
   "metadata": {
    "id": "EV9AwFPl8HaD"
   },
   "outputs": [],
   "source": [
    "def index_max_sum(tuples):  \n",
    "    '''\n",
    "    input_tuples: list[tuple] / list of tuples\n",
    "    return: int\n",
    "    '''\n",
    "    # YOUR CODE HERE\n"
   ]
  },
  {
   "cell_type": "code",
   "execution_count": 102,
   "metadata": {
    "id": "Z7c4tgtRII38"
   },
   "outputs": [
    {
     "name": "stdout",
     "output_type": "stream",
     "text": [
      "[(2, 3), (10, 20.0, 100), (40, 32), (30, 25), (-20, 0)]\n",
      "Maximum sum is for the  1  element\n"
     ]
    }
   ],
   "source": [
    "my_list = [(2,3), (10, 20.0, 100), (40, 32), (30, 25), (-20, 0)]\n",
    "print(my_list)\n",
    "print('Maximum sum is for the ', index_max_sum(my_list), ' element')"
   ]
  },
  {
   "cell_type": "code",
   "execution_count": null,
   "metadata": {},
   "outputs": [],
   "source": [
    "# hint\n",
    "# use method .index(value) "
   ]
  },
  {
   "cell_type": "markdown",
   "metadata": {
    "id": "oblXCRw_JWHA"
   },
   "source": [
    "**4. Implement recursive sum of the list:**"
   ]
  },
  {
   "cell_type": "code",
   "execution_count": 103,
   "metadata": {
    "id": "ZvPQEh67NHU4"
   },
   "outputs": [],
   "source": [
    "def recursive_list_sum(input_list):\n",
    "    \"\"\"\n",
    "    :param \n",
    "    input_list: list[list]\n",
    "    \"\"\"\n",
    "    # YOUR CODE HERE\n"
   ]
  },
  {
   "cell_type": "code",
   "execution_count": 104,
   "metadata": {
    "id": "Q3tT-jZ0NIA9"
   },
   "outputs": [
    {
     "name": "stdout",
     "output_type": "stream",
     "text": [
      "[1, 2, [3, 4], [5, 6], [7, 8, 9, [10]]]\n",
      "The sum of a list is  55\n"
     ]
    }
   ],
   "source": [
    "my_list = [1, 2, [3, 4], [5, 6], [7, 8, 9, [10]]]\n",
    "print(my_list)\n",
    "print('The sum of a list is ', recursive_list_sum(my_list))"
   ]
  },
  {
   "cell_type": "code",
   "execution_count": null,
   "metadata": {},
   "outputs": [],
   "source": [
    "# hint: to understand recursion you have to understand recursion\n",
    "# check type(x) == type([]) itteratively\n",
    "# don't b3 affraid of applying the same function inside this function"
   ]
  },
  {
   "cell_type": "markdown",
   "metadata": {
    "id": "UH-fEE6iN05k"
   },
   "source": [
    "**5. Implement a function that check if the first and the last elements in a list are the same**"
   ]
  },
  {
   "cell_type": "code",
   "execution_count": 18,
   "metadata": {
    "id": "fl2fVrz0IL_O"
   },
   "outputs": [],
   "source": [
    "def first_last_element(input_list):\n",
    "    \"\"\"\n",
    "    :param \n",
    "    input_list: list\n",
    "    return: bool / true or false\n",
    "    \"\"\"\n",
    "    print(\"Given list is \", input_list)\n",
    "    # YOUR CODE HERE\n"
   ]
  },
  {
   "cell_type": "code",
   "execution_count": 19,
   "metadata": {
    "id": "LHYXdkATOOVZ"
   },
   "outputs": [
    {
     "name": "stdout",
     "output_type": "stream",
     "text": [
      "Given list is  [10, 20, 30, 40, 10]\n",
      "result is None\n",
      "Given list is  ['Hi', 'my', 'name', 'is', 'Ann']\n",
      "result is None\n"
     ]
    }
   ],
   "source": [
    "numList = [10, 20, 30, 40, 10]\n",
    "print(\"result is\", first_last_element(numList))\n",
    "\n",
    "numList = ['Hi', 'my', 'name', 'is', 'Ann']\n",
    "print(\"result is\", first_last_element(numList))"
   ]
  },
  {
   "cell_type": "markdown",
   "metadata": {
    "id": "-17-SbecSLRl"
   },
   "source": [
    "**6. Implement function that unpack list of tuples into tupe of two lists. Hint: use list comprehention.**"
   ]
  },
  {
   "cell_type": "code",
   "execution_count": 107,
   "metadata": {
    "id": "M9OEkbQLSKSD"
   },
   "outputs": [],
   "source": [
    "def list_unpack(list_tuple):\n",
    "    \"\"\"\n",
    "    param:\n",
    "    list_tuple / list of tuples\n",
    "    return tup / Tupel of lists\n",
    "    \"\"\"\n",
    "    # YOUR CODE HERE \n"
   ]
  },
  {
   "cell_type": "code",
   "execution_count": null,
   "metadata": {},
   "outputs": [],
   "source": [
    "# hint \n",
    "# use comprehensions"
   ]
  },
  {
   "cell_type": "code",
   "execution_count": 108,
   "metadata": {
    "colab": {
     "base_uri": "https://localhost:8080/",
     "height": 34
    },
    "id": "VGa1LOJ3OUe0",
    "outputId": "ed5accdd-4401-477b-9a2f-afa28556fb6d"
   },
   "outputs": [
    {
     "name": "stdout",
     "output_type": "stream",
     "text": [
      "(('1', 'A'), ('2', 'B'), ('3', 'C'), ('4', 'D'))\n",
      "(['1', '2', '3', '4'], ['A', 'B', 'C', 'D'])\n"
     ]
    }
   ],
   "source": [
    "my_list = [('1','A'),('2','B'),('3','C'),('4','D')]\n",
    "print(my_list)\n",
    "print(list_unpack(my_list))"
   ]
  },
  {
   "cell_type": "markdown",
   "metadata": {},
   "source": [
    "**7. Generate string consisted of N random digits from 0 to 9. The output is a string.\n",
    "Here you can import a sepcific library: random** "
   ]
  },
  {
   "cell_type": "code",
   "execution_count": 110,
   "metadata": {},
   "outputs": [],
   "source": [
    "import random\n",
    "def random_digits(N):\n",
    "    \"\"\"\n",
    "    parameters: \n",
    "    N: int / A number of digits\n",
    "    return: \n",
    "    str / A string with numbers\n",
    "    \"\"\"\n",
    "    # YOUR CODE HERE\n"
   ]
  },
  {
   "cell_type": "code",
   "execution_count": 112,
   "metadata": {},
   "outputs": [
    {
     "name": "stdout",
     "output_type": "stream",
     "text": [
      "79542\n",
      "2058791589062762230128916143361436450306067203619019335012808197836163192290048924901632980589915195\n"
     ]
    }
   ],
   "source": [
    "random.seed(9)\n",
    "print(random_digits(5))\n",
    "print(random_digits(100))"
   ]
  },
  {
   "cell_type": "code",
   "execution_count": 20,
   "metadata": {},
   "outputs": [],
   "source": [
    "# hint\n",
    "# convert numbers to strings"
   ]
  },
  {
   "cell_type": "markdown",
   "metadata": {},
   "source": [
    " **8. Write a function to find whether a given string starts with a given character. You may use string attribute .startswith**"
   ]
  },
  {
   "cell_type": "code",
   "execution_count": 115,
   "metadata": {},
   "outputs": [],
   "source": [
    "def starts_with(word, letter):\n",
    "    \"\"\"\n",
    "    parameters: \n",
    "    word: str / The string\n",
    "    letter: char / the letter\n",
    "    return: \n",
    "    Bool / True or false\n",
    "    \"\"\"\n",
    "    # YOUR CODE HERE\n"
   ]
  },
  {
   "cell_type": "code",
   "execution_count": 116,
   "metadata": {},
   "outputs": [
    {
     "name": "stdout",
     "output_type": "stream",
     "text": [
      "True\n",
      "False\n"
     ]
    }
   ],
   "source": [
    "print(starts_with('Python', 'P'))\n",
    "print(starts_with('Hi, there', 'P'))"
   ]
  },
  {
   "cell_type": "code",
   "execution_count": null,
   "metadata": {},
   "outputs": [],
   "source": []
  },
  {
   "cell_type": "markdown",
   "metadata": {},
   "source": [
    "**9. Write a function to extract year, month, date and time using Lambda. Use 'datetime' library to obtain the present moment: datetime.datetime.now()** \n",
    "\n",
    "https://www.youtube.com/watch?v=RjMbCUpvIgw&t=324s"
   ]
  },
  {
   "cell_type": "code",
   "execution_count": 117,
   "metadata": {},
   "outputs": [],
   "source": [
    "import datetime\n",
    "def year_month_date():\n",
    "    \"\"\"\n",
    "    parameters: empty\n",
    "    return: empty\n",
    "    \"\"\"\n",
    "    # YOUR CODE HERE\n"
   ]
  },
  {
   "cell_type": "code",
   "execution_count": 118,
   "metadata": {},
   "outputs": [
    {
     "name": "stdout",
     "output_type": "stream",
     "text": [
      "Now: 2021-10-08 15:08:28.008920\n",
      "Year:  2021\n",
      "Month 10\n",
      "Day 8\n",
      "Time 15:08:28.008920\n"
     ]
    }
   ],
   "source": [
    "year_month_date()"
   ]
  },
  {
   "cell_type": "markdown",
   "metadata": {},
   "source": [
    "**10. Write a function to combine two dictionary adding values for common keys. You can not use a library \"collections\"**"
   ]
  },
  {
   "cell_type": "code",
   "execution_count": 63,
   "metadata": {},
   "outputs": [],
   "source": [
    "def combine_dictionaries(dict1, dict2):\n",
    "    \"\"\"\n",
    "    parameters: \n",
    "    dict1: dict \n",
    "    dict2: dict\n",
    "    return: dict\n",
    "    \"\"\"\n",
    "    # YOUR CODE HERE\n"
   ]
  },
  {
   "cell_type": "code",
   "execution_count": 64,
   "metadata": {},
   "outputs": [
    {
     "name": "stdout",
     "output_type": "stream",
     "text": [
      "{'a': 100, 'b': 200, 'c': 300}\n",
      "{'a': 300, 'b': 200, 'd': 400}\n",
      "None\n"
     ]
    }
   ],
   "source": [
    "d1 = {'a': 100, 'b': 200, 'c':300}\n",
    "d2 = {'a': 300, 'b': 200, 'd':400}\n",
    "print(d1)\n",
    "print(d2)\n",
    "print(combine_dictionaries(d1, d2))"
   ]
  },
  {
   "cell_type": "markdown",
   "metadata": {},
   "source": [
    "**11. Write a function to create a dictionary from a string, where a key is a letter and a value is a count of the letters from the string. You can use a library: collections**"
   ]
  },
  {
   "cell_type": "code",
   "execution_count": 73,
   "metadata": {},
   "outputs": [],
   "source": [
    "def count_letter(input_string):\n",
    "    \"\"\"\n",
    "    parameters: \n",
    "    input_string: string\n",
    "    return: dict\n",
    "    \"\"\"\n",
    "    # YOUR CODE HERE\n"
   ]
  },
  {
   "cell_type": "code",
   "execution_count": 74,
   "metadata": {},
   "outputs": [
    {
     "name": "stdout",
     "output_type": "stream",
     "text": [
      "Hello, Python. Lets begin!\n",
      "None\n"
     ]
    }
   ],
   "source": [
    "my_string = 'Hello, Python. Lets begin!'\n",
    "print(my_string)\n",
    "print(count_letter(my_string))"
   ]
  },
  {
   "cell_type": "code",
   "execution_count": null,
   "metadata": {},
   "outputs": [],
   "source": []
  },
  {
   "cell_type": "markdown",
   "metadata": {},
   "source": [
    "# Bonus \n",
    "Use these magic commands to profile your code and check time of execution or memory used.\n",
    "\n",
    "\n",
    "    %time: Time the execution of a single statement\n",
    "    %timeit: Time repeated execution of a single statement for more accuracy\n",
    "    %prun: Run code with the profiler\n",
    "    %lprun: Run code with the line-by-line profiler\n",
    "    %memit: Measure the memory use of a single statement\n",
    "    %mprun: Run code with the line-by-line memory profiler\n",
    "    \n",
    "Learn more about magic commands https://www.aboutdatablog.com/post/top-8-magic-commands-in-jupyter-notebook\n"
   ]
  },
  {
   "cell_type": "code",
   "execution_count": 76,
   "metadata": {},
   "outputs": [],
   "source": [
    "def count_letter1(input_string):\n",
    "    from collections import Counter\n",
    "    return dict(Counter(input_string))"
   ]
  },
  {
   "cell_type": "code",
   "execution_count": 82,
   "metadata": {},
   "outputs": [],
   "source": [
    "def count_letter2(my_string):\n",
    "    lett_dic = {}\n",
    "    for l in my_string:\n",
    "        if l in lett_dic:\n",
    "            lett_dic[l]+=1\n",
    "        else:\n",
    "            lett_dic[l] = 1\n",
    "    return lett_dic"
   ]
  },
  {
   "cell_type": "code",
   "execution_count": 78,
   "metadata": {},
   "outputs": [],
   "source": [
    "my_string = 'Hello, Python. Lets begin!'"
   ]
  },
  {
   "cell_type": "code",
   "execution_count": 83,
   "metadata": {},
   "outputs": [
    {
     "name": "stdout",
     "output_type": "stream",
     "text": [
      "2.18 µs ± 145 ns per loop (mean ± std. dev. of 7 runs, 100,000 loops each)\n"
     ]
    }
   ],
   "source": [
    "%timeit count_letter1(my_string)"
   ]
  },
  {
   "cell_type": "code",
   "execution_count": 84,
   "metadata": {},
   "outputs": [
    {
     "name": "stdout",
     "output_type": "stream",
     "text": [
      "1.56 µs ± 65 ns per loop (mean ± std. dev. of 7 runs, 1,000,000 loops each)\n"
     ]
    }
   ],
   "source": [
    "%timeit count_letter2(my_string)"
   ]
  },
  {
   "cell_type": "code",
   "execution_count": 88,
   "metadata": {},
   "outputs": [
    {
     "name": "stdout",
     "output_type": "stream",
     "text": [
      "CPU times: user 199 µs, sys: 0 ns, total: 199 µs\n",
      "Wall time: 219 µs\n"
     ]
    },
    {
     "data": {
      "text/plain": [
       "{'W': 2,\n",
       " 'h': 9,\n",
       " 'e': 44,\n",
       " 't': 23,\n",
       " 'r': 28,\n",
       " ' ': 63,\n",
       " 'y': 8,\n",
       " 'o': 30,\n",
       " 'u': 12,\n",
       " \"'\": 4,\n",
       " 'p': 8,\n",
       " 'a': 20,\n",
       " 'i': 21,\n",
       " 'n': 18,\n",
       " 'g': 6,\n",
       " 'f': 6,\n",
       " 's': 17,\n",
       " 'j': 1,\n",
       " 'b': 3,\n",
       " 'v': 6,\n",
       " 'w': 7,\n",
       " 'm': 7,\n",
       " 'k': 5,\n",
       " 'l': 12,\n",
       " '-': 4,\n",
       " 'c': 10,\n",
       " 'd': 10,\n",
       " ',': 3,\n",
       " 'G': 2,\n",
       " 'C': 1,\n",
       " '.': 3,\n",
       " 'q': 1,\n",
       " 'J': 1,\n",
       " 'D': 1,\n",
       " '!': 1}"
      ]
     },
     "execution_count": 88,
     "metadata": {},
     "output_type": "execute_result"
    }
   ],
   "source": [
    "long_string = \"Whether you're preparing for your first job interview or aiming to upskill in this ever-evolving tech landscape, GeeksforGeeks Courses are your key to success. We provide top-quality content at affordable prices, all geared towards accelerating your growth in a time-bound manner. Join the millions we've already empowered, and we're here to do the same for you. Don't miss out - check it out now!\"\n",
    "%time count_letter1(long_string)"
   ]
  },
  {
   "cell_type": "code",
   "execution_count": 89,
   "metadata": {},
   "outputs": [
    {
     "name": "stdout",
     "output_type": "stream",
     "text": [
      "CPU times: user 144 µs, sys: 0 ns, total: 144 µs\n",
      "Wall time: 152 µs\n"
     ]
    },
    {
     "data": {
      "text/plain": [
       "{'W': 2,\n",
       " 'h': 9,\n",
       " 'e': 44,\n",
       " 't': 23,\n",
       " 'r': 28,\n",
       " ' ': 63,\n",
       " 'y': 8,\n",
       " 'o': 30,\n",
       " 'u': 12,\n",
       " \"'\": 4,\n",
       " 'p': 8,\n",
       " 'a': 20,\n",
       " 'i': 21,\n",
       " 'n': 18,\n",
       " 'g': 6,\n",
       " 'f': 6,\n",
       " 's': 17,\n",
       " 'j': 1,\n",
       " 'b': 3,\n",
       " 'v': 6,\n",
       " 'w': 7,\n",
       " 'm': 7,\n",
       " 'k': 5,\n",
       " 'l': 12,\n",
       " '-': 4,\n",
       " 'c': 10,\n",
       " 'd': 10,\n",
       " ',': 3,\n",
       " 'G': 2,\n",
       " 'C': 1,\n",
       " '.': 3,\n",
       " 'q': 1,\n",
       " 'J': 1,\n",
       " 'D': 1,\n",
       " '!': 1}"
      ]
     },
     "execution_count": 89,
     "metadata": {},
     "output_type": "execute_result"
    }
   ],
   "source": [
    "%time count_letter2(long_string)"
   ]
  },
  {
   "cell_type": "code",
   "execution_count": null,
   "metadata": {},
   "outputs": [],
   "source": []
  }
 ],
 "metadata": {
  "colab": {
   "authorship_tag": "ABX9TyOQ4ZCA5YrjfRNKcoPQByoz",
   "collapsed_sections": [
    "XfS975Cg7NTE"
   ],
   "include_colab_link": true,
   "name": "Python_exr.ipynb",
   "provenance": []
  },
  "kernelspec": {
   "display_name": "Python 3 (ipykernel)",
   "language": "python",
   "name": "python3"
  },
  "language_info": {
   "codemirror_mode": {
    "name": "ipython",
    "version": 3
   },
   "file_extension": ".py",
   "mimetype": "text/x-python",
   "name": "python",
   "nbconvert_exporter": "python",
   "pygments_lexer": "ipython3",
   "version": "3.11.5"
  }
 },
 "nbformat": 4,
 "nbformat_minor": 1
}
