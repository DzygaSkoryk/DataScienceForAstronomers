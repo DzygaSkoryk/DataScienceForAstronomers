{
 "cells": [
  {
   "cell_type": "code",
   "execution_count": 1,
   "id": "04ed5114",
   "metadata": {},
   "outputs": [],
   "source": [
    "from astroquery.esa.hubble import ESAHubble\n",
    "esahubble = ESAHubble()\n",
    "esahubble.get_status_messages()"
   ]
  },
  {
   "cell_type": "code",
   "execution_count": 2,
   "id": "5fb4d519",
   "metadata": {},
   "outputs": [
    {
     "name": "stdout",
     "output_type": "stream",
     "text": [
      "INFO: select * from ehst.archive where(calibration_level=3 AND data_product_type LIKE '%image%' AND intent LIKE '%science%' AND (collection LIKE '%HLA%') AND (instrument_name LIKE '%WFC3%') AND (instrument_configuration LIKE '%F555W%' OR instrument_configuration LIKE '%F606W%')) [astroquery.esa.hubble.core]\n",
      "Launched query: 'select  TOP 2000 * from ehst.archive where(calibration_level=3 AND data_product_type LIKE '%image%' AND intent LIKE '%science%' AND (collection LIKE '%HLA%') AND (instrument_name LIKE '%WFC3%') AND (instrument_configuration LIKE '%F555W%' OR instrument_configuration LIKE '%F606W%'))'\n",
      "------>https\n",
      "host = hst.esac.esa.int:443\n",
      "context = /tap-server/tap/sync\n",
      "Content-type = application/x-www-form-urlencoded\n",
      "200 200\n",
      "[('Date', 'Tue, 14 Nov 2023 12:06:51 GMT'), ('Server', 'Apache/2.4.6 (Red Hat Enterprise Linux) OpenSSL/1.0.2k-fips PHP/5.4.16 mod_jk/1.2.48'), ('Cache-Control', 'no-cache, no-store, max-age=0, must-revalidate'), ('Pragma', 'no-cache'), ('Expires', '0'), ('X-XSS-Protection', '1; mode=block'), ('X-Frame-Options', 'SAMEORIGIN'), ('X-Content-Type-Options', 'nosniff'), ('Content-Encoding', 'gzip'), ('Content-Disposition', 'attachment;filename=\"1699963611512O-result.vot\"'), ('Content-Type', 'application/x-votable+xml'), ('Set-Cookie', 'JSESSIONID=EC54C24181B4807EE97762F11B18F759; Path=/; Secure; HttpOnly'), ('Transfer-Encoding', 'chunked')]\n",
      "Retrieving sync. results...\n",
      "Saving results to: output1.vot.gz\n",
      "Query finished.\n"
     ]
    }
   ],
   "source": [
    "result = esahubble.query_criteria(calibration_level = 3,\n",
    "                                  data_product_type = 'image',\n",
    "                                  intent='SCIENCE',\n",
    "                                  obs_collection=['HLA'],\n",
    "                                  instrument_name = ['WFC3'],\n",
    "                                  filters = ['F555W', 'F606W'],\n",
    "                                  async_job = False,\n",
    "                                  output_file = 'output1.vot.gz',\n",
    "                                  output_format=\"votable\",\n",
    "                                  verbose = True,\n",
    "                                  get_query = False) "
   ]
  },
  {
   "cell_type": "code",
   "execution_count": 3,
   "id": "85a684e5",
   "metadata": {},
   "outputs": [],
   "source": [
    "from astroquery.mast import Catalogs"
   ]
  },
  {
   "cell_type": "code",
   "execution_count": 4,
   "id": "785d12a8",
   "metadata": {},
   "outputs": [
    {
     "ename": "TimeoutError",
     "evalue": "Timeout limit of 600 exceeded.",
     "output_type": "error",
     "traceback": [
      "\u001b[0;31m---------------------------------------------------------------------------\u001b[0m",
      "\u001b[0;31mTimeoutError\u001b[0m                              Traceback (most recent call last)",
      "Cell \u001b[0;32mIn[4], line 1\u001b[0m\n\u001b[0;32m----> 1\u001b[0m catalog_data \u001b[38;5;241m=\u001b[39m Catalogs\u001b[38;5;241m.\u001b[39mquery_object(\u001b[38;5;124m\"\u001b[39m\u001b[38;5;124mM10\u001b[39m\u001b[38;5;124m\"\u001b[39m, radius\u001b[38;5;241m=\u001b[39m\u001b[38;5;241m.02\u001b[39m, catalog\u001b[38;5;241m=\u001b[39m\u001b[38;5;124m\"\u001b[39m\u001b[38;5;124mHSC\u001b[39m\u001b[38;5;124m\"\u001b[39m)\n",
      "File \u001b[0;32m~/miniconda3/envs/MyEnv/lib/python3.11/site-packages/astroquery/utils/class_or_instance.py:25\u001b[0m, in \u001b[0;36mclass_or_instance.__get__.<locals>.f\u001b[0;34m(*args, **kwds)\u001b[0m\n\u001b[1;32m     23\u001b[0m \u001b[38;5;28;01mdef\u001b[39;00m \u001b[38;5;21mf\u001b[39m(\u001b[38;5;241m*\u001b[39margs, \u001b[38;5;241m*\u001b[39m\u001b[38;5;241m*\u001b[39mkwds):\n\u001b[1;32m     24\u001b[0m     \u001b[38;5;28;01mif\u001b[39;00m obj \u001b[38;5;129;01mis\u001b[39;00m \u001b[38;5;129;01mnot\u001b[39;00m \u001b[38;5;28;01mNone\u001b[39;00m:\n\u001b[0;32m---> 25\u001b[0m         \u001b[38;5;28;01mreturn\u001b[39;00m \u001b[38;5;28mself\u001b[39m\u001b[38;5;241m.\u001b[39mfn(obj, \u001b[38;5;241m*\u001b[39margs, \u001b[38;5;241m*\u001b[39m\u001b[38;5;241m*\u001b[39mkwds)\n\u001b[1;32m     26\u001b[0m     \u001b[38;5;28;01melse\u001b[39;00m:\n\u001b[1;32m     27\u001b[0m         \u001b[38;5;28;01mreturn\u001b[39;00m \u001b[38;5;28mself\u001b[39m\u001b[38;5;241m.\u001b[39mfn(\u001b[38;5;28mcls\u001b[39m, \u001b[38;5;241m*\u001b[39margs, \u001b[38;5;241m*\u001b[39m\u001b[38;5;241m*\u001b[39mkwds)\n",
      "File \u001b[0;32m~/miniconda3/envs/MyEnv/lib/python3.11/site-packages/astroquery/utils/process_asyncs.py:26\u001b[0m, in \u001b[0;36masync_to_sync.<locals>.create_method.<locals>.newmethod\u001b[0;34m(self, *args, **kwargs)\u001b[0m\n\u001b[1;32m     22\u001b[0m \u001b[38;5;129m@class_or_instance\u001b[39m\n\u001b[1;32m     23\u001b[0m \u001b[38;5;28;01mdef\u001b[39;00m \u001b[38;5;21mnewmethod\u001b[39m(\u001b[38;5;28mself\u001b[39m, \u001b[38;5;241m*\u001b[39margs, \u001b[38;5;241m*\u001b[39m\u001b[38;5;241m*\u001b[39mkwargs):\n\u001b[1;32m     24\u001b[0m     verbose \u001b[38;5;241m=\u001b[39m kwargs\u001b[38;5;241m.\u001b[39mpop(\u001b[38;5;124m'\u001b[39m\u001b[38;5;124mverbose\u001b[39m\u001b[38;5;124m'\u001b[39m, \u001b[38;5;28;01mFalse\u001b[39;00m)\n\u001b[0;32m---> 26\u001b[0m     response \u001b[38;5;241m=\u001b[39m \u001b[38;5;28mgetattr\u001b[39m(\u001b[38;5;28mself\u001b[39m, async_method_name)(\u001b[38;5;241m*\u001b[39margs, \u001b[38;5;241m*\u001b[39m\u001b[38;5;241m*\u001b[39mkwargs)\n\u001b[1;32m     27\u001b[0m     \u001b[38;5;28;01mif\u001b[39;00m kwargs\u001b[38;5;241m.\u001b[39mget(\u001b[38;5;124m'\u001b[39m\u001b[38;5;124mget_query_payload\u001b[39m\u001b[38;5;124m'\u001b[39m) \u001b[38;5;129;01mor\u001b[39;00m kwargs\u001b[38;5;241m.\u001b[39mget(\u001b[38;5;124m'\u001b[39m\u001b[38;5;124mfield_help\u001b[39m\u001b[38;5;124m'\u001b[39m):\n\u001b[1;32m     28\u001b[0m         \u001b[38;5;28;01mreturn\u001b[39;00m response\n",
      "File \u001b[0;32m~/miniconda3/envs/MyEnv/lib/python3.11/site-packages/astroquery/utils/class_or_instance.py:25\u001b[0m, in \u001b[0;36mclass_or_instance.__get__.<locals>.f\u001b[0;34m(*args, **kwds)\u001b[0m\n\u001b[1;32m     23\u001b[0m \u001b[38;5;28;01mdef\u001b[39;00m \u001b[38;5;21mf\u001b[39m(\u001b[38;5;241m*\u001b[39margs, \u001b[38;5;241m*\u001b[39m\u001b[38;5;241m*\u001b[39mkwds):\n\u001b[1;32m     24\u001b[0m     \u001b[38;5;28;01mif\u001b[39;00m obj \u001b[38;5;129;01mis\u001b[39;00m \u001b[38;5;129;01mnot\u001b[39;00m \u001b[38;5;28;01mNone\u001b[39;00m:\n\u001b[0;32m---> 25\u001b[0m         \u001b[38;5;28;01mreturn\u001b[39;00m \u001b[38;5;28mself\u001b[39m\u001b[38;5;241m.\u001b[39mfn(obj, \u001b[38;5;241m*\u001b[39margs, \u001b[38;5;241m*\u001b[39m\u001b[38;5;241m*\u001b[39mkwds)\n\u001b[1;32m     26\u001b[0m     \u001b[38;5;28;01melse\u001b[39;00m:\n\u001b[1;32m     27\u001b[0m         \u001b[38;5;28;01mreturn\u001b[39;00m \u001b[38;5;28mself\u001b[39m\u001b[38;5;241m.\u001b[39mfn(\u001b[38;5;28mcls\u001b[39m, \u001b[38;5;241m*\u001b[39margs, \u001b[38;5;241m*\u001b[39m\u001b[38;5;241m*\u001b[39mkwds)\n",
      "File \u001b[0;32m~/miniconda3/envs/MyEnv/lib/python3.11/site-packages/astroquery/mast/collections.py:212\u001b[0m, in \u001b[0;36mCatalogsClass.query_object_async\u001b[0;34m(self, objectname, radius, catalog, pagesize, page, version, **kwargs)\u001b[0m\n\u001b[1;32m    174\u001b[0m \u001b[38;5;250m\u001b[39m\u001b[38;5;124;03m\"\"\"\u001b[39;00m\n\u001b[1;32m    175\u001b[0m \u001b[38;5;124;03mGiven an object name, returns a list of catalog entries.\u001b[39;00m\n\u001b[1;32m    176\u001b[0m \u001b[38;5;124;03mSee column documentation for specific catalogs `here <https://mast.stsci.edu/api/v0/pages.html>`__.\u001b[39;00m\n\u001b[0;32m   (...)\u001b[0m\n\u001b[1;32m    207\u001b[0m \u001b[38;5;124;03mresponse : list of `~requests.Response`\u001b[39;00m\n\u001b[1;32m    208\u001b[0m \u001b[38;5;124;03m\"\"\"\u001b[39;00m\n\u001b[1;32m    210\u001b[0m coordinates \u001b[38;5;241m=\u001b[39m utils\u001b[38;5;241m.\u001b[39mresolve_object(objectname)\n\u001b[0;32m--> 212\u001b[0m \u001b[38;5;28;01mreturn\u001b[39;00m \u001b[38;5;28mself\u001b[39m\u001b[38;5;241m.\u001b[39mquery_region_async(coordinates,\n\u001b[1;32m    213\u001b[0m                                radius\u001b[38;5;241m=\u001b[39mradius,\n\u001b[1;32m    214\u001b[0m                                catalog\u001b[38;5;241m=\u001b[39mcatalog,\n\u001b[1;32m    215\u001b[0m                                version\u001b[38;5;241m=\u001b[39mversion,\n\u001b[1;32m    216\u001b[0m                                pagesize\u001b[38;5;241m=\u001b[39mpagesize,\n\u001b[1;32m    217\u001b[0m                                page\u001b[38;5;241m=\u001b[39mpage,\n\u001b[1;32m    218\u001b[0m                                \u001b[38;5;241m*\u001b[39m\u001b[38;5;241m*\u001b[39mkwargs)\n",
      "File \u001b[0;32m~/miniconda3/envs/MyEnv/lib/python3.11/site-packages/astroquery/utils/class_or_instance.py:25\u001b[0m, in \u001b[0;36mclass_or_instance.__get__.<locals>.f\u001b[0;34m(*args, **kwds)\u001b[0m\n\u001b[1;32m     23\u001b[0m \u001b[38;5;28;01mdef\u001b[39;00m \u001b[38;5;21mf\u001b[39m(\u001b[38;5;241m*\u001b[39margs, \u001b[38;5;241m*\u001b[39m\u001b[38;5;241m*\u001b[39mkwds):\n\u001b[1;32m     24\u001b[0m     \u001b[38;5;28;01mif\u001b[39;00m obj \u001b[38;5;129;01mis\u001b[39;00m \u001b[38;5;129;01mnot\u001b[39;00m \u001b[38;5;28;01mNone\u001b[39;00m:\n\u001b[0;32m---> 25\u001b[0m         \u001b[38;5;28;01mreturn\u001b[39;00m \u001b[38;5;28mself\u001b[39m\u001b[38;5;241m.\u001b[39mfn(obj, \u001b[38;5;241m*\u001b[39margs, \u001b[38;5;241m*\u001b[39m\u001b[38;5;241m*\u001b[39mkwds)\n\u001b[1;32m     26\u001b[0m     \u001b[38;5;28;01melse\u001b[39;00m:\n\u001b[1;32m     27\u001b[0m         \u001b[38;5;28;01mreturn\u001b[39;00m \u001b[38;5;28mself\u001b[39m\u001b[38;5;241m.\u001b[39mfn(\u001b[38;5;28mcls\u001b[39m, \u001b[38;5;241m*\u001b[39margs, \u001b[38;5;241m*\u001b[39m\u001b[38;5;241m*\u001b[39mkwds)\n",
      "File \u001b[0;32m~/miniconda3/envs/MyEnv/lib/python3.11/site-packages/astroquery/mast/collections.py:168\u001b[0m, in \u001b[0;36mCatalogsClass.query_region_async\u001b[0;34m(self, coordinates, radius, catalog, version, pagesize, page, **kwargs)\u001b[0m\n\u001b[1;32m    165\u001b[0m \u001b[38;5;66;03m# Parameters will be passed as JSON objects only when accessing the PANSTARRS API\u001b[39;00m\n\u001b[1;32m    166\u001b[0m use_json \u001b[38;5;241m=\u001b[39m catalog\u001b[38;5;241m.\u001b[39mlower() \u001b[38;5;241m==\u001b[39m \u001b[38;5;124m'\u001b[39m\u001b[38;5;124mpanstarrs\u001b[39m\u001b[38;5;124m'\u001b[39m\n\u001b[0;32m--> 168\u001b[0m \u001b[38;5;28;01mreturn\u001b[39;00m \u001b[38;5;28mself\u001b[39m\u001b[38;5;241m.\u001b[39m_current_connection\u001b[38;5;241m.\u001b[39mservice_request_async(service, params, pagesize\u001b[38;5;241m=\u001b[39mpagesize, page\u001b[38;5;241m=\u001b[39mpage,\n\u001b[1;32m    169\u001b[0m                                                       use_json\u001b[38;5;241m=\u001b[39muse_json)\n",
      "File \u001b[0;32m~/miniconda3/envs/MyEnv/lib/python3.11/site-packages/astroquery/utils/class_or_instance.py:25\u001b[0m, in \u001b[0;36mclass_or_instance.__get__.<locals>.f\u001b[0;34m(*args, **kwds)\u001b[0m\n\u001b[1;32m     23\u001b[0m \u001b[38;5;28;01mdef\u001b[39;00m \u001b[38;5;21mf\u001b[39m(\u001b[38;5;241m*\u001b[39margs, \u001b[38;5;241m*\u001b[39m\u001b[38;5;241m*\u001b[39mkwds):\n\u001b[1;32m     24\u001b[0m     \u001b[38;5;28;01mif\u001b[39;00m obj \u001b[38;5;129;01mis\u001b[39;00m \u001b[38;5;129;01mnot\u001b[39;00m \u001b[38;5;28;01mNone\u001b[39;00m:\n\u001b[0;32m---> 25\u001b[0m         \u001b[38;5;28;01mreturn\u001b[39;00m \u001b[38;5;28mself\u001b[39m\u001b[38;5;241m.\u001b[39mfn(obj, \u001b[38;5;241m*\u001b[39margs, \u001b[38;5;241m*\u001b[39m\u001b[38;5;241m*\u001b[39mkwds)\n\u001b[1;32m     26\u001b[0m     \u001b[38;5;28;01melse\u001b[39;00m:\n\u001b[1;32m     27\u001b[0m         \u001b[38;5;28;01mreturn\u001b[39;00m \u001b[38;5;28mself\u001b[39m\u001b[38;5;241m.\u001b[39mfn(\u001b[38;5;28mcls\u001b[39m, \u001b[38;5;241m*\u001b[39margs, \u001b[38;5;241m*\u001b[39m\u001b[38;5;241m*\u001b[39mkwds)\n",
      "File \u001b[0;32m~/miniconda3/envs/MyEnv/lib/python3.11/site-packages/astroquery/mast/discovery_portal.py:362\u001b[0m, in \u001b[0;36mPortalAPI.service_request_async\u001b[0;34m(self, service, params, pagesize, page, **kwargs)\u001b[0m\n\u001b[1;32m    359\u001b[0m     mashup_request[prop] \u001b[38;5;241m=\u001b[39m value\n\u001b[1;32m    361\u001b[0m req_string \u001b[38;5;241m=\u001b[39m _prepare_service_request_string(mashup_request)\n\u001b[0;32m--> 362\u001b[0m response \u001b[38;5;241m=\u001b[39m \u001b[38;5;28mself\u001b[39m\u001b[38;5;241m.\u001b[39m_request(\u001b[38;5;124m\"\u001b[39m\u001b[38;5;124mPOST\u001b[39m\u001b[38;5;124m\"\u001b[39m, \u001b[38;5;28mself\u001b[39m\u001b[38;5;241m.\u001b[39mMAST_REQUEST_URL, data\u001b[38;5;241m=\u001b[39mreq_string, headers\u001b[38;5;241m=\u001b[39mheaders,\n\u001b[1;32m    363\u001b[0m                          retrieve_all\u001b[38;5;241m=\u001b[39mretrieve_all)\n\u001b[1;32m    365\u001b[0m \u001b[38;5;28;01mreturn\u001b[39;00m response\n",
      "File \u001b[0;32m~/miniconda3/envs/MyEnv/lib/python3.11/site-packages/astroquery/mast/discovery_portal.py:186\u001b[0m, in \u001b[0;36mPortalAPI._request\u001b[0;34m(self, method, url, params, data, headers, files, stream, auth, retrieve_all)\u001b[0m\n\u001b[1;32m    181\u001b[0m response \u001b[38;5;241m=\u001b[39m \u001b[38;5;28msuper\u001b[39m(PortalAPI, \u001b[38;5;28mself\u001b[39m)\u001b[38;5;241m.\u001b[39m_request(method, url, params\u001b[38;5;241m=\u001b[39mparams, data\u001b[38;5;241m=\u001b[39mdata,\n\u001b[1;32m    182\u001b[0m                                            headers\u001b[38;5;241m=\u001b[39mheaders, files\u001b[38;5;241m=\u001b[39mfiles, cache\u001b[38;5;241m=\u001b[39m\u001b[38;5;28;01mFalse\u001b[39;00m,\n\u001b[1;32m    183\u001b[0m                                            stream\u001b[38;5;241m=\u001b[39mstream, auth\u001b[38;5;241m=\u001b[39mauth)\n\u001b[1;32m    185\u001b[0m \u001b[38;5;28;01mif\u001b[39;00m (time\u001b[38;5;241m.\u001b[39mtime() \u001b[38;5;241m-\u001b[39m start_time) \u001b[38;5;241m>\u001b[39m\u001b[38;5;241m=\u001b[39m \u001b[38;5;28mself\u001b[39m\u001b[38;5;241m.\u001b[39mTIMEOUT:\n\u001b[0;32m--> 186\u001b[0m     \u001b[38;5;28;01mraise\u001b[39;00m \u001b[38;5;167;01mTimeoutError\u001b[39;00m(\u001b[38;5;124m\"\u001b[39m\u001b[38;5;124mTimeout limit of \u001b[39m\u001b[38;5;132;01m{}\u001b[39;00m\u001b[38;5;124m exceeded.\u001b[39m\u001b[38;5;124m\"\u001b[39m\u001b[38;5;241m.\u001b[39mformat(\u001b[38;5;28mself\u001b[39m\u001b[38;5;241m.\u001b[39mTIMEOUT))\n\u001b[1;32m    188\u001b[0m \u001b[38;5;66;03m# Raising error based on HTTP status if necessary\u001b[39;00m\n\u001b[1;32m    189\u001b[0m response\u001b[38;5;241m.\u001b[39mraise_for_status()\n",
      "\u001b[0;31mTimeoutError\u001b[0m: Timeout limit of 600 exceeded."
     ]
    }
   ],
   "source": [
    "# catalog_data = Catalogs.query_object(\"M10\", radius=.02, catalog=\"HSC\")"
   ]
  },
  {
   "cell_type": "code",
   "execution_count": 5,
   "id": "07d73126",
   "metadata": {},
   "outputs": [
    {
     "ename": "NameError",
     "evalue": "name 'catalog_data' is not defined",
     "output_type": "error",
     "traceback": [
      "\u001b[0;31m---------------------------------------------------------------------------\u001b[0m",
      "\u001b[0;31mNameError\u001b[0m                                 Traceback (most recent call last)",
      "Cell \u001b[0;32mIn[5], line 1\u001b[0m\n\u001b[0;32m----> 1\u001b[0m matchid \u001b[38;5;241m=\u001b[39m catalog_data[\u001b[38;5;241m0\u001b[39m][\u001b[38;5;124m\"\u001b[39m\u001b[38;5;124mMatchID\u001b[39m\u001b[38;5;124m\"\u001b[39m]\n",
      "\u001b[0;31mNameError\u001b[0m: name 'catalog_data' is not defined"
     ]
    }
   ],
   "source": [
    "matchid = catalog_data[0][\"MatchID\"]"
   ]
  },
  {
   "cell_type": "code",
   "execution_count": 9,
   "id": "4db71892",
   "metadata": {},
   "outputs": [
    {
     "ename": "FileNotFoundError",
     "evalue": "[Errno 2] No such file or directory: 'schawinski_GZ_2010_catalogue.fits'",
     "output_type": "error",
     "traceback": [
      "\u001b[0;31m---------------------------------------------------------------------------\u001b[0m",
      "\u001b[0;31mFileNotFoundError\u001b[0m                         Traceback (most recent call last)",
      "Cell \u001b[0;32mIn[9], line 3\u001b[0m\n\u001b[1;32m      1\u001b[0m \u001b[38;5;28;01mfrom\u001b[39;00m \u001b[38;5;21;01mastropy\u001b[39;00m\u001b[38;5;21;01m.\u001b[39;00m\u001b[38;5;21;01mio\u001b[39;00m \u001b[38;5;28;01mimport\u001b[39;00m fits\n\u001b[1;32m      2\u001b[0m \u001b[38;5;28;01mfrom\u001b[39;00m \u001b[38;5;21;01mastropy\u001b[39;00m\u001b[38;5;21;01m.\u001b[39;00m\u001b[38;5;21;01mtable\u001b[39;00m \u001b[38;5;28;01mimport\u001b[39;00m Table\n\u001b[0;32m----> 3\u001b[0m GZ_catalog \u001b[38;5;241m=\u001b[39m fits\u001b[38;5;241m.\u001b[39mopen(\u001b[38;5;124m'\u001b[39m\u001b[38;5;124mschawinski_GZ_2010_catalogue.fits\u001b[39m\u001b[38;5;124m'\u001b[39m)\n\u001b[1;32m      4\u001b[0m catalog \u001b[38;5;241m=\u001b[39m Table(GZ_catalog[\u001b[38;5;241m1\u001b[39m]\u001b[38;5;241m.\u001b[39mdata)\n\u001b[1;32m      5\u001b[0m ObjID \u001b[38;5;241m=\u001b[39m catalog[\u001b[38;5;124m'\u001b[39m\u001b[38;5;124mOBJID\u001b[39m\u001b[38;5;124m'\u001b[39m][\u001b[38;5;241m0\u001b[39m]\n",
      "File \u001b[0;32m~/miniconda3/envs/MyEnv/lib/python3.11/site-packages/astropy/io/fits/hdu/hdulist.py:213\u001b[0m, in \u001b[0;36mfitsopen\u001b[0;34m(name, mode, memmap, save_backup, cache, lazy_load_hdus, ignore_missing_simple, use_fsspec, fsspec_kwargs, **kwargs)\u001b[0m\n\u001b[1;32m    210\u001b[0m \u001b[38;5;28;01mif\u001b[39;00m \u001b[38;5;129;01mnot\u001b[39;00m name:\n\u001b[1;32m    211\u001b[0m     \u001b[38;5;28;01mraise\u001b[39;00m \u001b[38;5;167;01mValueError\u001b[39;00m(\u001b[38;5;124mf\u001b[39m\u001b[38;5;124m\"\u001b[39m\u001b[38;5;124mEmpty filename: \u001b[39m\u001b[38;5;132;01m{\u001b[39;00mname\u001b[38;5;132;01m!r}\u001b[39;00m\u001b[38;5;124m\"\u001b[39m)\n\u001b[0;32m--> 213\u001b[0m \u001b[38;5;28;01mreturn\u001b[39;00m HDUList\u001b[38;5;241m.\u001b[39mfromfile(\n\u001b[1;32m    214\u001b[0m     name,\n\u001b[1;32m    215\u001b[0m     mode,\n\u001b[1;32m    216\u001b[0m     memmap,\n\u001b[1;32m    217\u001b[0m     save_backup,\n\u001b[1;32m    218\u001b[0m     cache,\n\u001b[1;32m    219\u001b[0m     lazy_load_hdus,\n\u001b[1;32m    220\u001b[0m     ignore_missing_simple,\n\u001b[1;32m    221\u001b[0m     use_fsspec\u001b[38;5;241m=\u001b[39muse_fsspec,\n\u001b[1;32m    222\u001b[0m     fsspec_kwargs\u001b[38;5;241m=\u001b[39mfsspec_kwargs,\n\u001b[1;32m    223\u001b[0m     \u001b[38;5;241m*\u001b[39m\u001b[38;5;241m*\u001b[39mkwargs,\n\u001b[1;32m    224\u001b[0m )\n",
      "File \u001b[0;32m~/miniconda3/envs/MyEnv/lib/python3.11/site-packages/astropy/io/fits/hdu/hdulist.py:476\u001b[0m, in \u001b[0;36mHDUList.fromfile\u001b[0;34m(cls, fileobj, mode, memmap, save_backup, cache, lazy_load_hdus, ignore_missing_simple, **kwargs)\u001b[0m\n\u001b[1;32m    457\u001b[0m \u001b[38;5;129m@classmethod\u001b[39m\n\u001b[1;32m    458\u001b[0m \u001b[38;5;28;01mdef\u001b[39;00m \u001b[38;5;21mfromfile\u001b[39m(\n\u001b[1;32m    459\u001b[0m     \u001b[38;5;28mcls\u001b[39m,\n\u001b[0;32m   (...)\u001b[0m\n\u001b[1;32m    467\u001b[0m     \u001b[38;5;241m*\u001b[39m\u001b[38;5;241m*\u001b[39mkwargs,\n\u001b[1;32m    468\u001b[0m ):\n\u001b[1;32m    469\u001b[0m \u001b[38;5;250m    \u001b[39m\u001b[38;5;124;03m\"\"\"\u001b[39;00m\n\u001b[1;32m    470\u001b[0m \u001b[38;5;124;03m    Creates an `HDUList` instance from a file-like object.\u001b[39;00m\n\u001b[1;32m    471\u001b[0m \n\u001b[0;32m   (...)\u001b[0m\n\u001b[1;32m    474\u001b[0m \u001b[38;5;124;03m    documentation for details of the parameters accepted by this method).\u001b[39;00m\n\u001b[1;32m    475\u001b[0m \u001b[38;5;124;03m    \"\"\"\u001b[39;00m\n\u001b[0;32m--> 476\u001b[0m     \u001b[38;5;28;01mreturn\u001b[39;00m \u001b[38;5;28mcls\u001b[39m\u001b[38;5;241m.\u001b[39m_readfrom(\n\u001b[1;32m    477\u001b[0m         fileobj\u001b[38;5;241m=\u001b[39mfileobj,\n\u001b[1;32m    478\u001b[0m         mode\u001b[38;5;241m=\u001b[39mmode,\n\u001b[1;32m    479\u001b[0m         memmap\u001b[38;5;241m=\u001b[39mmemmap,\n\u001b[1;32m    480\u001b[0m         save_backup\u001b[38;5;241m=\u001b[39msave_backup,\n\u001b[1;32m    481\u001b[0m         cache\u001b[38;5;241m=\u001b[39mcache,\n\u001b[1;32m    482\u001b[0m         ignore_missing_simple\u001b[38;5;241m=\u001b[39mignore_missing_simple,\n\u001b[1;32m    483\u001b[0m         lazy_load_hdus\u001b[38;5;241m=\u001b[39mlazy_load_hdus,\n\u001b[1;32m    484\u001b[0m         \u001b[38;5;241m*\u001b[39m\u001b[38;5;241m*\u001b[39mkwargs,\n\u001b[1;32m    485\u001b[0m     )\n",
      "File \u001b[0;32m~/miniconda3/envs/MyEnv/lib/python3.11/site-packages/astropy/io/fits/hdu/hdulist.py:1146\u001b[0m, in \u001b[0;36mHDUList._readfrom\u001b[0;34m(cls, fileobj, data, mode, memmap, cache, lazy_load_hdus, ignore_missing_simple, use_fsspec, fsspec_kwargs, **kwargs)\u001b[0m\n\u001b[1;32m   1143\u001b[0m \u001b[38;5;28;01mif\u001b[39;00m fileobj \u001b[38;5;129;01mis\u001b[39;00m \u001b[38;5;129;01mnot\u001b[39;00m \u001b[38;5;28;01mNone\u001b[39;00m:\n\u001b[1;32m   1144\u001b[0m     \u001b[38;5;28;01mif\u001b[39;00m \u001b[38;5;129;01mnot\u001b[39;00m \u001b[38;5;28misinstance\u001b[39m(fileobj, _File):\n\u001b[1;32m   1145\u001b[0m         \u001b[38;5;66;03m# instantiate a FITS file object (ffo)\u001b[39;00m\n\u001b[0;32m-> 1146\u001b[0m         fileobj \u001b[38;5;241m=\u001b[39m _File(\n\u001b[1;32m   1147\u001b[0m             fileobj,\n\u001b[1;32m   1148\u001b[0m             mode\u001b[38;5;241m=\u001b[39mmode,\n\u001b[1;32m   1149\u001b[0m             memmap\u001b[38;5;241m=\u001b[39mmemmap,\n\u001b[1;32m   1150\u001b[0m             cache\u001b[38;5;241m=\u001b[39mcache,\n\u001b[1;32m   1151\u001b[0m             use_fsspec\u001b[38;5;241m=\u001b[39muse_fsspec,\n\u001b[1;32m   1152\u001b[0m             fsspec_kwargs\u001b[38;5;241m=\u001b[39mfsspec_kwargs,\n\u001b[1;32m   1153\u001b[0m         )\n\u001b[1;32m   1154\u001b[0m     \u001b[38;5;66;03m# The Astropy mode is determined by the _File initializer if the\u001b[39;00m\n\u001b[1;32m   1155\u001b[0m     \u001b[38;5;66;03m# supplied mode was None\u001b[39;00m\n\u001b[1;32m   1156\u001b[0m     mode \u001b[38;5;241m=\u001b[39m fileobj\u001b[38;5;241m.\u001b[39mmode\n",
      "File \u001b[0;32m~/miniconda3/envs/MyEnv/lib/python3.11/site-packages/astropy/io/fits/file.py:217\u001b[0m, in \u001b[0;36m_File.__init__\u001b[0;34m(self, fileobj, mode, memmap, overwrite, cache, use_fsspec, fsspec_kwargs)\u001b[0m\n\u001b[1;32m    215\u001b[0m     \u001b[38;5;28mself\u001b[39m\u001b[38;5;241m.\u001b[39m_open_fileobj(fileobj, mode, overwrite)\n\u001b[1;32m    216\u001b[0m \u001b[38;5;28;01melif\u001b[39;00m \u001b[38;5;28misinstance\u001b[39m(fileobj, (\u001b[38;5;28mstr\u001b[39m, \u001b[38;5;28mbytes\u001b[39m)):\n\u001b[0;32m--> 217\u001b[0m     \u001b[38;5;28mself\u001b[39m\u001b[38;5;241m.\u001b[39m_open_filename(fileobj, mode, overwrite)\n\u001b[1;32m    218\u001b[0m \u001b[38;5;28;01melse\u001b[39;00m:\n\u001b[1;32m    219\u001b[0m     \u001b[38;5;28mself\u001b[39m\u001b[38;5;241m.\u001b[39m_open_filelike(fileobj, mode, overwrite)\n",
      "File \u001b[0;32m~/miniconda3/envs/MyEnv/lib/python3.11/site-packages/astropy/io/fits/file.py:626\u001b[0m, in \u001b[0;36m_File._open_filename\u001b[0;34m(self, filename, mode, overwrite)\u001b[0m\n\u001b[1;32m    623\u001b[0m ext \u001b[38;5;241m=\u001b[39m os\u001b[38;5;241m.\u001b[39mpath\u001b[38;5;241m.\u001b[39msplitext(\u001b[38;5;28mself\u001b[39m\u001b[38;5;241m.\u001b[39mname)[\u001b[38;5;241m1\u001b[39m]\n\u001b[1;32m    625\u001b[0m \u001b[38;5;28;01mif\u001b[39;00m \u001b[38;5;129;01mnot\u001b[39;00m \u001b[38;5;28mself\u001b[39m\u001b[38;5;241m.\u001b[39m_try_read_compressed(\u001b[38;5;28mself\u001b[39m\u001b[38;5;241m.\u001b[39mname, magic, mode, ext\u001b[38;5;241m=\u001b[39mext):\n\u001b[0;32m--> 626\u001b[0m     \u001b[38;5;28mself\u001b[39m\u001b[38;5;241m.\u001b[39m_file \u001b[38;5;241m=\u001b[39m \u001b[38;5;28mopen\u001b[39m(\u001b[38;5;28mself\u001b[39m\u001b[38;5;241m.\u001b[39mname, IO_FITS_MODES[mode])\n\u001b[1;32m    627\u001b[0m     \u001b[38;5;28mself\u001b[39m\u001b[38;5;241m.\u001b[39mclose_on_error \u001b[38;5;241m=\u001b[39m \u001b[38;5;28;01mTrue\u001b[39;00m\n\u001b[1;32m    629\u001b[0m \u001b[38;5;66;03m# Make certain we're back at the beginning of the file\u001b[39;00m\n\u001b[1;32m    630\u001b[0m \u001b[38;5;66;03m# BZ2File does not support seek when the file is open for writing, but\u001b[39;00m\n\u001b[1;32m    631\u001b[0m \u001b[38;5;66;03m# when opening a file for write, bz2.BZ2File always truncates anyway.\u001b[39;00m\n",
      "\u001b[0;31mFileNotFoundError\u001b[0m: [Errno 2] No such file or directory: 'schawinski_GZ_2010_catalogue.fits'"
     ]
    }
   ],
   "source": [
    "from astropy.io import fits\n",
    "from astropy.table import Table\n",
    "GZ_catalog = fits.open('schawinski_GZ_2010_catalogue.fits')\n",
    "catalog = Table(GZ_catalog[1].data)\n",
    "ObjID = catalog['OBJID'][0]\n",
    "Morphology = catalog['GZ1_MORPHOLOGY'][0]\n",
    "RA = catalog['RA'][0]\n",
    "DEC = catalog['DEC'][0]"
   ]
  },
  {
   "cell_type": "markdown",
   "id": "b6e27387",
   "metadata": {},
   "source": [
    "https://carterrhea93.medium.com/astronomical-images-for-machine-learning-applications-b50e7f298337"
   ]
  },
  {
   "cell_type": "code",
   "execution_count": 6,
   "id": "636d984c",
   "metadata": {},
   "outputs": [
    {
     "ename": "NameError",
     "evalue": "name 'ObjID' is not defined",
     "output_type": "error",
     "traceback": [
      "\u001b[0;31m---------------------------------------------------------------------------\u001b[0m",
      "\u001b[0;31mNameError\u001b[0m                                 Traceback (most recent call last)",
      "Cell \u001b[0;32mIn[6], line 1\u001b[0m\n\u001b[0;32m----> 1\u001b[0m \u001b[38;5;28;01mfor\u001b[39;00m gal_ct \u001b[38;5;129;01min\u001b[39;00m \u001b[38;5;28mrange\u001b[39m(\u001b[38;5;28mlen\u001b[39m(ObjID)):\n\u001b[1;32m      2\u001b[0m     id_ \u001b[38;5;241m=\u001b[39m ObjID[gal_ct]\n\u001b[1;32m      3\u001b[0m     redshift_ \u001b[38;5;241m=\u001b[39m Redshift[gal_ct]\n",
      "\u001b[0;31mNameError\u001b[0m: name 'ObjID' is not defined"
     ]
    }
   ],
   "source": [
    "for gal_ct in range(len(ObjID)):\n",
    "    id_ = ObjID[gal_ct]\n",
    "    redshift_ = Redshift[gal_ct]\n",
    "    morph_ = Morphology[gal_ct]\n",
    "    bpt_ = BPT_class[gal_ct]\n",
    "    ra_ = RA[gal_ct]\n",
    "    dec_ = DEC[gal_ct]\n",
    "    pos = coords.SkyCoord(ra=ra_*u.degree, dec= dec_*u.degree, frame='fk5')\n",
    "    # Use the MAST catalog to query for Hubble observation\n",
    "    obs = Observations.query_criteria(project='HST',\n",
    "                                       filters='F160W',\n",
    "                                       instrument_name='WFC3/IR',\n",
    "                                       dataproduct_type=[\"image\"],\n",
    "                                       coordinates=pos)\n",
    "    "
   ]
  },
  {
   "cell_type": "code",
   "execution_count": 10,
   "id": "2a645a1e",
   "metadata": {},
   "outputs": [
    {
     "ename": "NameError",
     "evalue": "name 'ObjID' is not defined",
     "output_type": "error",
     "traceback": [
      "\u001b[0;31m---------------------------------------------------------------------------\u001b[0m",
      "\u001b[0;31mNameError\u001b[0m                                 Traceback (most recent call last)",
      "Cell \u001b[0;32mIn[10], line 1\u001b[0m\n\u001b[0;32m----> 1\u001b[0m \u001b[38;5;28;01mfor\u001b[39;00m gal_ct \u001b[38;5;129;01min\u001b[39;00m \u001b[38;5;28mrange\u001b[39m(\u001b[38;5;28mlen\u001b[39m(ObjID)):\n\u001b[1;32m      2\u001b[0m     id_ \u001b[38;5;241m=\u001b[39m ObjID[gal_ct]\n\u001b[1;32m      3\u001b[0m     redshift_ \u001b[38;5;241m=\u001b[39m Redshift[gal_ct]\n",
      "\u001b[0;31mNameError\u001b[0m: name 'ObjID' is not defined"
     ]
    }
   ],
   "source": [
    "for gal_ct in range(len(ObjID)):\n",
    "    id_ = ObjID[gal_ct]\n",
    "    redshift_ = Redshift[gal_ct]\n",
    "    morph_ = Morphology[gal_ct]\n",
    "    bpt_ = BPT_class[gal_ct]\n",
    "    ra_ = RA[gal_ct]\n",
    "    dec_ = DEC[gal_ct]\n",
    "    pos = coords.SkyCoord(ra=ra_*u.degree, dec= dec_*u.degree, frame='fk5')\n",
    "    # Use the MAST catalog to query for Hubble observation\n",
    "    obs = Observations.query_criteria(project='HST',\n",
    "                                       filters='F160W',\n",
    "                                       instrument_name='WFC3/IR',\n",
    "                                       dataproduct_type=[\"image\"],\n",
    "                                       coordinates=pos)\n",
    "    \n",
    "    if obs:  # If there exists Hubble F160W data\n",
    "        for ob in obs:  \n",
    "            # Get data inform\n",
    "            data_products = Observations.get_product_list(ob['obsid'])\n",
    "             # Download\n",
    "            manifest = Observations.download_products(data_products, \n",
    "                                                      download_dir='HST/'+ob['obsid']+'-'+ob['filters'], \n",
    "                                                      productType='SCIENCE', \n",
    "                                                      extension='fits', \n",
    "                                                      productSubGroupDescription='DRZ')"
   ]
  },
  {
   "cell_type": "markdown",
   "id": "a9317039",
   "metadata": {},
   "source": [
    "https://github.com/astropy/astroquery/blob/5162427673bf2c65b484c548cdaea5979676229a/docs/gallery-examples/example10_mast.py#L11"
   ]
  },
  {
   "cell_type": "code",
   "execution_count": 12,
   "id": "f9426406",
   "metadata": {},
   "outputs": [
    {
     "name": "stdout",
     "output_type": "stream",
     "text": [
      "INFO: 483 of 1035 products were duplicates. Only downloading 552 unique product(s). [astroquery.mast.observations]\n",
      "Downloading URL https://mast.stsci.edu/api/v0.1/Download/file?uri=mast:HLA/url/cgi-bin/getdata.cgi?dataset=hst_11360_61_wfc3_uvis_f336w_01_drz.fits to ./mastDownload/HLA/hst_11360_61_wfc3_uvis_f336w_01/hst_11360_61_wfc3_uvis_f336w_01_drz.fits ... [Done]\n",
      "Downloading URL https://mast.stsci.edu/api/v0.1/Download/file?uri=mast:HLA/url/cgi-bin/getdata.cgi?dataset=hst_11360_61_wfc3_uvis_f336w_02_drz.fits to ./mastDownload/HLA/hst_11360_61_wfc3_uvis_f336w_02/hst_11360_61_wfc3_uvis_f336w_02_drz.fits ... [Done]\n",
      "Downloading URL https://mast.stsci.edu/api/v0.1/Download/file?uri=mast:HLA/url/cgi-bin/getdata.cgi?dataset=hst_11360_61_wfc3_uvis_f336w_03_drz.fits to ./mastDownload/HLA/hst_11360_61_wfc3_uvis_f336w_03/hst_11360_61_wfc3_uvis_f336w_03_drz.fits ... [Done]\n",
      "Downloading URL https://mast.stsci.edu/api/v0.1/Download/file?uri=mast:HLA/url/cgi-bin/getdata.cgi?dataset=hst_11360_61_wfc3_uvis_f336w_drz.fits to ./mastDownload/HLA/hst_11360_61_wfc3_uvis_f336w/hst_11360_61_wfc3_uvis_f336w_drz.fits ... [Done]\n",
      "Downloading URL https://mast.stsci.edu/api/v0.1/Download/file?uri=mast:HLA/url/cgi-bin/getdata.cgi?dataset=hst_11360_62_wfc3_uvis_f487n_01_drz.fits to ./mastDownload/HLA/hst_11360_62_wfc3_uvis_f487n_01/hst_11360_62_wfc3_uvis_f487n_01_drz.fits ... [Done]\n",
      "Downloading URL https://mast.stsci.edu/api/v0.1/Download/file?uri=mast:HLA/url/cgi-bin/getdata.cgi?dataset=hst_11360_62_wfc3_uvis_f487n_02_drz.fits to ./mastDownload/HLA/hst_11360_62_wfc3_uvis_f487n_02/hst_11360_62_wfc3_uvis_f487n_02_drz.fits ... [Done]\n",
      "Downloading URL https://mast.stsci.edu/api/v0.1/Download/file?uri=mast:HLA/url/cgi-bin/getdata.cgi?dataset=hst_11360_62_wfc3_uvis_f487n_03_drz.fits to ./mastDownload/HLA/hst_11360_62_wfc3_uvis_f487n_03/hst_11360_62_wfc3_uvis_f487n_03_drz.fits ... [Done]\n",
      "Downloading URL https://mast.stsci.edu/api/v0.1/Download/file?uri=mast:HLA/url/cgi-bin/getdata.cgi?dataset=hst_11360_62_wfc3_uvis_f487n_drz.fits to ./mastDownload/HLA/hst_11360_62_wfc3_uvis_f487n/hst_11360_62_wfc3_uvis_f487n_drz.fits ... [Done]\n",
      "Downloading URL https://mast.stsci.edu/api/v0.1/Download/file?uri=mast:HLA/url/cgi-bin/getdata.cgi?dataset=hst_11360_62_wfc3_uvis_f657n_01_drz.fits to ./mastDownload/HLA/hst_11360_62_wfc3_uvis_f657n_01/hst_11360_62_wfc3_uvis_f657n_01_drz.fits ... [Done]\n",
      "Downloading URL https://mast.stsci.edu/api/v0.1/Download/file?uri=mast:HLA/url/cgi-bin/getdata.cgi?dataset=hst_11360_62_wfc3_uvis_f657n_02_drz.fits to ./mastDownload/HLA/hst_11360_62_wfc3_uvis_f657n_02/hst_11360_62_wfc3_uvis_f657n_02_drz.fits ... [Done]\n",
      "Downloading URL https://mast.stsci.edu/api/v0.1/Download/file?uri=mast:HLA/url/cgi-bin/getdata.cgi?dataset=hst_11360_62_wfc3_uvis_f657n_03_drz.fits to ./mastDownload/HLA/hst_11360_62_wfc3_uvis_f657n_03/hst_11360_62_wfc3_uvis_f657n_03_drz.fits ... [Done]\n",
      "Downloading URL https://mast.stsci.edu/api/v0.1/Download/file?uri=mast:HLA/url/cgi-bin/getdata.cgi?dataset=hst_11360_62_wfc3_uvis_f657n_04_drz.fits to ./mastDownload/HLA/hst_11360_62_wfc3_uvis_f657n_04/hst_11360_62_wfc3_uvis_f657n_04_drz.fits ... [Done]\n",
      "Downloading URL https://mast.stsci.edu/api/v0.1/Download/file?uri=mast:HLA/url/cgi-bin/getdata.cgi?dataset=hst_11360_62_wfc3_uvis_f657n_drz.fits to ./mastDownload/HLA/hst_11360_62_wfc3_uvis_f657n/hst_11360_62_wfc3_uvis_f657n_drz.fits ... [Done]\n",
      "Downloading URL https://mast.stsci.edu/api/v0.1/Download/file?uri=mast:HLA/url/cgi-bin/getdata.cgi?download=1&filename=hst_11360_61_wfc3_uvis_f336w_daophot_trm.cat to ./mastDownload/HLA/hst_11360_61_wfc3_uvis_f336w/hst_11360_61_wfc3_uvis_f336w_daophot_trm.cat ... [Done]\n",
      "Downloading URL https://mast.stsci.edu/api/v0.1/Download/file?uri=mast:HLA/url/cgi-bin/getdata.cgi?download=1&filename=hst_11360_61_wfc3_uvis_f336w_sexphot_trm.cat to ./mastDownload/HLA/hst_11360_61_wfc3_uvis_f336w/hst_11360_61_wfc3_uvis_f336w_sexphot_trm.cat ... [Done]\n",
      "Downloading URL https://mast.stsci.edu/api/v0.1/Download/file?uri=mast:HLA/url/cgi-bin/getdata.cgi?download=1&filename=hst_11360_62_wfc3_uvis_f487n_daophot_trm.cat to ./mastDownload/HLA/hst_11360_62_wfc3_uvis_f487n/hst_11360_62_wfc3_uvis_f487n_daophot_trm.cat ... [Done]\n",
      "Downloading URL https://mast.stsci.edu/api/v0.1/Download/file?uri=mast:HLA/url/cgi-bin/getdata.cgi?download=1&filename=hst_11360_62_wfc3_uvis_f487n_sexphot_trm.cat to ./mastDownload/HLA/hst_11360_62_wfc3_uvis_f487n/hst_11360_62_wfc3_uvis_f487n_sexphot_trm.cat ... [Done]\n",
      "Downloading URL https://mast.stsci.edu/api/v0.1/Download/file?uri=mast:HLA/url/cgi-bin/getdata.cgi?download=1&filename=hst_11360_62_wfc3_uvis_f657n_daophot_trm.cat to ./mastDownload/HLA/hst_11360_62_wfc3_uvis_f657n/hst_11360_62_wfc3_uvis_f657n_daophot_trm.cat ... [Done]\n",
      "Downloading URL https://mast.stsci.edu/api/v0.1/Download/file?uri=mast:HLA/url/cgi-bin/getdata.cgi?download=1&filename=hst_11360_62_wfc3_uvis_f657n_sexphot_trm.cat to ./mastDownload/HLA/hst_11360_62_wfc3_uvis_f657n/hst_11360_62_wfc3_uvis_f657n_sexphot_trm.cat ... [Done]\n",
      "Downloading URL https://mast.stsci.edu/api/v0.1/Download/file?uri=mast:HLA/url/cgi-bin/preview.cgi?dataset=hst_11360_61_wfc3_uvis_f336w to ./mastDownload/HLA/hst_11360_61_wfc3_uvis_f336w/hst_11360_61_wfc3_uvis_f336w_drz.jpg ... [Done]\n",
      "Downloading URL https://mast.stsci.edu/api/v0.1/Download/file?uri=mast:HLA/url/cgi-bin/preview.cgi?dataset=hst_11360_61_wfc3_uvis_f336w_01 to ./mastDownload/HLA/hst_11360_61_wfc3_uvis_f336w_01/hst_11360_61_wfc3_uvis_f336w_01_drz.jpg ... [Done]\n",
      "Downloading URL https://mast.stsci.edu/api/v0.1/Download/file?uri=mast:HLA/url/cgi-bin/preview.cgi?dataset=hst_11360_61_wfc3_uvis_f336w_02 to ./mastDownload/HLA/hst_11360_61_wfc3_uvis_f336w_02/hst_11360_61_wfc3_uvis_f336w_02_drz.jpg ... [Done]\n",
      "Downloading URL https://mast.stsci.edu/api/v0.1/Download/file?uri=mast:HLA/url/cgi-bin/preview.cgi?dataset=hst_11360_61_wfc3_uvis_f336w_03 to ./mastDownload/HLA/hst_11360_61_wfc3_uvis_f336w_03/hst_11360_61_wfc3_uvis_f336w_03_drz.jpg ... [Done]\n",
      "Downloading URL https://mast.stsci.edu/api/v0.1/Download/file?uri=mast:HLA/url/cgi-bin/preview.cgi?dataset=hst_11360_62_wfc3_uvis_f487n to ./mastDownload/HLA/hst_11360_62_wfc3_uvis_f487n/hst_11360_62_wfc3_uvis_f487n_drz.jpg ... [Done]\n",
      "Downloading URL https://mast.stsci.edu/api/v0.1/Download/file?uri=mast:HLA/url/cgi-bin/preview.cgi?dataset=hst_11360_62_wfc3_uvis_f487n_01 to ./mastDownload/HLA/hst_11360_62_wfc3_uvis_f487n_01/hst_11360_62_wfc3_uvis_f487n_01_drz.jpg ... [Done]\n",
      "Downloading URL https://mast.stsci.edu/api/v0.1/Download/file?uri=mast:HLA/url/cgi-bin/preview.cgi?dataset=hst_11360_62_wfc3_uvis_f487n_02 to ./mastDownload/HLA/hst_11360_62_wfc3_uvis_f487n_02/hst_11360_62_wfc3_uvis_f487n_02_drz.jpg ... [Done]\n",
      "Downloading URL https://mast.stsci.edu/api/v0.1/Download/file?uri=mast:HLA/url/cgi-bin/preview.cgi?dataset=hst_11360_62_wfc3_uvis_f487n_03 to ./mastDownload/HLA/hst_11360_62_wfc3_uvis_f487n_03/hst_11360_62_wfc3_uvis_f487n_03_drz.jpg ... [Done]\n",
      "Downloading URL https://mast.stsci.edu/api/v0.1/Download/file?uri=mast:HLA/url/cgi-bin/preview.cgi?dataset=hst_11360_62_wfc3_uvis_f657n to ./mastDownload/HLA/hst_11360_62_wfc3_uvis_f657n/hst_11360_62_wfc3_uvis_f657n_drz.jpg ... [Done]\n",
      "Downloading URL https://mast.stsci.edu/api/v0.1/Download/file?uri=mast:HLA/url/cgi-bin/preview.cgi?dataset=hst_11360_62_wfc3_uvis_f657n_01 to ./mastDownload/HLA/hst_11360_62_wfc3_uvis_f657n_01/hst_11360_62_wfc3_uvis_f657n_01_drz.jpg ... [Done]\n",
      "Downloading URL https://mast.stsci.edu/api/v0.1/Download/file?uri=mast:HLA/url/cgi-bin/preview.cgi?dataset=hst_11360_62_wfc3_uvis_f657n_02 to ./mastDownload/HLA/hst_11360_62_wfc3_uvis_f657n_02/hst_11360_62_wfc3_uvis_f657n_02_drz.jpg ... [Done]\n",
      "Downloading URL https://mast.stsci.edu/api/v0.1/Download/file?uri=mast:HLA/url/cgi-bin/preview.cgi?dataset=hst_11360_62_wfc3_uvis_f657n_03 to ./mastDownload/HLA/hst_11360_62_wfc3_uvis_f657n_03/hst_11360_62_wfc3_uvis_f657n_03_drz.jpg ... [Done]\n",
      "Downloading URL https://mast.stsci.edu/api/v0.1/Download/file?uri=mast:HLA/url/cgi-bin/preview.cgi?dataset=hst_11360_62_wfc3_uvis_f657n_04 to ./mastDownload/HLA/hst_11360_62_wfc3_uvis_f657n_04/hst_11360_62_wfc3_uvis_f657n_04_drz.jpg ... [Done]\n"
     ]
    },
    {
     "name": "stdout",
     "output_type": "stream",
     "text": [
      "Downloading URL https://mast.stsci.edu/api/v0.1/Download/file?uri=mast:HST/product/hst_11360_61_wfc3_uvis_f336w_ib6w61_drc.fits to ./mastDownload/HST/hst_11360_61_wfc3_uvis_f336w_ib6w61/hst_11360_61_wfc3_uvis_f336w_ib6w61_drc.fits ... [Done]\n",
      "Downloading URL https://mast.stsci.edu/api/v0.1/Download/file?uri=mast:HST/product/hst_11360_61_wfc3_uvis_f336w_ib6w61_drc.jpg to ./mastDownload/HST/hst_11360_61_wfc3_uvis_f336w_ib6w61/hst_11360_61_wfc3_uvis_f336w_ib6w61_drc.jpg ... [Done]\n",
      "Downloading URL https://mast.stsci.edu/api/v0.1/Download/file?uri=mast:HST/product/hst_11360_61_wfc3_uvis_f336w_ib6w61_point-cat.ecsv to ./mastDownload/HST/hst_11360_61_wfc3_uvis_f336w_ib6w61/hst_11360_61_wfc3_uvis_f336w_ib6w61_point-cat.ecsv ... [Done]\n",
      "Downloading URL https://mast.stsci.edu/api/v0.1/Download/file?uri=mast:HST/product/hst_11360_61_wfc3_uvis_f336w_ib6w61_segment-cat.ecsv to ./mastDownload/HST/hst_11360_61_wfc3_uvis_f336w_ib6w61/hst_11360_61_wfc3_uvis_f336w_ib6w61_segment-cat.ecsv ... [Done]\n",
      "Downloading URL https://mast.stsci.edu/api/v0.1/Download/file?uri=mast:HST/product/hst_11360_61_wfc3_uvis_f336w_ib6w61_trl.txt to ./mastDownload/HST/hst_11360_61_wfc3_uvis_f336w_ib6w61/hst_11360_61_wfc3_uvis_f336w_ib6w61_trl.txt ... [Done]\n",
      "Downloading URL https://mast.stsci.edu/api/v0.1/Download/file?uri=mast:HST/product/hst_11360_61_wfc3_uvis_f336w_ib6w61ud_drc.fits to ./mastDownload/HST/hst_11360_61_wfc3_uvis_f336w_ib6w61ud/hst_11360_61_wfc3_uvis_f336w_ib6w61ud_drc.fits ... [Done]\n",
      "Downloading URL https://mast.stsci.edu/api/v0.1/Download/file?uri=mast:HST/product/hst_11360_61_wfc3_uvis_f336w_ib6w61ud_drc.jpg to ./mastDownload/HST/hst_11360_61_wfc3_uvis_f336w_ib6w61ud/hst_11360_61_wfc3_uvis_f336w_ib6w61ud_drc.jpg ... [Done]\n",
      "Downloading URL https://mast.stsci.edu/api/v0.1/Download/file?uri=mast:HST/product/hst_11360_61_wfc3_uvis_f336w_ib6w61ud_flc.fits to ./mastDownload/HST/hst_11360_61_wfc3_uvis_f336w_ib6w61ud/hst_11360_61_wfc3_uvis_f336w_ib6w61ud_flc.fits ... [Done]\n",
      "Downloading URL https://mast.stsci.edu/api/v0.1/Download/file?uri=mast:HST/product/hst_11360_61_wfc3_uvis_f336w_ib6w61ud_hlet.fits to ./mastDownload/HST/hst_11360_61_wfc3_uvis_f336w_ib6w61ud/hst_11360_61_wfc3_uvis_f336w_ib6w61ud_hlet.fits ... [Done]\n",
      "Downloading URL https://mast.stsci.edu/api/v0.1/Download/file?uri=mast:HST/product/hst_11360_61_wfc3_uvis_f336w_ib6w61ud_trl.txt to ./mastDownload/HST/hst_11360_61_wfc3_uvis_f336w_ib6w61ud/hst_11360_61_wfc3_uvis_f336w_ib6w61ud_trl.txt ... [Done]\n",
      "Downloading URL https://mast.stsci.edu/api/v0.1/Download/file?uri=mast:HST/product/hst_11360_61_wfc3_uvis_f336w_ib6w61uq_drc.fits to ./mastDownload/HST/hst_11360_61_wfc3_uvis_f336w_ib6w61uq/hst_11360_61_wfc3_uvis_f336w_ib6w61uq_drc.fits ... [Done]\n",
      "Downloading URL https://mast.stsci.edu/api/v0.1/Download/file?uri=mast:HST/product/hst_11360_61_wfc3_uvis_f336w_ib6w61uq_drc.jpg to ./mastDownload/HST/hst_11360_61_wfc3_uvis_f336w_ib6w61uq/hst_11360_61_wfc3_uvis_f336w_ib6w61uq_drc.jpg ... [Done]\n",
      "Downloading URL https://mast.stsci.edu/api/v0.1/Download/file?uri=mast:HST/product/hst_11360_61_wfc3_uvis_f336w_ib6w61uq_flc.fits to ./mastDownload/HST/hst_11360_61_wfc3_uvis_f336w_ib6w61uq/hst_11360_61_wfc3_uvis_f336w_ib6w61uq_flc.fits ... [Done]\n",
      "Downloading URL https://mast.stsci.edu/api/v0.1/Download/file?uri=mast:HST/product/hst_11360_61_wfc3_uvis_f336w_ib6w61uq_hlet.fits to ./mastDownload/HST/hst_11360_61_wfc3_uvis_f336w_ib6w61uq/hst_11360_61_wfc3_uvis_f336w_ib6w61uq_hlet.fits ... [Done]\n",
      "Downloading URL https://mast.stsci.edu/api/v0.1/Download/file?uri=mast:HST/product/hst_11360_61_wfc3_uvis_f336w_ib6w61uq_trl.txt to ./mastDownload/HST/hst_11360_61_wfc3_uvis_f336w_ib6w61uq/hst_11360_61_wfc3_uvis_f336w_ib6w61uq_trl.txt ... [Done]\n",
      "Downloading URL https://mast.stsci.edu/api/v0.1/Download/file?uri=mast:HST/product/hst_11360_61_wfc3_uvis_f336w_ib6w61v3_drc.fits to ./mastDownload/HST/hst_11360_61_wfc3_uvis_f336w_ib6w61v3/hst_11360_61_wfc3_uvis_f336w_ib6w61v3_drc.fits ... [Done]\n",
      "Downloading URL https://mast.stsci.edu/api/v0.1/Download/file?uri=mast:HST/product/hst_11360_61_wfc3_uvis_f336w_ib6w61v3_drc.jpg to ./mastDownload/HST/hst_11360_61_wfc3_uvis_f336w_ib6w61v3/hst_11360_61_wfc3_uvis_f336w_ib6w61v3_drc.jpg ... [Done]\n",
      "Downloading URL https://mast.stsci.edu/api/v0.1/Download/file?uri=mast:HST/product/hst_11360_61_wfc3_uvis_f336w_ib6w61v3_flc.fits to ./mastDownload/HST/hst_11360_61_wfc3_uvis_f336w_ib6w61v3/hst_11360_61_wfc3_uvis_f336w_ib6w61v3_flc.fits ... [Done]\n",
      "Downloading URL https://mast.stsci.edu/api/v0.1/Download/file?uri=mast:HST/product/hst_11360_61_wfc3_uvis_f336w_ib6w61v3_hlet.fits to ./mastDownload/HST/hst_11360_61_wfc3_uvis_f336w_ib6w61v3/hst_11360_61_wfc3_uvis_f336w_ib6w61v3_hlet.fits ... [Done]\n",
      "Downloading URL https://mast.stsci.edu/api/v0.1/Download/file?uri=mast:HST/product/hst_11360_61_wfc3_uvis_f336w_ib6w61v3_trl.txt to ./mastDownload/HST/hst_11360_61_wfc3_uvis_f336w_ib6w61v3/hst_11360_61_wfc3_uvis_f336w_ib6w61v3_trl.txt ... [Done]\n",
      "Downloading URL https://mast.stsci.edu/api/v0.1/Download/file?uri=mast:HST/product/hst_11360_61_wfc3_uvis_total_ib6w61_drc.fits to ./mastDownload/HST/hst_11360_61_wfc3_uvis_total_ib6w61/hst_11360_61_wfc3_uvis_total_ib6w61_drc.fits ... [Done]\n",
      "Downloading URL https://mast.stsci.edu/api/v0.1/Download/file?uri=mast:HST/product/hst_11360_61_wfc3_uvis_total_ib6w61_drc.jpg to ./mastDownload/HST/hst_11360_61_wfc3_uvis_total_ib6w61/hst_11360_61_wfc3_uvis_total_ib6w61_drc.jpg ... [Done]\n",
      "Downloading URL https://mast.stsci.edu/api/v0.1/Download/file?uri=mast:HST/product/hst_11360_61_wfc3_uvis_total_ib6w61_point-cat.ecsv to ./mastDownload/HST/hst_11360_61_wfc3_uvis_total_ib6w61/hst_11360_61_wfc3_uvis_total_ib6w61_point-cat.ecsv ... [Done]\n",
      "Downloading URL https://mast.stsci.edu/api/v0.1/Download/file?uri=mast:HST/product/hst_11360_61_wfc3_uvis_total_ib6w61_segment-cat.ecsv to ./mastDownload/HST/hst_11360_61_wfc3_uvis_total_ib6w61/hst_11360_61_wfc3_uvis_total_ib6w61_segment-cat.ecsv ... [Done]\n",
      "Downloading URL https://mast.stsci.edu/api/v0.1/Download/file?uri=mast:HST/product/hst_11360_61_wfc3_uvis_total_ib6w61_trl.txt to ./mastDownload/HST/hst_11360_61_wfc3_uvis_total_ib6w61/hst_11360_61_wfc3_uvis_total_ib6w61_trl.txt ... [Done]\n",
      "Downloading URL https://mast.stsci.edu/api/v0.1/Download/file?uri=mast:HST/product/hst_11360_62_wfc3_uvis_f487n_ib6w62_drc.fits to ./mastDownload/HST/hst_11360_62_wfc3_uvis_f487n_ib6w62/hst_11360_62_wfc3_uvis_f487n_ib6w62_drc.fits ... [Done]\n",
      "Downloading URL https://mast.stsci.edu/api/v0.1/Download/file?uri=mast:HST/product/hst_11360_62_wfc3_uvis_f487n_ib6w62_drc.jpg to ./mastDownload/HST/hst_11360_62_wfc3_uvis_f487n_ib6w62/hst_11360_62_wfc3_uvis_f487n_ib6w62_drc.jpg ... [Done]\n",
      "Downloading URL https://mast.stsci.edu/api/v0.1/Download/file?uri=mast:HST/product/hst_11360_62_wfc3_uvis_f487n_ib6w62_point-cat.ecsv to ./mastDownload/HST/hst_11360_62_wfc3_uvis_f487n_ib6w62/hst_11360_62_wfc3_uvis_f487n_ib6w62_point-cat.ecsv ... [Done]\n",
      "Downloading URL https://mast.stsci.edu/api/v0.1/Download/file?uri=mast:HST/product/hst_11360_62_wfc3_uvis_f487n_ib6w62_segment-cat.ecsv to ./mastDownload/HST/hst_11360_62_wfc3_uvis_f487n_ib6w62/hst_11360_62_wfc3_uvis_f487n_ib6w62_segment-cat.ecsv ... [Done]\n",
      "Downloading URL https://mast.stsci.edu/api/v0.1/Download/file?uri=mast:HST/product/hst_11360_62_wfc3_uvis_f487n_ib6w62_trl.txt to ./mastDownload/HST/hst_11360_62_wfc3_uvis_f487n_ib6w62/hst_11360_62_wfc3_uvis_f487n_ib6w62_trl.txt ... [Done]\n",
      "Downloading URL https://mast.stsci.edu/api/v0.1/Download/file?uri=mast:HST/product/hst_11360_62_wfc3_uvis_f487n_ib6w62s6_drc.fits to ./mastDownload/HST/hst_11360_62_wfc3_uvis_f487n_ib6w62s6/hst_11360_62_wfc3_uvis_f487n_ib6w62s6_drc.fits ... [Done]\n",
      "Downloading URL https://mast.stsci.edu/api/v0.1/Download/file?uri=mast:HST/product/hst_11360_62_wfc3_uvis_f487n_ib6w62s6_drc.jpg to ./mastDownload/HST/hst_11360_62_wfc3_uvis_f487n_ib6w62s6/hst_11360_62_wfc3_uvis_f487n_ib6w62s6_drc.jpg ... [Done]\n",
      "Downloading URL https://mast.stsci.edu/api/v0.1/Download/file?uri=mast:HST/product/hst_11360_62_wfc3_uvis_f487n_ib6w62s6_flc.fits to ./mastDownload/HST/hst_11360_62_wfc3_uvis_f487n_ib6w62s6/hst_11360_62_wfc3_uvis_f487n_ib6w62s6_flc.fits ... [Done]\n"
     ]
    },
    {
     "name": "stdout",
     "output_type": "stream",
     "text": [
      "Downloading URL https://mast.stsci.edu/api/v0.1/Download/file?uri=mast:HST/product/hst_11360_62_wfc3_uvis_f487n_ib6w62s6_hlet.fits to ./mastDownload/HST/hst_11360_62_wfc3_uvis_f487n_ib6w62s6/hst_11360_62_wfc3_uvis_f487n_ib6w62s6_hlet.fits ... [Done]\n",
      "Downloading URL https://mast.stsci.edu/api/v0.1/Download/file?uri=mast:HST/product/hst_11360_62_wfc3_uvis_f487n_ib6w62s6_trl.txt to ./mastDownload/HST/hst_11360_62_wfc3_uvis_f487n_ib6w62s6/hst_11360_62_wfc3_uvis_f487n_ib6w62s6_trl.txt ... [Done]\n",
      "Downloading URL https://mast.stsci.edu/api/v0.1/Download/file?uri=mast:HST/product/hst_11360_62_wfc3_uvis_f487n_ib6w62s8_drc.fits to ./mastDownload/HST/hst_11360_62_wfc3_uvis_f487n_ib6w62s8/hst_11360_62_wfc3_uvis_f487n_ib6w62s8_drc.fits ... [Done]\n",
      "Downloading URL https://mast.stsci.edu/api/v0.1/Download/file?uri=mast:HST/product/hst_11360_62_wfc3_uvis_f487n_ib6w62s8_drc.jpg to ./mastDownload/HST/hst_11360_62_wfc3_uvis_f487n_ib6w62s8/hst_11360_62_wfc3_uvis_f487n_ib6w62s8_drc.jpg ... [Done]\n",
      "Downloading URL https://mast.stsci.edu/api/v0.1/Download/file?uri=mast:HST/product/hst_11360_62_wfc3_uvis_f487n_ib6w62s8_flc.fits to ./mastDownload/HST/hst_11360_62_wfc3_uvis_f487n_ib6w62s8/hst_11360_62_wfc3_uvis_f487n_ib6w62s8_flc.fits ... [Done]\n",
      "Downloading URL https://mast.stsci.edu/api/v0.1/Download/file?uri=mast:HST/product/hst_11360_62_wfc3_uvis_f487n_ib6w62s8_hlet.fits to ./mastDownload/HST/hst_11360_62_wfc3_uvis_f487n_ib6w62s8/hst_11360_62_wfc3_uvis_f487n_ib6w62s8_hlet.fits ... [Done]\n",
      "Downloading URL https://mast.stsci.edu/api/v0.1/Download/file?uri=mast:HST/product/hst_11360_62_wfc3_uvis_f487n_ib6w62s8_trl.txt to ./mastDownload/HST/hst_11360_62_wfc3_uvis_f487n_ib6w62s8/hst_11360_62_wfc3_uvis_f487n_ib6w62s8_trl.txt ... [Done]\n",
      "Downloading URL https://mast.stsci.edu/api/v0.1/Download/file?uri=mast:HST/product/hst_11360_62_wfc3_uvis_f487n_ib6w62s9_drc.fits to ./mastDownload/HST/hst_11360_62_wfc3_uvis_f487n_ib6w62s9/hst_11360_62_wfc3_uvis_f487n_ib6w62s9_drc.fits ... [Done]\n",
      "Downloading URL https://mast.stsci.edu/api/v0.1/Download/file?uri=mast:HST/product/hst_11360_62_wfc3_uvis_f487n_ib6w62s9_drc.jpg to ./mastDownload/HST/hst_11360_62_wfc3_uvis_f487n_ib6w62s9/hst_11360_62_wfc3_uvis_f487n_ib6w62s9_drc.jpg ... [Done]\n",
      "Downloading URL https://mast.stsci.edu/api/v0.1/Download/file?uri=mast:HST/product/hst_11360_62_wfc3_uvis_f487n_ib6w62s9_flc.fits to ./mastDownload/HST/hst_11360_62_wfc3_uvis_f487n_ib6w62s9/hst_11360_62_wfc3_uvis_f487n_ib6w62s9_flc.fits ... [Done]\n",
      "Downloading URL https://mast.stsci.edu/api/v0.1/Download/file?uri=mast:HST/product/hst_11360_62_wfc3_uvis_f487n_ib6w62s9_hlet.fits to ./mastDownload/HST/hst_11360_62_wfc3_uvis_f487n_ib6w62s9/hst_11360_62_wfc3_uvis_f487n_ib6w62s9_hlet.fits ... [Done]\n",
      "Downloading URL https://mast.stsci.edu/api/v0.1/Download/file?uri=mast:HST/product/hst_11360_62_wfc3_uvis_f487n_ib6w62s9_trl.txt to ./mastDownload/HST/hst_11360_62_wfc3_uvis_f487n_ib6w62s9/hst_11360_62_wfc3_uvis_f487n_ib6w62s9_trl.txt ... [Done]\n",
      "Downloading URL https://mast.stsci.edu/api/v0.1/Download/file?uri=mast:HST/product/hst_11360_62_wfc3_uvis_f657n_ib6w62_drc.fits to ./mastDownload/HST/hst_11360_62_wfc3_uvis_f657n_ib6w62/hst_11360_62_wfc3_uvis_f657n_ib6w62_drc.fits ... [Done]\n",
      "Downloading URL https://mast.stsci.edu/api/v0.1/Download/file?uri=mast:HST/product/hst_11360_62_wfc3_uvis_f657n_ib6w62_drc.jpg to ./mastDownload/HST/hst_11360_62_wfc3_uvis_f657n_ib6w62/hst_11360_62_wfc3_uvis_f657n_ib6w62_drc.jpg ... [Done]\n",
      "Downloading URL https://mast.stsci.edu/api/v0.1/Download/file?uri=mast:HST/product/hst_11360_62_wfc3_uvis_f657n_ib6w62_point-cat.ecsv to ./mastDownload/HST/hst_11360_62_wfc3_uvis_f657n_ib6w62/hst_11360_62_wfc3_uvis_f657n_ib6w62_point-cat.ecsv ... [Done]\n",
      "Downloading URL https://mast.stsci.edu/api/v0.1/Download/file?uri=mast:HST/product/hst_11360_62_wfc3_uvis_f657n_ib6w62_segment-cat.ecsv to ./mastDownload/HST/hst_11360_62_wfc3_uvis_f657n_ib6w62/hst_11360_62_wfc3_uvis_f657n_ib6w62_segment-cat.ecsv ... [Done]\n",
      "Downloading URL https://mast.stsci.edu/api/v0.1/Download/file?uri=mast:HST/product/hst_11360_62_wfc3_uvis_f657n_ib6w62_trl.txt to ./mastDownload/HST/hst_11360_62_wfc3_uvis_f657n_ib6w62/hst_11360_62_wfc3_uvis_f657n_ib6w62_trl.txt ... [Done]\n",
      "Downloading URL https://mast.stsci.edu/api/v0.1/Download/file?uri=mast:HST/product/hst_11360_62_wfc3_uvis_f657n_ib6w62s0_drc.fits to ./mastDownload/HST/hst_11360_62_wfc3_uvis_f657n_ib6w62s0/hst_11360_62_wfc3_uvis_f657n_ib6w62s0_drc.fits ... [Done]\n",
      "Downloading URL https://mast.stsci.edu/api/v0.1/Download/file?uri=mast:HST/product/hst_11360_62_wfc3_uvis_f657n_ib6w62s0_drc.jpg to ./mastDownload/HST/hst_11360_62_wfc3_uvis_f657n_ib6w62s0/hst_11360_62_wfc3_uvis_f657n_ib6w62s0_drc.jpg ... [Done]\n",
      "Downloading URL https://mast.stsci.edu/api/v0.1/Download/file?uri=mast:HST/product/hst_11360_62_wfc3_uvis_f657n_ib6w62s0_flc.fits to ./mastDownload/HST/hst_11360_62_wfc3_uvis_f657n_ib6w62s0/hst_11360_62_wfc3_uvis_f657n_ib6w62s0_flc.fits ... [Done]\n",
      "Downloading URL https://mast.stsci.edu/api/v0.1/Download/file?uri=mast:HST/product/hst_11360_62_wfc3_uvis_f657n_ib6w62s0_hlet.fits to ./mastDownload/HST/hst_11360_62_wfc3_uvis_f657n_ib6w62s0/hst_11360_62_wfc3_uvis_f657n_ib6w62s0_hlet.fits ... [Done]\n",
      "Downloading URL https://mast.stsci.edu/api/v0.1/Download/file?uri=mast:HST/product/hst_11360_62_wfc3_uvis_f657n_ib6w62s0_trl.txt to ./mastDownload/HST/hst_11360_62_wfc3_uvis_f657n_ib6w62s0/hst_11360_62_wfc3_uvis_f657n_ib6w62s0_trl.txt ... [Done]\n",
      "Downloading URL https://mast.stsci.edu/api/v0.1/Download/file?uri=mast:HST/product/hst_11360_62_wfc3_uvis_f657n_ib6w62s1_drc.fits to ./mastDownload/HST/hst_11360_62_wfc3_uvis_f657n_ib6w62s1/hst_11360_62_wfc3_uvis_f657n_ib6w62s1_drc.fits ... [Done]\n",
      "Downloading URL https://mast.stsci.edu/api/v0.1/Download/file?uri=mast:HST/product/hst_11360_62_wfc3_uvis_f657n_ib6w62s1_drc.jpg to ./mastDownload/HST/hst_11360_62_wfc3_uvis_f657n_ib6w62s1/hst_11360_62_wfc3_uvis_f657n_ib6w62s1_drc.jpg ... [Done]\n",
      "Downloading URL https://mast.stsci.edu/api/v0.1/Download/file?uri=mast:HST/product/hst_11360_62_wfc3_uvis_f657n_ib6w62s1_flc.fits to ./mastDownload/HST/hst_11360_62_wfc3_uvis_f657n_ib6w62s1/hst_11360_62_wfc3_uvis_f657n_ib6w62s1_flc.fits ... [Done]\n",
      "Downloading URL https://mast.stsci.edu/api/v0.1/Download/file?uri=mast:HST/product/hst_11360_62_wfc3_uvis_f657n_ib6w62s1_hlet.fits to ./mastDownload/HST/hst_11360_62_wfc3_uvis_f657n_ib6w62s1/hst_11360_62_wfc3_uvis_f657n_ib6w62s1_hlet.fits ... [Done]\n",
      "Downloading URL https://mast.stsci.edu/api/v0.1/Download/file?uri=mast:HST/product/hst_11360_62_wfc3_uvis_f657n_ib6w62s1_trl.txt to ./mastDownload/HST/hst_11360_62_wfc3_uvis_f657n_ib6w62s1/hst_11360_62_wfc3_uvis_f657n_ib6w62s1_trl.txt ... [Done]\n",
      "Downloading URL https://mast.stsci.edu/api/v0.1/Download/file?uri=mast:HST/product/hst_11360_62_wfc3_uvis_f657n_ib6w62s3_drc.fits to ./mastDownload/HST/hst_11360_62_wfc3_uvis_f657n_ib6w62s3/hst_11360_62_wfc3_uvis_f657n_ib6w62s3_drc.fits ... [Done]\n",
      "Downloading URL https://mast.stsci.edu/api/v0.1/Download/file?uri=mast:HST/product/hst_11360_62_wfc3_uvis_f657n_ib6w62s3_drc.jpg to ./mastDownload/HST/hst_11360_62_wfc3_uvis_f657n_ib6w62s3/hst_11360_62_wfc3_uvis_f657n_ib6w62s3_drc.jpg ... [Done]\n",
      "Downloading URL https://mast.stsci.edu/api/v0.1/Download/file?uri=mast:HST/product/hst_11360_62_wfc3_uvis_f657n_ib6w62s3_flc.fits to ./mastDownload/HST/hst_11360_62_wfc3_uvis_f657n_ib6w62s3/hst_11360_62_wfc3_uvis_f657n_ib6w62s3_flc.fits ... [Done]\n",
      "Downloading URL https://mast.stsci.edu/api/v0.1/Download/file?uri=mast:HST/product/hst_11360_62_wfc3_uvis_f657n_ib6w62s3_hlet.fits to ./mastDownload/HST/hst_11360_62_wfc3_uvis_f657n_ib6w62s3/hst_11360_62_wfc3_uvis_f657n_ib6w62s3_hlet.fits ... [Done]\n",
      "Downloading URL https://mast.stsci.edu/api/v0.1/Download/file?uri=mast:HST/product/hst_11360_62_wfc3_uvis_f657n_ib6w62s3_trl.txt to ./mastDownload/HST/hst_11360_62_wfc3_uvis_f657n_ib6w62s3/hst_11360_62_wfc3_uvis_f657n_ib6w62s3_trl.txt ... [Done]\n",
      "Downloading URL https://mast.stsci.edu/api/v0.1/Download/file?uri=mast:HST/product/hst_11360_62_wfc3_uvis_f657n_ib6w62s5_drc.fits to ./mastDownload/HST/hst_11360_62_wfc3_uvis_f657n_ib6w62s5/hst_11360_62_wfc3_uvis_f657n_ib6w62s5_drc.fits ... [Done]\n"
     ]
    },
    {
     "name": "stdout",
     "output_type": "stream",
     "text": [
      "Downloading URL https://mast.stsci.edu/api/v0.1/Download/file?uri=mast:HST/product/hst_11360_62_wfc3_uvis_f657n_ib6w62s5_drc.jpg to ./mastDownload/HST/hst_11360_62_wfc3_uvis_f657n_ib6w62s5/hst_11360_62_wfc3_uvis_f657n_ib6w62s5_drc.jpg ... [Done]\n",
      "Downloading URL https://mast.stsci.edu/api/v0.1/Download/file?uri=mast:HST/product/hst_11360_62_wfc3_uvis_f657n_ib6w62s5_flc.fits to ./mastDownload/HST/hst_11360_62_wfc3_uvis_f657n_ib6w62s5/hst_11360_62_wfc3_uvis_f657n_ib6w62s5_flc.fits ... [Done]\n",
      "Downloading URL https://mast.stsci.edu/api/v0.1/Download/file?uri=mast:HST/product/hst_11360_62_wfc3_uvis_f657n_ib6w62s5_hlet.fits to ./mastDownload/HST/hst_11360_62_wfc3_uvis_f657n_ib6w62s5/hst_11360_62_wfc3_uvis_f657n_ib6w62s5_hlet.fits ... [Done]\n",
      "Downloading URL https://mast.stsci.edu/api/v0.1/Download/file?uri=mast:HST/product/hst_11360_62_wfc3_uvis_f657n_ib6w62s5_trl.txt to ./mastDownload/HST/hst_11360_62_wfc3_uvis_f657n_ib6w62s5/hst_11360_62_wfc3_uvis_f657n_ib6w62s5_trl.txt ... [Done]\n",
      "Downloading URL https://mast.stsci.edu/api/v0.1/Download/file?uri=mast:HST/product/hst_11360_62_wfc3_uvis_total_ib6w62_drc.fits to ./mastDownload/HST/hst_11360_62_wfc3_uvis_total_ib6w62/hst_11360_62_wfc3_uvis_total_ib6w62_drc.fits ... [Done]\n",
      "Downloading URL https://mast.stsci.edu/api/v0.1/Download/file?uri=mast:HST/product/hst_11360_62_wfc3_uvis_total_ib6w62_drc.jpg to ./mastDownload/HST/hst_11360_62_wfc3_uvis_total_ib6w62/hst_11360_62_wfc3_uvis_total_ib6w62_drc.jpg ... [Done]\n",
      "Downloading URL https://mast.stsci.edu/api/v0.1/Download/file?uri=mast:HST/product/hst_11360_62_wfc3_uvis_total_ib6w62_point-cat.ecsv to ./mastDownload/HST/hst_11360_62_wfc3_uvis_total_ib6w62/hst_11360_62_wfc3_uvis_total_ib6w62_point-cat.ecsv ... [Done]\n",
      "Downloading URL https://mast.stsci.edu/api/v0.1/Download/file?uri=mast:HST/product/hst_11360_62_wfc3_uvis_total_ib6w62_segment-cat.ecsv to ./mastDownload/HST/hst_11360_62_wfc3_uvis_total_ib6w62/hst_11360_62_wfc3_uvis_total_ib6w62_segment-cat.ecsv ... [Done]\n",
      "Downloading URL https://mast.stsci.edu/api/v0.1/Download/file?uri=mast:HST/product/hst_11360_62_wfc3_uvis_total_ib6w62_trl.txt to ./mastDownload/HST/hst_11360_62_wfc3_uvis_total_ib6w62/hst_11360_62_wfc3_uvis_total_ib6w62_trl.txt ... [Done]\n",
      "Downloading URL https://mast.stsci.edu/api/v0.1/Download/file?uri=mast:HST/product/hst_11360_b1_wfc3_uvis_f336w_ib6wb1_drc.fits to ./mastDownload/HST/hst_11360_b1_wfc3_uvis_f336w_ib6wb1/hst_11360_b1_wfc3_uvis_f336w_ib6wb1_drc.fits ... [Done]\n",
      "Downloading URL https://mast.stsci.edu/api/v0.1/Download/file?uri=mast:HST/product/hst_11360_b1_wfc3_uvis_f336w_ib6wb1_drc.jpg to ./mastDownload/HST/hst_11360_b1_wfc3_uvis_f336w_ib6wb1/hst_11360_b1_wfc3_uvis_f336w_ib6wb1_drc.jpg ... [Done]\n",
      "Downloading URL https://mast.stsci.edu/api/v0.1/Download/file?uri=mast:HST/product/hst_11360_b1_wfc3_uvis_f336w_ib6wb1_point-cat.ecsv to ./mastDownload/HST/hst_11360_b1_wfc3_uvis_f336w_ib6wb1/hst_11360_b1_wfc3_uvis_f336w_ib6wb1_point-cat.ecsv ... [Done]\n",
      "Downloading URL https://mast.stsci.edu/api/v0.1/Download/file?uri=mast:HST/product/hst_11360_b1_wfc3_uvis_f336w_ib6wb1_segment-cat.ecsv to ./mastDownload/HST/hst_11360_b1_wfc3_uvis_f336w_ib6wb1/hst_11360_b1_wfc3_uvis_f336w_ib6wb1_segment-cat.ecsv ... [Done]\n",
      "Downloading URL https://mast.stsci.edu/api/v0.1/Download/file?uri=mast:HST/product/hst_11360_b1_wfc3_uvis_f336w_ib6wb1_trl.txt to ./mastDownload/HST/hst_11360_b1_wfc3_uvis_f336w_ib6wb1/hst_11360_b1_wfc3_uvis_f336w_ib6wb1_trl.txt ... [Done]\n",
      "Downloading URL https://mast.stsci.edu/api/v0.1/Download/file?uri=mast:HST/product/hst_11360_b1_wfc3_uvis_f336w_ib6wb1o8_drc.fits to ./mastDownload/HST/hst_11360_b1_wfc3_uvis_f336w_ib6wb1o8/hst_11360_b1_wfc3_uvis_f336w_ib6wb1o8_drc.fits ... [Done]\n",
      "Downloading URL https://mast.stsci.edu/api/v0.1/Download/file?uri=mast:HST/product/hst_11360_b1_wfc3_uvis_f336w_ib6wb1o8_drc.jpg to ./mastDownload/HST/hst_11360_b1_wfc3_uvis_f336w_ib6wb1o8/hst_11360_b1_wfc3_uvis_f336w_ib6wb1o8_drc.jpg ... [Done]\n",
      "Downloading URL https://mast.stsci.edu/api/v0.1/Download/file?uri=mast:HST/product/hst_11360_b1_wfc3_uvis_f336w_ib6wb1o8_flc.fits to ./mastDownload/HST/hst_11360_b1_wfc3_uvis_f336w_ib6wb1o8/hst_11360_b1_wfc3_uvis_f336w_ib6wb1o8_flc.fits ... [Done]\n",
      "Downloading URL https://mast.stsci.edu/api/v0.1/Download/file?uri=mast:HST/product/hst_11360_b1_wfc3_uvis_f336w_ib6wb1o8_hlet.fits to ./mastDownload/HST/hst_11360_b1_wfc3_uvis_f336w_ib6wb1o8/hst_11360_b1_wfc3_uvis_f336w_ib6wb1o8_hlet.fits ... [Done]\n",
      "Downloading URL https://mast.stsci.edu/api/v0.1/Download/file?uri=mast:HST/product/hst_11360_b1_wfc3_uvis_f336w_ib6wb1o8_trl.txt to ./mastDownload/HST/hst_11360_b1_wfc3_uvis_f336w_ib6wb1o8/hst_11360_b1_wfc3_uvis_f336w_ib6wb1o8_trl.txt ... [Done]\n",
      "Downloading URL https://mast.stsci.edu/api/v0.1/Download/file?uri=mast:HST/product/hst_11360_b1_wfc3_uvis_f336w_ib6wb1ol_drc.fits to ./mastDownload/HST/hst_11360_b1_wfc3_uvis_f336w_ib6wb1ol/hst_11360_b1_wfc3_uvis_f336w_ib6wb1ol_drc.fits ... [Done]\n",
      "Downloading URL https://mast.stsci.edu/api/v0.1/Download/file?uri=mast:HST/product/hst_11360_b1_wfc3_uvis_f336w_ib6wb1ol_drc.jpg to ./mastDownload/HST/hst_11360_b1_wfc3_uvis_f336w_ib6wb1ol/hst_11360_b1_wfc3_uvis_f336w_ib6wb1ol_drc.jpg ... [Done]\n",
      "Downloading URL https://mast.stsci.edu/api/v0.1/Download/file?uri=mast:HST/product/hst_11360_b1_wfc3_uvis_f336w_ib6wb1ol_flc.fits to ./mastDownload/HST/hst_11360_b1_wfc3_uvis_f336w_ib6wb1ol/hst_11360_b1_wfc3_uvis_f336w_ib6wb1ol_flc.fits ... [Done]\n",
      "Downloading URL https://mast.stsci.edu/api/v0.1/Download/file?uri=mast:HST/product/hst_11360_b1_wfc3_uvis_f336w_ib6wb1ol_hlet.fits to ./mastDownload/HST/hst_11360_b1_wfc3_uvis_f336w_ib6wb1ol/hst_11360_b1_wfc3_uvis_f336w_ib6wb1ol_hlet.fits ... [Done]\n",
      "Downloading URL https://mast.stsci.edu/api/v0.1/Download/file?uri=mast:HST/product/hst_11360_b1_wfc3_uvis_f336w_ib6wb1ol_trl.txt to ./mastDownload/HST/hst_11360_b1_wfc3_uvis_f336w_ib6wb1ol/hst_11360_b1_wfc3_uvis_f336w_ib6wb1ol_trl.txt ... [Done]\n",
      "Downloading URL https://mast.stsci.edu/api/v0.1/Download/file?uri=mast:HST/product/hst_11360_b1_wfc3_uvis_f336w_ib6wb1oy_drc.fits to ./mastDownload/HST/hst_11360_b1_wfc3_uvis_f336w_ib6wb1oy/hst_11360_b1_wfc3_uvis_f336w_ib6wb1oy_drc.fits ... [Done]\n",
      "Downloading URL https://mast.stsci.edu/api/v0.1/Download/file?uri=mast:HST/product/hst_11360_b1_wfc3_uvis_f336w_ib6wb1oy_drc.jpg to ./mastDownload/HST/hst_11360_b1_wfc3_uvis_f336w_ib6wb1oy/hst_11360_b1_wfc3_uvis_f336w_ib6wb1oy_drc.jpg ... [Done]\n",
      "Downloading URL https://mast.stsci.edu/api/v0.1/Download/file?uri=mast:HST/product/hst_11360_b1_wfc3_uvis_f336w_ib6wb1oy_flc.fits to ./mastDownload/HST/hst_11360_b1_wfc3_uvis_f336w_ib6wb1oy/hst_11360_b1_wfc3_uvis_f336w_ib6wb1oy_flc.fits ... [Done]\n",
      "Downloading URL https://mast.stsci.edu/api/v0.1/Download/file?uri=mast:HST/product/hst_11360_b1_wfc3_uvis_f336w_ib6wb1oy_hlet.fits to ./mastDownload/HST/hst_11360_b1_wfc3_uvis_f336w_ib6wb1oy/hst_11360_b1_wfc3_uvis_f336w_ib6wb1oy_hlet.fits ... [Done]\n",
      "Downloading URL https://mast.stsci.edu/api/v0.1/Download/file?uri=mast:HST/product/hst_11360_b1_wfc3_uvis_f336w_ib6wb1oy_trl.txt to ./mastDownload/HST/hst_11360_b1_wfc3_uvis_f336w_ib6wb1oy/hst_11360_b1_wfc3_uvis_f336w_ib6wb1oy_trl.txt ... [Done]\n",
      "Downloading URL https://mast.stsci.edu/api/v0.1/Download/file?uri=mast:HST/product/hst_11360_b1_wfc3_uvis_total_ib6wb1_drc.fits to ./mastDownload/HST/hst_11360_b1_wfc3_uvis_total_ib6wb1/hst_11360_b1_wfc3_uvis_total_ib6wb1_drc.fits ... [Done]\n",
      "Downloading URL https://mast.stsci.edu/api/v0.1/Download/file?uri=mast:HST/product/hst_11360_b1_wfc3_uvis_total_ib6wb1_drc.jpg to ./mastDownload/HST/hst_11360_b1_wfc3_uvis_total_ib6wb1/hst_11360_b1_wfc3_uvis_total_ib6wb1_drc.jpg ... [Done]\n",
      "Downloading URL https://mast.stsci.edu/api/v0.1/Download/file?uri=mast:HST/product/hst_11360_b1_wfc3_uvis_total_ib6wb1_point-cat.ecsv to ./mastDownload/HST/hst_11360_b1_wfc3_uvis_total_ib6wb1/hst_11360_b1_wfc3_uvis_total_ib6wb1_point-cat.ecsv ... [Done]\n",
      "Downloading URL https://mast.stsci.edu/api/v0.1/Download/file?uri=mast:HST/product/hst_11360_b1_wfc3_uvis_total_ib6wb1_segment-cat.ecsv to ./mastDownload/HST/hst_11360_b1_wfc3_uvis_total_ib6wb1/hst_11360_b1_wfc3_uvis_total_ib6wb1_segment-cat.ecsv ... [Done]\n"
     ]
    },
    {
     "name": "stdout",
     "output_type": "stream",
     "text": [
      "Downloading URL https://mast.stsci.edu/api/v0.1/Download/file?uri=mast:HST/product/hst_11360_b1_wfc3_uvis_total_ib6wb1_trl.txt to ./mastDownload/HST/hst_11360_b1_wfc3_uvis_total_ib6wb1/hst_11360_b1_wfc3_uvis_total_ib6wb1_trl.txt ... [Done]\n",
      "Downloading URL https://mast.stsci.edu/api/v0.1/Download/file?uri=mast:HST/product/hst_11360_b2_wfc3_uvis_f487n_ib6wb2_drc.fits to ./mastDownload/HST/hst_11360_b2_wfc3_uvis_f487n_ib6wb2/hst_11360_b2_wfc3_uvis_f487n_ib6wb2_drc.fits ... [Done]\n",
      "Downloading URL https://mast.stsci.edu/api/v0.1/Download/file?uri=mast:HST/product/hst_11360_b2_wfc3_uvis_f487n_ib6wb2_drc.jpg to ./mastDownload/HST/hst_11360_b2_wfc3_uvis_f487n_ib6wb2/hst_11360_b2_wfc3_uvis_f487n_ib6wb2_drc.jpg ... [Done]\n",
      "Downloading URL https://mast.stsci.edu/api/v0.1/Download/file?uri=mast:HST/product/hst_11360_b2_wfc3_uvis_f487n_ib6wb2_point-cat.ecsv to ./mastDownload/HST/hst_11360_b2_wfc3_uvis_f487n_ib6wb2/hst_11360_b2_wfc3_uvis_f487n_ib6wb2_point-cat.ecsv ... [Done]\n",
      "Downloading URL https://mast.stsci.edu/api/v0.1/Download/file?uri=mast:HST/product/hst_11360_b2_wfc3_uvis_f487n_ib6wb2_segment-cat.ecsv to ./mastDownload/HST/hst_11360_b2_wfc3_uvis_f487n_ib6wb2/hst_11360_b2_wfc3_uvis_f487n_ib6wb2_segment-cat.ecsv ... [Done]\n",
      "Downloading URL https://mast.stsci.edu/api/v0.1/Download/file?uri=mast:HST/product/hst_11360_b2_wfc3_uvis_f487n_ib6wb2_trl.txt to ./mastDownload/HST/hst_11360_b2_wfc3_uvis_f487n_ib6wb2/hst_11360_b2_wfc3_uvis_f487n_ib6wb2_trl.txt ... [Done]\n",
      "Downloading URL https://mast.stsci.edu/api/v0.1/Download/file?uri=mast:HST/product/hst_11360_b2_wfc3_uvis_f487n_ib6wb2ab_drc.fits to ./mastDownload/HST/hst_11360_b2_wfc3_uvis_f487n_ib6wb2ab/hst_11360_b2_wfc3_uvis_f487n_ib6wb2ab_drc.fits ... [Done]\n",
      "Downloading URL https://mast.stsci.edu/api/v0.1/Download/file?uri=mast:HST/product/hst_11360_b2_wfc3_uvis_f487n_ib6wb2ab_drc.jpg to ./mastDownload/HST/hst_11360_b2_wfc3_uvis_f487n_ib6wb2ab/hst_11360_b2_wfc3_uvis_f487n_ib6wb2ab_drc.jpg ... [Done]\n",
      "Downloading URL https://mast.stsci.edu/api/v0.1/Download/file?uri=mast:HST/product/hst_11360_b2_wfc3_uvis_f487n_ib6wb2ab_flc.fits to ./mastDownload/HST/hst_11360_b2_wfc3_uvis_f487n_ib6wb2ab/hst_11360_b2_wfc3_uvis_f487n_ib6wb2ab_flc.fits ... [Done]\n",
      "Downloading URL https://mast.stsci.edu/api/v0.1/Download/file?uri=mast:HST/product/hst_11360_b2_wfc3_uvis_f487n_ib6wb2ab_hlet.fits to ./mastDownload/HST/hst_11360_b2_wfc3_uvis_f487n_ib6wb2ab/hst_11360_b2_wfc3_uvis_f487n_ib6wb2ab_hlet.fits ... [Done]\n",
      "Downloading URL https://mast.stsci.edu/api/v0.1/Download/file?uri=mast:HST/product/hst_11360_b2_wfc3_uvis_f487n_ib6wb2ab_trl.txt to ./mastDownload/HST/hst_11360_b2_wfc3_uvis_f487n_ib6wb2ab/hst_11360_b2_wfc3_uvis_f487n_ib6wb2ab_trl.txt ... [Done]\n",
      "Downloading URL https://mast.stsci.edu/api/v0.1/Download/file?uri=mast:HST/product/hst_11360_b2_wfc3_uvis_f487n_ib6wb2ad_drc.fits to ./mastDownload/HST/hst_11360_b2_wfc3_uvis_f487n_ib6wb2ad/hst_11360_b2_wfc3_uvis_f487n_ib6wb2ad_drc.fits ... [Done]\n",
      "Downloading URL https://mast.stsci.edu/api/v0.1/Download/file?uri=mast:HST/product/hst_11360_b2_wfc3_uvis_f487n_ib6wb2ad_drc.jpg to ./mastDownload/HST/hst_11360_b2_wfc3_uvis_f487n_ib6wb2ad/hst_11360_b2_wfc3_uvis_f487n_ib6wb2ad_drc.jpg ... [Done]\n",
      "Downloading URL https://mast.stsci.edu/api/v0.1/Download/file?uri=mast:HST/product/hst_11360_b2_wfc3_uvis_f487n_ib6wb2ad_flc.fits to ./mastDownload/HST/hst_11360_b2_wfc3_uvis_f487n_ib6wb2ad/hst_11360_b2_wfc3_uvis_f487n_ib6wb2ad_flc.fits ... [Done]\n",
      "Downloading URL https://mast.stsci.edu/api/v0.1/Download/file?uri=mast:HST/product/hst_11360_b2_wfc3_uvis_f487n_ib6wb2ad_hlet.fits to ./mastDownload/HST/hst_11360_b2_wfc3_uvis_f487n_ib6wb2ad/hst_11360_b2_wfc3_uvis_f487n_ib6wb2ad_hlet.fits ... [Done]\n",
      "Downloading URL https://mast.stsci.edu/api/v0.1/Download/file?uri=mast:HST/product/hst_11360_b2_wfc3_uvis_f487n_ib6wb2ad_trl.txt to ./mastDownload/HST/hst_11360_b2_wfc3_uvis_f487n_ib6wb2ad/hst_11360_b2_wfc3_uvis_f487n_ib6wb2ad_trl.txt ... [Done]\n",
      "Downloading URL https://mast.stsci.edu/api/v0.1/Download/file?uri=mast:HST/product/hst_11360_b2_wfc3_uvis_f487n_ib6wb2ae_drc.fits to ./mastDownload/HST/hst_11360_b2_wfc3_uvis_f487n_ib6wb2ae/hst_11360_b2_wfc3_uvis_f487n_ib6wb2ae_drc.fits ... [Done]\n",
      "Downloading URL https://mast.stsci.edu/api/v0.1/Download/file?uri=mast:HST/product/hst_11360_b2_wfc3_uvis_f487n_ib6wb2ae_drc.jpg to ./mastDownload/HST/hst_11360_b2_wfc3_uvis_f487n_ib6wb2ae/hst_11360_b2_wfc3_uvis_f487n_ib6wb2ae_drc.jpg ... [Done]\n",
      "Downloading URL https://mast.stsci.edu/api/v0.1/Download/file?uri=mast:HST/product/hst_11360_b2_wfc3_uvis_f487n_ib6wb2ae_flc.fits to ./mastDownload/HST/hst_11360_b2_wfc3_uvis_f487n_ib6wb2ae/hst_11360_b2_wfc3_uvis_f487n_ib6wb2ae_flc.fits ... [Done]\n",
      "Downloading URL https://mast.stsci.edu/api/v0.1/Download/file?uri=mast:HST/product/hst_11360_b2_wfc3_uvis_f487n_ib6wb2ae_hlet.fits to ./mastDownload/HST/hst_11360_b2_wfc3_uvis_f487n_ib6wb2ae/hst_11360_b2_wfc3_uvis_f487n_ib6wb2ae_hlet.fits ... [Done]\n",
      "Downloading URL https://mast.stsci.edu/api/v0.1/Download/file?uri=mast:HST/product/hst_11360_b2_wfc3_uvis_f487n_ib6wb2ae_trl.txt to ./mastDownload/HST/hst_11360_b2_wfc3_uvis_f487n_ib6wb2ae/hst_11360_b2_wfc3_uvis_f487n_ib6wb2ae_trl.txt ... [Done]\n",
      "Downloading URL https://mast.stsci.edu/api/v0.1/Download/file?uri=mast:HST/product/hst_11360_b2_wfc3_uvis_total_ib6wb2_drc.fits to ./mastDownload/HST/hst_11360_b2_wfc3_uvis_total_ib6wb2/hst_11360_b2_wfc3_uvis_total_ib6wb2_drc.fits ... [Done]\n",
      "Downloading URL https://mast.stsci.edu/api/v0.1/Download/file?uri=mast:HST/product/hst_11360_b2_wfc3_uvis_total_ib6wb2_drc.jpg to ./mastDownload/HST/hst_11360_b2_wfc3_uvis_total_ib6wb2/hst_11360_b2_wfc3_uvis_total_ib6wb2_drc.jpg ... [Done]\n",
      "Downloading URL https://mast.stsci.edu/api/v0.1/Download/file?uri=mast:HST/product/hst_11360_b2_wfc3_uvis_total_ib6wb2_point-cat.ecsv to ./mastDownload/HST/hst_11360_b2_wfc3_uvis_total_ib6wb2/hst_11360_b2_wfc3_uvis_total_ib6wb2_point-cat.ecsv ... [Done]\n",
      "Downloading URL https://mast.stsci.edu/api/v0.1/Download/file?uri=mast:HST/product/hst_11360_b2_wfc3_uvis_total_ib6wb2_segment-cat.ecsv to ./mastDownload/HST/hst_11360_b2_wfc3_uvis_total_ib6wb2/hst_11360_b2_wfc3_uvis_total_ib6wb2_segment-cat.ecsv ... [Done]\n",
      "Downloading URL https://mast.stsci.edu/api/v0.1/Download/file?uri=mast:HST/product/hst_11360_b2_wfc3_uvis_total_ib6wb2_trl.txt to ./mastDownload/HST/hst_11360_b2_wfc3_uvis_total_ib6wb2/hst_11360_b2_wfc3_uvis_total_ib6wb2_trl.txt ... [Done]\n",
      "Downloading URL https://mast.stsci.edu/api/v0.1/Download/file?uri=mast:HST/product/hst_12513_01_wfc3_uvis_f336w_ibqc01_drc.fits to ./mastDownload/HST/hst_12513_01_wfc3_uvis_f336w_ibqc01/hst_12513_01_wfc3_uvis_f336w_ibqc01_drc.fits ... [Done]\n",
      "Downloading URL https://mast.stsci.edu/api/v0.1/Download/file?uri=mast:HST/product/hst_12513_01_wfc3_uvis_f336w_ibqc01_drc.jpg to ./mastDownload/HST/hst_12513_01_wfc3_uvis_f336w_ibqc01/hst_12513_01_wfc3_uvis_f336w_ibqc01_drc.jpg ... [Done]\n",
      "Downloading URL https://mast.stsci.edu/api/v0.1/Download/file?uri=mast:HST/product/hst_12513_01_wfc3_uvis_f336w_ibqc01_point-cat.ecsv to ./mastDownload/HST/hst_12513_01_wfc3_uvis_f336w_ibqc01/hst_12513_01_wfc3_uvis_f336w_ibqc01_point-cat.ecsv ... [Done]\n",
      "Downloading URL https://mast.stsci.edu/api/v0.1/Download/file?uri=mast:HST/product/hst_12513_01_wfc3_uvis_f336w_ibqc01_segment-cat.ecsv to ./mastDownload/HST/hst_12513_01_wfc3_uvis_f336w_ibqc01/hst_12513_01_wfc3_uvis_f336w_ibqc01_segment-cat.ecsv ... [Done]\n",
      "Downloading URL https://mast.stsci.edu/api/v0.1/Download/file?uri=mast:HST/product/hst_12513_01_wfc3_uvis_f336w_ibqc01_trl.txt to ./mastDownload/HST/hst_12513_01_wfc3_uvis_f336w_ibqc01/hst_12513_01_wfc3_uvis_f336w_ibqc01_trl.txt ... [Done]\n",
      "Downloading URL https://mast.stsci.edu/api/v0.1/Download/file?uri=mast:HST/product/hst_12513_01_wfc3_uvis_f336w_ibqc01cx_drc.fits to ./mastDownload/HST/hst_12513_01_wfc3_uvis_f336w_ibqc01cx/hst_12513_01_wfc3_uvis_f336w_ibqc01cx_drc.fits ... [Done]\n",
      "Downloading URL https://mast.stsci.edu/api/v0.1/Download/file?uri=mast:HST/product/hst_12513_01_wfc3_uvis_f336w_ibqc01cx_drc.jpg to ./mastDownload/HST/hst_12513_01_wfc3_uvis_f336w_ibqc01cx/hst_12513_01_wfc3_uvis_f336w_ibqc01cx_drc.jpg ... [Done]\n"
     ]
    },
    {
     "name": "stdout",
     "output_type": "stream",
     "text": [
      "Downloading URL https://mast.stsci.edu/api/v0.1/Download/file?uri=mast:HST/product/hst_12513_01_wfc3_uvis_f336w_ibqc01cx_flc.fits to ./mastDownload/HST/hst_12513_01_wfc3_uvis_f336w_ibqc01cx/hst_12513_01_wfc3_uvis_f336w_ibqc01cx_flc.fits ... [Done]\n",
      "Downloading URL https://mast.stsci.edu/api/v0.1/Download/file?uri=mast:HST/product/hst_12513_01_wfc3_uvis_f336w_ibqc01cx_hlet.fits to ./mastDownload/HST/hst_12513_01_wfc3_uvis_f336w_ibqc01cx/hst_12513_01_wfc3_uvis_f336w_ibqc01cx_hlet.fits ... [Done]\n",
      "Downloading URL https://mast.stsci.edu/api/v0.1/Download/file?uri=mast:HST/product/hst_12513_01_wfc3_uvis_f336w_ibqc01cx_trl.txt to ./mastDownload/HST/hst_12513_01_wfc3_uvis_f336w_ibqc01cx/hst_12513_01_wfc3_uvis_f336w_ibqc01cx_trl.txt ... [Done]\n",
      "Downloading URL https://mast.stsci.edu/api/v0.1/Download/file?uri=mast:HST/product/hst_12513_01_wfc3_uvis_f336w_ibqc01df_drc.fits to ./mastDownload/HST/hst_12513_01_wfc3_uvis_f336w_ibqc01df/hst_12513_01_wfc3_uvis_f336w_ibqc01df_drc.fits ... [Done]\n",
      "Downloading URL https://mast.stsci.edu/api/v0.1/Download/file?uri=mast:HST/product/hst_12513_01_wfc3_uvis_f336w_ibqc01df_drc.jpg to ./mastDownload/HST/hst_12513_01_wfc3_uvis_f336w_ibqc01df/hst_12513_01_wfc3_uvis_f336w_ibqc01df_drc.jpg ... [Done]\n",
      "Downloading URL https://mast.stsci.edu/api/v0.1/Download/file?uri=mast:HST/product/hst_12513_01_wfc3_uvis_f336w_ibqc01df_flc.fits to ./mastDownload/HST/hst_12513_01_wfc3_uvis_f336w_ibqc01df/hst_12513_01_wfc3_uvis_f336w_ibqc01df_flc.fits ... [Done]\n",
      "Downloading URL https://mast.stsci.edu/api/v0.1/Download/file?uri=mast:HST/product/hst_12513_01_wfc3_uvis_f336w_ibqc01df_hlet.fits to ./mastDownload/HST/hst_12513_01_wfc3_uvis_f336w_ibqc01df/hst_12513_01_wfc3_uvis_f336w_ibqc01df_hlet.fits ... [Done]\n",
      "Downloading URL https://mast.stsci.edu/api/v0.1/Download/file?uri=mast:HST/product/hst_12513_01_wfc3_uvis_f336w_ibqc01df_trl.txt to ./mastDownload/HST/hst_12513_01_wfc3_uvis_f336w_ibqc01df/hst_12513_01_wfc3_uvis_f336w_ibqc01df_trl.txt ... [Done]\n",
      "Downloading URL https://mast.stsci.edu/api/v0.1/Download/file?uri=mast:HST/product/hst_12513_01_wfc3_uvis_f336w_ibqc01dr_drc.fits to ./mastDownload/HST/hst_12513_01_wfc3_uvis_f336w_ibqc01dr/hst_12513_01_wfc3_uvis_f336w_ibqc01dr_drc.fits ... [Done]\n",
      "Downloading URL https://mast.stsci.edu/api/v0.1/Download/file?uri=mast:HST/product/hst_12513_01_wfc3_uvis_f336w_ibqc01dr_drc.jpg to ./mastDownload/HST/hst_12513_01_wfc3_uvis_f336w_ibqc01dr/hst_12513_01_wfc3_uvis_f336w_ibqc01dr_drc.jpg ... [Done]\n",
      "Downloading URL https://mast.stsci.edu/api/v0.1/Download/file?uri=mast:HST/product/hst_12513_01_wfc3_uvis_f336w_ibqc01dr_flc.fits to ./mastDownload/HST/hst_12513_01_wfc3_uvis_f336w_ibqc01dr/hst_12513_01_wfc3_uvis_f336w_ibqc01dr_flc.fits ... [Done]\n",
      "Downloading URL https://mast.stsci.edu/api/v0.1/Download/file?uri=mast:HST/product/hst_12513_01_wfc3_uvis_f336w_ibqc01dr_hlet.fits to ./mastDownload/HST/hst_12513_01_wfc3_uvis_f336w_ibqc01dr/hst_12513_01_wfc3_uvis_f336w_ibqc01dr_hlet.fits ... [Done]\n",
      "Downloading URL https://mast.stsci.edu/api/v0.1/Download/file?uri=mast:HST/product/hst_12513_01_wfc3_uvis_f336w_ibqc01dr_trl.txt to ./mastDownload/HST/hst_12513_01_wfc3_uvis_f336w_ibqc01dr/hst_12513_01_wfc3_uvis_f336w_ibqc01dr_trl.txt ... [Done]\n",
      "Downloading URL https://mast.stsci.edu/api/v0.1/Download/file?uri=mast:HST/product/hst_12513_01_wfc3_uvis_f657n_ibqc01_drc.fits to ./mastDownload/HST/hst_12513_01_wfc3_uvis_f657n_ibqc01/hst_12513_01_wfc3_uvis_f657n_ibqc01_drc.fits ... [Done]\n",
      "Downloading URL https://mast.stsci.edu/api/v0.1/Download/file?uri=mast:HST/product/hst_12513_01_wfc3_uvis_f657n_ibqc01_drc.jpg to ./mastDownload/HST/hst_12513_01_wfc3_uvis_f657n_ibqc01/hst_12513_01_wfc3_uvis_f657n_ibqc01_drc.jpg ... [Done]\n",
      "Downloading URL https://mast.stsci.edu/api/v0.1/Download/file?uri=mast:HST/product/hst_12513_01_wfc3_uvis_f657n_ibqc01_point-cat.ecsv to ./mastDownload/HST/hst_12513_01_wfc3_uvis_f657n_ibqc01/hst_12513_01_wfc3_uvis_f657n_ibqc01_point-cat.ecsv ... [Done]\n",
      "Downloading URL https://mast.stsci.edu/api/v0.1/Download/file?uri=mast:HST/product/hst_12513_01_wfc3_uvis_f657n_ibqc01_segment-cat.ecsv to ./mastDownload/HST/hst_12513_01_wfc3_uvis_f657n_ibqc01/hst_12513_01_wfc3_uvis_f657n_ibqc01_segment-cat.ecsv ... [Done]\n",
      "Downloading URL https://mast.stsci.edu/api/v0.1/Download/file?uri=mast:HST/product/hst_12513_01_wfc3_uvis_f657n_ibqc01_trl.txt to ./mastDownload/HST/hst_12513_01_wfc3_uvis_f657n_ibqc01/hst_12513_01_wfc3_uvis_f657n_ibqc01_trl.txt ... [Done]\n",
      "Downloading URL https://mast.stsci.edu/api/v0.1/Download/file?uri=mast:HST/product/hst_12513_01_wfc3_uvis_f657n_ibqc01cs_drc.fits to ./mastDownload/HST/hst_12513_01_wfc3_uvis_f657n_ibqc01cs/hst_12513_01_wfc3_uvis_f657n_ibqc01cs_drc.fits ... [Done]\n",
      "Downloading URL https://mast.stsci.edu/api/v0.1/Download/file?uri=mast:HST/product/hst_12513_01_wfc3_uvis_f657n_ibqc01cs_drc.jpg to ./mastDownload/HST/hst_12513_01_wfc3_uvis_f657n_ibqc01cs/hst_12513_01_wfc3_uvis_f657n_ibqc01cs_drc.jpg ... [Done]\n",
      "Downloading URL https://mast.stsci.edu/api/v0.1/Download/file?uri=mast:HST/product/hst_12513_01_wfc3_uvis_f657n_ibqc01cs_flc.fits to ./mastDownload/HST/hst_12513_01_wfc3_uvis_f657n_ibqc01cs/hst_12513_01_wfc3_uvis_f657n_ibqc01cs_flc.fits ... [Done]\n",
      "Downloading URL https://mast.stsci.edu/api/v0.1/Download/file?uri=mast:HST/product/hst_12513_01_wfc3_uvis_f657n_ibqc01cs_hlet.fits to ./mastDownload/HST/hst_12513_01_wfc3_uvis_f657n_ibqc01cs/hst_12513_01_wfc3_uvis_f657n_ibqc01cs_hlet.fits ... [Done]\n",
      "Downloading URL https://mast.stsci.edu/api/v0.1/Download/file?uri=mast:HST/product/hst_12513_01_wfc3_uvis_f657n_ibqc01cs_trl.txt to ./mastDownload/HST/hst_12513_01_wfc3_uvis_f657n_ibqc01cs/hst_12513_01_wfc3_uvis_f657n_ibqc01cs_trl.txt ... [Done]\n",
      "Downloading URL https://mast.stsci.edu/api/v0.1/Download/file?uri=mast:HST/product/hst_12513_01_wfc3_uvis_f657n_ibqc01dc_drc.fits to ./mastDownload/HST/hst_12513_01_wfc3_uvis_f657n_ibqc01dc/hst_12513_01_wfc3_uvis_f657n_ibqc01dc_drc.fits ... [Done]\n",
      "Downloading URL https://mast.stsci.edu/api/v0.1/Download/file?uri=mast:HST/product/hst_12513_01_wfc3_uvis_f657n_ibqc01dc_drc.jpg to ./mastDownload/HST/hst_12513_01_wfc3_uvis_f657n_ibqc01dc/hst_12513_01_wfc3_uvis_f657n_ibqc01dc_drc.jpg ... [Done]\n",
      "Downloading URL https://mast.stsci.edu/api/v0.1/Download/file?uri=mast:HST/product/hst_12513_01_wfc3_uvis_f657n_ibqc01dc_flc.fits to ./mastDownload/HST/hst_12513_01_wfc3_uvis_f657n_ibqc01dc/hst_12513_01_wfc3_uvis_f657n_ibqc01dc_flc.fits ... [Done]\n",
      "Downloading URL https://mast.stsci.edu/api/v0.1/Download/file?uri=mast:HST/product/hst_12513_01_wfc3_uvis_f657n_ibqc01dc_hlet.fits to ./mastDownload/HST/hst_12513_01_wfc3_uvis_f657n_ibqc01dc/hst_12513_01_wfc3_uvis_f657n_ibqc01dc_hlet.fits ... [Done]\n",
      "Downloading URL https://mast.stsci.edu/api/v0.1/Download/file?uri=mast:HST/product/hst_12513_01_wfc3_uvis_f657n_ibqc01dc_trl.txt to ./mastDownload/HST/hst_12513_01_wfc3_uvis_f657n_ibqc01dc/hst_12513_01_wfc3_uvis_f657n_ibqc01dc_trl.txt ... [Done]\n",
      "Downloading URL https://mast.stsci.edu/api/v0.1/Download/file?uri=mast:HST/product/hst_12513_01_wfc3_uvis_f657n_ibqc01do_drc.fits to ./mastDownload/HST/hst_12513_01_wfc3_uvis_f657n_ibqc01do/hst_12513_01_wfc3_uvis_f657n_ibqc01do_drc.fits ... [Done]\n",
      "Downloading URL https://mast.stsci.edu/api/v0.1/Download/file?uri=mast:HST/product/hst_12513_01_wfc3_uvis_f657n_ibqc01do_drc.jpg to ./mastDownload/HST/hst_12513_01_wfc3_uvis_f657n_ibqc01do/hst_12513_01_wfc3_uvis_f657n_ibqc01do_drc.jpg ... [Done]\n",
      "Downloading URL https://mast.stsci.edu/api/v0.1/Download/file?uri=mast:HST/product/hst_12513_01_wfc3_uvis_f657n_ibqc01do_flc.fits to ./mastDownload/HST/hst_12513_01_wfc3_uvis_f657n_ibqc01do/hst_12513_01_wfc3_uvis_f657n_ibqc01do_flc.fits ... [Done]\n",
      "Downloading URL https://mast.stsci.edu/api/v0.1/Download/file?uri=mast:HST/product/hst_12513_01_wfc3_uvis_f657n_ibqc01do_hlet.fits to ./mastDownload/HST/hst_12513_01_wfc3_uvis_f657n_ibqc01do/hst_12513_01_wfc3_uvis_f657n_ibqc01do_hlet.fits ... [Done]\n",
      "Downloading URL https://mast.stsci.edu/api/v0.1/Download/file?uri=mast:HST/product/hst_12513_01_wfc3_uvis_f657n_ibqc01do_trl.txt to ./mastDownload/HST/hst_12513_01_wfc3_uvis_f657n_ibqc01do/hst_12513_01_wfc3_uvis_f657n_ibqc01do_trl.txt ... [Done]\n"
     ]
    },
    {
     "name": "stdout",
     "output_type": "stream",
     "text": [
      "Downloading URL https://mast.stsci.edu/api/v0.1/Download/file?uri=mast:HST/product/hst_12513_01_wfc3_uvis_total_ibqc01_drc.fits to ./mastDownload/HST/hst_12513_01_wfc3_uvis_total_ibqc01/hst_12513_01_wfc3_uvis_total_ibqc01_drc.fits ... [Done]\n",
      "Downloading URL https://mast.stsci.edu/api/v0.1/Download/file?uri=mast:HST/product/hst_12513_01_wfc3_uvis_total_ibqc01_drc.jpg to ./mastDownload/HST/hst_12513_01_wfc3_uvis_total_ibqc01/hst_12513_01_wfc3_uvis_total_ibqc01_drc.jpg ... [Done]\n",
      "Downloading URL https://mast.stsci.edu/api/v0.1/Download/file?uri=mast:HST/product/hst_12513_01_wfc3_uvis_total_ibqc01_drc_color.jpg to ./mastDownload/HST/hst_12513_01_wfc3_uvis_total_ibqc01/hst_12513_01_wfc3_uvis_total_ibqc01_drc_color.jpg ... [Done]\n",
      "Downloading URL https://mast.stsci.edu/api/v0.1/Download/file?uri=mast:HST/product/hst_12513_01_wfc3_uvis_total_ibqc01_point-cat.ecsv to ./mastDownload/HST/hst_12513_01_wfc3_uvis_total_ibqc01/hst_12513_01_wfc3_uvis_total_ibqc01_point-cat.ecsv ... [Done]\n",
      "Downloading URL https://mast.stsci.edu/api/v0.1/Download/file?uri=mast:HST/product/hst_12513_01_wfc3_uvis_total_ibqc01_segment-cat.ecsv to ./mastDownload/HST/hst_12513_01_wfc3_uvis_total_ibqc01/hst_12513_01_wfc3_uvis_total_ibqc01_segment-cat.ecsv ... [Done]\n",
      "Downloading URL https://mast.stsci.edu/api/v0.1/Download/file?uri=mast:HST/product/hst_12513_01_wfc3_uvis_total_ibqc01_trl.txt to ./mastDownload/HST/hst_12513_01_wfc3_uvis_total_ibqc01/hst_12513_01_wfc3_uvis_total_ibqc01_trl.txt ... [Done]\n",
      "Downloading URL https://mast.stsci.edu/api/v0.1/Download/file?uri=mast:HST/product/hst_12513_03_wfc3_uvis_f336w_ibqc03_drc.fits to ./mastDownload/HST/hst_12513_03_wfc3_uvis_f336w_ibqc03/hst_12513_03_wfc3_uvis_f336w_ibqc03_drc.fits ... [Done]\n",
      "Downloading URL https://mast.stsci.edu/api/v0.1/Download/file?uri=mast:HST/product/hst_12513_03_wfc3_uvis_f336w_ibqc03_drc.jpg to ./mastDownload/HST/hst_12513_03_wfc3_uvis_f336w_ibqc03/hst_12513_03_wfc3_uvis_f336w_ibqc03_drc.jpg ... [Done]\n",
      "Downloading URL https://mast.stsci.edu/api/v0.1/Download/file?uri=mast:HST/product/hst_12513_03_wfc3_uvis_f336w_ibqc03_point-cat.ecsv to ./mastDownload/HST/hst_12513_03_wfc3_uvis_f336w_ibqc03/hst_12513_03_wfc3_uvis_f336w_ibqc03_point-cat.ecsv ... [Done]\n",
      "Downloading URL https://mast.stsci.edu/api/v0.1/Download/file?uri=mast:HST/product/hst_12513_03_wfc3_uvis_f336w_ibqc03_segment-cat.ecsv to ./mastDownload/HST/hst_12513_03_wfc3_uvis_f336w_ibqc03/hst_12513_03_wfc3_uvis_f336w_ibqc03_segment-cat.ecsv ... [Done]\n",
      "Downloading URL https://mast.stsci.edu/api/v0.1/Download/file?uri=mast:HST/product/hst_12513_03_wfc3_uvis_f336w_ibqc03_trl.txt to ./mastDownload/HST/hst_12513_03_wfc3_uvis_f336w_ibqc03/hst_12513_03_wfc3_uvis_f336w_ibqc03_trl.txt ... [Done]\n",
      "Downloading URL https://mast.stsci.edu/api/v0.1/Download/file?uri=mast:HST/product/hst_12513_03_wfc3_uvis_f336w_ibqc03ot_drc.fits to ./mastDownload/HST/hst_12513_03_wfc3_uvis_f336w_ibqc03ot/hst_12513_03_wfc3_uvis_f336w_ibqc03ot_drc.fits ... [Done]\n",
      "Downloading URL https://mast.stsci.edu/api/v0.1/Download/file?uri=mast:HST/product/hst_12513_03_wfc3_uvis_f336w_ibqc03ot_drc.jpg to ./mastDownload/HST/hst_12513_03_wfc3_uvis_f336w_ibqc03ot/hst_12513_03_wfc3_uvis_f336w_ibqc03ot_drc.jpg ... [Done]\n",
      "Downloading URL https://mast.stsci.edu/api/v0.1/Download/file?uri=mast:HST/product/hst_12513_03_wfc3_uvis_f336w_ibqc03ot_flc.fits to ./mastDownload/HST/hst_12513_03_wfc3_uvis_f336w_ibqc03ot/hst_12513_03_wfc3_uvis_f336w_ibqc03ot_flc.fits ... [Done]\n",
      "Downloading URL https://mast.stsci.edu/api/v0.1/Download/file?uri=mast:HST/product/hst_12513_03_wfc3_uvis_f336w_ibqc03ot_hlet.fits to ./mastDownload/HST/hst_12513_03_wfc3_uvis_f336w_ibqc03ot/hst_12513_03_wfc3_uvis_f336w_ibqc03ot_hlet.fits ... [Done]\n",
      "Downloading URL https://mast.stsci.edu/api/v0.1/Download/file?uri=mast:HST/product/hst_12513_03_wfc3_uvis_f336w_ibqc03ot_trl.txt to ./mastDownload/HST/hst_12513_03_wfc3_uvis_f336w_ibqc03ot/hst_12513_03_wfc3_uvis_f336w_ibqc03ot_trl.txt ... [Done]\n",
      "Downloading URL https://mast.stsci.edu/api/v0.1/Download/file?uri=mast:HST/product/hst_12513_03_wfc3_uvis_f336w_ibqc03pq_drc.fits to ./mastDownload/HST/hst_12513_03_wfc3_uvis_f336w_ibqc03pq/hst_12513_03_wfc3_uvis_f336w_ibqc03pq_drc.fits ... [Done]\n",
      "Downloading URL https://mast.stsci.edu/api/v0.1/Download/file?uri=mast:HST/product/hst_12513_03_wfc3_uvis_f336w_ibqc03pq_drc.jpg to ./mastDownload/HST/hst_12513_03_wfc3_uvis_f336w_ibqc03pq/hst_12513_03_wfc3_uvis_f336w_ibqc03pq_drc.jpg ... [Done]\n",
      "Downloading URL https://mast.stsci.edu/api/v0.1/Download/file?uri=mast:HST/product/hst_12513_03_wfc3_uvis_f336w_ibqc03pq_flc.fits to ./mastDownload/HST/hst_12513_03_wfc3_uvis_f336w_ibqc03pq/hst_12513_03_wfc3_uvis_f336w_ibqc03pq_flc.fits ... [Done]\n",
      "Downloading URL https://mast.stsci.edu/api/v0.1/Download/file?uri=mast:HST/product/hst_12513_03_wfc3_uvis_f336w_ibqc03pq_hlet.fits to ./mastDownload/HST/hst_12513_03_wfc3_uvis_f336w_ibqc03pq/hst_12513_03_wfc3_uvis_f336w_ibqc03pq_hlet.fits ... [Done]\n",
      "Downloading URL https://mast.stsci.edu/api/v0.1/Download/file?uri=mast:HST/product/hst_12513_03_wfc3_uvis_f336w_ibqc03pq_trl.txt to ./mastDownload/HST/hst_12513_03_wfc3_uvis_f336w_ibqc03pq/hst_12513_03_wfc3_uvis_f336w_ibqc03pq_trl.txt ... [Done]\n",
      "Downloading URL https://mast.stsci.edu/api/v0.1/Download/file?uri=mast:HST/product/hst_12513_03_wfc3_uvis_f336w_ibqc03q2_drc.fits to ./mastDownload/HST/hst_12513_03_wfc3_uvis_f336w_ibqc03q2/hst_12513_03_wfc3_uvis_f336w_ibqc03q2_drc.fits ... [Done]\n",
      "Downloading URL https://mast.stsci.edu/api/v0.1/Download/file?uri=mast:HST/product/hst_12513_03_wfc3_uvis_f336w_ibqc03q2_drc.jpg to ./mastDownload/HST/hst_12513_03_wfc3_uvis_f336w_ibqc03q2/hst_12513_03_wfc3_uvis_f336w_ibqc03q2_drc.jpg ... [Done]\n",
      "Downloading URL https://mast.stsci.edu/api/v0.1/Download/file?uri=mast:HST/product/hst_12513_03_wfc3_uvis_f336w_ibqc03q2_flc.fits to ./mastDownload/HST/hst_12513_03_wfc3_uvis_f336w_ibqc03q2/hst_12513_03_wfc3_uvis_f336w_ibqc03q2_flc.fits ... [Done]\n",
      "Downloading URL https://mast.stsci.edu/api/v0.1/Download/file?uri=mast:HST/product/hst_12513_03_wfc3_uvis_f336w_ibqc03q2_hlet.fits to ./mastDownload/HST/hst_12513_03_wfc3_uvis_f336w_ibqc03q2/hst_12513_03_wfc3_uvis_f336w_ibqc03q2_hlet.fits ... [Done]\n",
      "Downloading URL https://mast.stsci.edu/api/v0.1/Download/file?uri=mast:HST/product/hst_12513_03_wfc3_uvis_f336w_ibqc03q2_trl.txt to ./mastDownload/HST/hst_12513_03_wfc3_uvis_f336w_ibqc03q2/hst_12513_03_wfc3_uvis_f336w_ibqc03q2_trl.txt ... [Done]\n",
      "Downloading URL https://mast.stsci.edu/api/v0.1/Download/file?uri=mast:HST/product/hst_12513_03_wfc3_uvis_total_ibqc03_drc.fits to ./mastDownload/HST/hst_12513_03_wfc3_uvis_total_ibqc03/hst_12513_03_wfc3_uvis_total_ibqc03_drc.fits ... [Done]\n",
      "Downloading URL https://mast.stsci.edu/api/v0.1/Download/file?uri=mast:HST/product/hst_12513_03_wfc3_uvis_total_ibqc03_drc.jpg to ./mastDownload/HST/hst_12513_03_wfc3_uvis_total_ibqc03/hst_12513_03_wfc3_uvis_total_ibqc03_drc.jpg ... [Done]\n",
      "Downloading URL https://mast.stsci.edu/api/v0.1/Download/file?uri=mast:HST/product/hst_12513_03_wfc3_uvis_total_ibqc03_drc_color.jpg to ./mastDownload/HST/hst_12513_03_wfc3_uvis_total_ibqc03/hst_12513_03_wfc3_uvis_total_ibqc03_drc_color.jpg ... [Done]\n",
      "Downloading URL https://mast.stsci.edu/api/v0.1/Download/file?uri=mast:HST/product/hst_12513_03_wfc3_uvis_total_ibqc03_point-cat.ecsv to ./mastDownload/HST/hst_12513_03_wfc3_uvis_total_ibqc03/hst_12513_03_wfc3_uvis_total_ibqc03_point-cat.ecsv ... [Done]\n",
      "Downloading URL https://mast.stsci.edu/api/v0.1/Download/file?uri=mast:HST/product/hst_12513_03_wfc3_uvis_total_ibqc03_segment-cat.ecsv to ./mastDownload/HST/hst_12513_03_wfc3_uvis_total_ibqc03/hst_12513_03_wfc3_uvis_total_ibqc03_segment-cat.ecsv ... [Done]\n",
      "Downloading URL https://mast.stsci.edu/api/v0.1/Download/file?uri=mast:HST/product/hst_12513_03_wfc3_uvis_total_ibqc03_trl.txt to ./mastDownload/HST/hst_12513_03_wfc3_uvis_total_ibqc03/hst_12513_03_wfc3_uvis_total_ibqc03_trl.txt ... [Done]\n",
      "Downloading URL https://mast.stsci.edu/api/v0.1/Download/file?uri=mast:HST/product/hst_12513_05_wfc3_uvis_f336w_ibqc05_drc.fits to ./mastDownload/HST/hst_12513_05_wfc3_uvis_f336w_ibqc05/hst_12513_05_wfc3_uvis_f336w_ibqc05_drc.fits ... [Done]\n"
     ]
    },
    {
     "name": "stdout",
     "output_type": "stream",
     "text": [
      "Downloading URL https://mast.stsci.edu/api/v0.1/Download/file?uri=mast:HST/product/hst_12513_05_wfc3_uvis_f336w_ibqc05_drc.jpg to ./mastDownload/HST/hst_12513_05_wfc3_uvis_f336w_ibqc05/hst_12513_05_wfc3_uvis_f336w_ibqc05_drc.jpg ... [Done]\n",
      "Downloading URL https://mast.stsci.edu/api/v0.1/Download/file?uri=mast:HST/product/hst_12513_05_wfc3_uvis_f336w_ibqc05_point-cat.ecsv to ./mastDownload/HST/hst_12513_05_wfc3_uvis_f336w_ibqc05/hst_12513_05_wfc3_uvis_f336w_ibqc05_point-cat.ecsv ... [Done]\n",
      "Downloading URL https://mast.stsci.edu/api/v0.1/Download/file?uri=mast:HST/product/hst_12513_05_wfc3_uvis_f336w_ibqc05_segment-cat.ecsv to ./mastDownload/HST/hst_12513_05_wfc3_uvis_f336w_ibqc05/hst_12513_05_wfc3_uvis_f336w_ibqc05_segment-cat.ecsv ... [Done]\n",
      "Downloading URL https://mast.stsci.edu/api/v0.1/Download/file?uri=mast:HST/product/hst_12513_05_wfc3_uvis_f336w_ibqc05_trl.txt to ./mastDownload/HST/hst_12513_05_wfc3_uvis_f336w_ibqc05/hst_12513_05_wfc3_uvis_f336w_ibqc05_trl.txt ... [Done]\n",
      "Downloading URL https://mast.stsci.edu/api/v0.1/Download/file?uri=mast:HST/product/hst_12513_05_wfc3_uvis_f336w_ibqc05qr_drc.fits to ./mastDownload/HST/hst_12513_05_wfc3_uvis_f336w_ibqc05qr/hst_12513_05_wfc3_uvis_f336w_ibqc05qr_drc.fits ... [Done]\n",
      "Downloading URL https://mast.stsci.edu/api/v0.1/Download/file?uri=mast:HST/product/hst_12513_05_wfc3_uvis_f336w_ibqc05qr_drc.jpg to ./mastDownload/HST/hst_12513_05_wfc3_uvis_f336w_ibqc05qr/hst_12513_05_wfc3_uvis_f336w_ibqc05qr_drc.jpg ... [Done]\n",
      "Downloading URL https://mast.stsci.edu/api/v0.1/Download/file?uri=mast:HST/product/hst_12513_05_wfc3_uvis_f336w_ibqc05qr_flc.fits to ./mastDownload/HST/hst_12513_05_wfc3_uvis_f336w_ibqc05qr/hst_12513_05_wfc3_uvis_f336w_ibqc05qr_flc.fits ... [Done]\n",
      "Downloading URL https://mast.stsci.edu/api/v0.1/Download/file?uri=mast:HST/product/hst_12513_05_wfc3_uvis_f336w_ibqc05qr_hlet.fits to ./mastDownload/HST/hst_12513_05_wfc3_uvis_f336w_ibqc05qr/hst_12513_05_wfc3_uvis_f336w_ibqc05qr_hlet.fits ... [Done]\n",
      "Downloading URL https://mast.stsci.edu/api/v0.1/Download/file?uri=mast:HST/product/hst_12513_05_wfc3_uvis_f336w_ibqc05qr_trl.txt to ./mastDownload/HST/hst_12513_05_wfc3_uvis_f336w_ibqc05qr/hst_12513_05_wfc3_uvis_f336w_ibqc05qr_trl.txt ... [Done]\n",
      "Downloading URL https://mast.stsci.edu/api/v0.1/Download/file?uri=mast:HST/product/hst_12513_05_wfc3_uvis_f336w_ibqc05r3_drc.fits to ./mastDownload/HST/hst_12513_05_wfc3_uvis_f336w_ibqc05r3/hst_12513_05_wfc3_uvis_f336w_ibqc05r3_drc.fits ... [Done]\n",
      "Downloading URL https://mast.stsci.edu/api/v0.1/Download/file?uri=mast:HST/product/hst_12513_05_wfc3_uvis_f336w_ibqc05r3_drc.jpg to ./mastDownload/HST/hst_12513_05_wfc3_uvis_f336w_ibqc05r3/hst_12513_05_wfc3_uvis_f336w_ibqc05r3_drc.jpg ... [Done]\n",
      "Downloading URL https://mast.stsci.edu/api/v0.1/Download/file?uri=mast:HST/product/hst_12513_05_wfc3_uvis_f336w_ibqc05r3_flc.fits to ./mastDownload/HST/hst_12513_05_wfc3_uvis_f336w_ibqc05r3/hst_12513_05_wfc3_uvis_f336w_ibqc05r3_flc.fits ... [Done]\n",
      "Downloading URL https://mast.stsci.edu/api/v0.1/Download/file?uri=mast:HST/product/hst_12513_05_wfc3_uvis_f336w_ibqc05r3_hlet.fits to ./mastDownload/HST/hst_12513_05_wfc3_uvis_f336w_ibqc05r3/hst_12513_05_wfc3_uvis_f336w_ibqc05r3_hlet.fits ... [Done]\n",
      "Downloading URL https://mast.stsci.edu/api/v0.1/Download/file?uri=mast:HST/product/hst_12513_05_wfc3_uvis_f336w_ibqc05r3_trl.txt to ./mastDownload/HST/hst_12513_05_wfc3_uvis_f336w_ibqc05r3/hst_12513_05_wfc3_uvis_f336w_ibqc05r3_trl.txt ... [Done]\n",
      "Downloading URL https://mast.stsci.edu/api/v0.1/Download/file?uri=mast:HST/product/hst_12513_05_wfc3_uvis_f336w_ibqc05rh_drc.fits to ./mastDownload/HST/hst_12513_05_wfc3_uvis_f336w_ibqc05rh/hst_12513_05_wfc3_uvis_f336w_ibqc05rh_drc.fits ... [Done]\n",
      "Downloading URL https://mast.stsci.edu/api/v0.1/Download/file?uri=mast:HST/product/hst_12513_05_wfc3_uvis_f336w_ibqc05rh_drc.jpg to ./mastDownload/HST/hst_12513_05_wfc3_uvis_f336w_ibqc05rh/hst_12513_05_wfc3_uvis_f336w_ibqc05rh_drc.jpg ... [Done]\n",
      "Downloading URL https://mast.stsci.edu/api/v0.1/Download/file?uri=mast:HST/product/hst_12513_05_wfc3_uvis_f336w_ibqc05rh_flc.fits to ./mastDownload/HST/hst_12513_05_wfc3_uvis_f336w_ibqc05rh/hst_12513_05_wfc3_uvis_f336w_ibqc05rh_flc.fits ... [Done]\n",
      "Downloading URL https://mast.stsci.edu/api/v0.1/Download/file?uri=mast:HST/product/hst_12513_05_wfc3_uvis_f336w_ibqc05rh_hlet.fits to ./mastDownload/HST/hst_12513_05_wfc3_uvis_f336w_ibqc05rh/hst_12513_05_wfc3_uvis_f336w_ibqc05rh_hlet.fits ... [Done]\n",
      "Downloading URL https://mast.stsci.edu/api/v0.1/Download/file?uri=mast:HST/product/hst_12513_05_wfc3_uvis_f336w_ibqc05rh_trl.txt to ./mastDownload/HST/hst_12513_05_wfc3_uvis_f336w_ibqc05rh/hst_12513_05_wfc3_uvis_f336w_ibqc05rh_trl.txt ... [Done]\n",
      "Downloading URL https://mast.stsci.edu/api/v0.1/Download/file?uri=mast:HST/product/hst_12513_05_wfc3_uvis_f657n_ibqc05_drc.fits to ./mastDownload/HST/hst_12513_05_wfc3_uvis_f657n_ibqc05/hst_12513_05_wfc3_uvis_f657n_ibqc05_drc.fits ... [Done]\n",
      "Downloading URL https://mast.stsci.edu/api/v0.1/Download/file?uri=mast:HST/product/hst_12513_05_wfc3_uvis_f657n_ibqc05_drc.jpg to ./mastDownload/HST/hst_12513_05_wfc3_uvis_f657n_ibqc05/hst_12513_05_wfc3_uvis_f657n_ibqc05_drc.jpg ... [Done]\n",
      "Downloading URL https://mast.stsci.edu/api/v0.1/Download/file?uri=mast:HST/product/hst_12513_05_wfc3_uvis_f657n_ibqc05_point-cat.ecsv to ./mastDownload/HST/hst_12513_05_wfc3_uvis_f657n_ibqc05/hst_12513_05_wfc3_uvis_f657n_ibqc05_point-cat.ecsv ... [Done]\n",
      "Downloading URL https://mast.stsci.edu/api/v0.1/Download/file?uri=mast:HST/product/hst_12513_05_wfc3_uvis_f657n_ibqc05_segment-cat.ecsv to ./mastDownload/HST/hst_12513_05_wfc3_uvis_f657n_ibqc05/hst_12513_05_wfc3_uvis_f657n_ibqc05_segment-cat.ecsv ... [Done]\n",
      "Downloading URL https://mast.stsci.edu/api/v0.1/Download/file?uri=mast:HST/product/hst_12513_05_wfc3_uvis_f657n_ibqc05_trl.txt to ./mastDownload/HST/hst_12513_05_wfc3_uvis_f657n_ibqc05/hst_12513_05_wfc3_uvis_f657n_ibqc05_trl.txt ... [Done]\n",
      "Downloading URL https://mast.stsci.edu/api/v0.1/Download/file?uri=mast:HST/product/hst_12513_05_wfc3_uvis_f657n_ibqc05qo_drc.fits to ./mastDownload/HST/hst_12513_05_wfc3_uvis_f657n_ibqc05qo/hst_12513_05_wfc3_uvis_f657n_ibqc05qo_drc.fits ... [Done]\n",
      "Downloading URL https://mast.stsci.edu/api/v0.1/Download/file?uri=mast:HST/product/hst_12513_05_wfc3_uvis_f657n_ibqc05qo_drc.jpg to ./mastDownload/HST/hst_12513_05_wfc3_uvis_f657n_ibqc05qo/hst_12513_05_wfc3_uvis_f657n_ibqc05qo_drc.jpg ... [Done]\n",
      "Downloading URL https://mast.stsci.edu/api/v0.1/Download/file?uri=mast:HST/product/hst_12513_05_wfc3_uvis_f657n_ibqc05qo_flc.fits to ./mastDownload/HST/hst_12513_05_wfc3_uvis_f657n_ibqc05qo/hst_12513_05_wfc3_uvis_f657n_ibqc05qo_flc.fits ... [Done]\n",
      "Downloading URL https://mast.stsci.edu/api/v0.1/Download/file?uri=mast:HST/product/hst_12513_05_wfc3_uvis_f657n_ibqc05qo_hlet.fits to ./mastDownload/HST/hst_12513_05_wfc3_uvis_f657n_ibqc05qo/hst_12513_05_wfc3_uvis_f657n_ibqc05qo_hlet.fits ... [Done]\n",
      "Downloading URL https://mast.stsci.edu/api/v0.1/Download/file?uri=mast:HST/product/hst_12513_05_wfc3_uvis_f657n_ibqc05qo_trl.txt to ./mastDownload/HST/hst_12513_05_wfc3_uvis_f657n_ibqc05qo/hst_12513_05_wfc3_uvis_f657n_ibqc05qo_trl.txt ... [Done]\n",
      "Downloading URL https://mast.stsci.edu/api/v0.1/Download/file?uri=mast:HST/product/hst_12513_05_wfc3_uvis_f657n_ibqc05r0_drc.fits to ./mastDownload/HST/hst_12513_05_wfc3_uvis_f657n_ibqc05r0/hst_12513_05_wfc3_uvis_f657n_ibqc05r0_drc.fits ... [Done]\n",
      "Downloading URL https://mast.stsci.edu/api/v0.1/Download/file?uri=mast:HST/product/hst_12513_05_wfc3_uvis_f657n_ibqc05r0_drc.jpg to ./mastDownload/HST/hst_12513_05_wfc3_uvis_f657n_ibqc05r0/hst_12513_05_wfc3_uvis_f657n_ibqc05r0_drc.jpg ... [Done]\n",
      "Downloading URL https://mast.stsci.edu/api/v0.1/Download/file?uri=mast:HST/product/hst_12513_05_wfc3_uvis_f657n_ibqc05r0_flc.fits to ./mastDownload/HST/hst_12513_05_wfc3_uvis_f657n_ibqc05r0/hst_12513_05_wfc3_uvis_f657n_ibqc05r0_flc.fits ... [Done]\n",
      "Downloading URL https://mast.stsci.edu/api/v0.1/Download/file?uri=mast:HST/product/hst_12513_05_wfc3_uvis_f657n_ibqc05r0_hlet.fits to ./mastDownload/HST/hst_12513_05_wfc3_uvis_f657n_ibqc05r0/hst_12513_05_wfc3_uvis_f657n_ibqc05r0_hlet.fits ... [Done]\n"
     ]
    },
    {
     "name": "stdout",
     "output_type": "stream",
     "text": [
      "Downloading URL https://mast.stsci.edu/api/v0.1/Download/file?uri=mast:HST/product/hst_12513_05_wfc3_uvis_f657n_ibqc05r0_trl.txt to ./mastDownload/HST/hst_12513_05_wfc3_uvis_f657n_ibqc05r0/hst_12513_05_wfc3_uvis_f657n_ibqc05r0_trl.txt ... [Done]\n",
      "Downloading URL https://mast.stsci.edu/api/v0.1/Download/file?uri=mast:HST/product/hst_12513_05_wfc3_uvis_f657n_ibqc05re_drc.fits to ./mastDownload/HST/hst_12513_05_wfc3_uvis_f657n_ibqc05re/hst_12513_05_wfc3_uvis_f657n_ibqc05re_drc.fits ... [Failed]\n"
     ]
    },
    {
     "ename": "KeyboardInterrupt",
     "evalue": "",
     "output_type": "error",
     "traceback": [
      "\u001b[0;31m---------------------------------------------------------------------------\u001b[0m",
      "\u001b[0;31mKeyboardInterrupt\u001b[0m                         Traceback (most recent call last)",
      "Cell \u001b[0;32mIn[12], line 21\u001b[0m\n\u001b[1;32m     18\u001b[0m prodlist \u001b[38;5;241m=\u001b[39m Observations\u001b[38;5;241m.\u001b[39mget_product_list(selected_bands)\n\u001b[1;32m     19\u001b[0m filtered_prodlist \u001b[38;5;241m=\u001b[39m Observations\u001b[38;5;241m.\u001b[39mfilter_products(prodlist)\n\u001b[0;32m---> 21\u001b[0m downloaded \u001b[38;5;241m=\u001b[39m Observations\u001b[38;5;241m.\u001b[39mdownload_products(filtered_prodlist)\n\u001b[1;32m     23\u001b[0m blue \u001b[38;5;241m=\u001b[39m fits\u001b[38;5;241m.\u001b[39mopen(downloaded[\u001b[38;5;124m'\u001b[39m\u001b[38;5;124mLocal Path\u001b[39m\u001b[38;5;124m'\u001b[39m][\u001b[38;5;241m2\u001b[39m])\n\u001b[1;32m     24\u001b[0m red \u001b[38;5;241m=\u001b[39m fits\u001b[38;5;241m.\u001b[39mopen(downloaded[\u001b[38;5;124m'\u001b[39m\u001b[38;5;124mLocal Path\u001b[39m\u001b[38;5;124m'\u001b[39m][\u001b[38;5;241m5\u001b[39m])\n",
      "File \u001b[0;32m~/miniconda3/envs/MyEnv/lib/python3.11/site-packages/astroquery/mast/observations.py:751\u001b[0m, in \u001b[0;36mObservationsClass.download_products\u001b[0;34m(self, products, download_dir, flat, cache, curl_flag, mrp_only, cloud_only, **filters)\u001b[0m\n\u001b[1;32m    749\u001b[0m     \u001b[38;5;28;01melse\u001b[39;00m:\n\u001b[1;32m    750\u001b[0m         base_dir \u001b[38;5;241m=\u001b[39m os\u001b[38;5;241m.\u001b[39mpath\u001b[38;5;241m.\u001b[39mjoin(download_dir, \u001b[38;5;124m\"\u001b[39m\u001b[38;5;124mmastDownload\u001b[39m\u001b[38;5;124m\"\u001b[39m)\n\u001b[0;32m--> 751\u001b[0m     manifest \u001b[38;5;241m=\u001b[39m \u001b[38;5;28mself\u001b[39m\u001b[38;5;241m.\u001b[39m_download_files(products,\n\u001b[1;32m    752\u001b[0m                                     base_dir\u001b[38;5;241m=\u001b[39mbase_dir, flat\u001b[38;5;241m=\u001b[39mflat,\n\u001b[1;32m    753\u001b[0m                                     cache\u001b[38;5;241m=\u001b[39mcache,\n\u001b[1;32m    754\u001b[0m                                     cloud_only\u001b[38;5;241m=\u001b[39mcloud_only)\n\u001b[1;32m    756\u001b[0m \u001b[38;5;28;01mreturn\u001b[39;00m manifest\n",
      "File \u001b[0;32m~/miniconda3/envs/MyEnv/lib/python3.11/site-packages/astroquery/mast/observations.py:617\u001b[0m, in \u001b[0;36mObservationsClass._download_files\u001b[0;34m(self, products, base_dir, flat, cache, cloud_only)\u001b[0m\n\u001b[1;32m    614\u001b[0m     local_path \u001b[38;5;241m=\u001b[39m os\u001b[38;5;241m.\u001b[39mpath\u001b[38;5;241m.\u001b[39mjoin(local_path, os\u001b[38;5;241m.\u001b[39mpath\u001b[38;5;241m.\u001b[39mbasename(data_product[\u001b[38;5;124m'\u001b[39m\u001b[38;5;124mproductFilename\u001b[39m\u001b[38;5;124m'\u001b[39m]))\n\u001b[1;32m    616\u001b[0m     \u001b[38;5;66;03m# download the files\u001b[39;00m\n\u001b[0;32m--> 617\u001b[0m     status, msg, url \u001b[38;5;241m=\u001b[39m \u001b[38;5;28mself\u001b[39m\u001b[38;5;241m.\u001b[39mdownload_file(data_product[\u001b[38;5;124m\"\u001b[39m\u001b[38;5;124mdataURI\u001b[39m\u001b[38;5;124m\"\u001b[39m], local_path\u001b[38;5;241m=\u001b[39mlocal_path,\n\u001b[1;32m    618\u001b[0m                                           cache\u001b[38;5;241m=\u001b[39mcache, cloud_only\u001b[38;5;241m=\u001b[39mcloud_only)\n\u001b[1;32m    620\u001b[0m     manifest_array\u001b[38;5;241m.\u001b[39mappend([local_path, status, msg, url])\n\u001b[1;32m    622\u001b[0m manifest \u001b[38;5;241m=\u001b[39m Table(rows\u001b[38;5;241m=\u001b[39mmanifest_array, names\u001b[38;5;241m=\u001b[39m(\u001b[38;5;124m'\u001b[39m\u001b[38;5;124mLocal Path\u001b[39m\u001b[38;5;124m'\u001b[39m, \u001b[38;5;124m'\u001b[39m\u001b[38;5;124mStatus\u001b[39m\u001b[38;5;124m'\u001b[39m, \u001b[38;5;124m'\u001b[39m\u001b[38;5;124mMessage\u001b[39m\u001b[38;5;124m'\u001b[39m, \u001b[38;5;124m\"\u001b[39m\u001b[38;5;124mURL\u001b[39m\u001b[38;5;124m\"\u001b[39m))\n",
      "File \u001b[0;32m~/miniconda3/envs/MyEnv/lib/python3.11/site-packages/astroquery/mast/observations.py:562\u001b[0m, in \u001b[0;36mObservationsClass.download_file\u001b[0;34m(self, uri, local_path, base_url, cache, cloud_only)\u001b[0m\n\u001b[1;32m    559\u001b[0m             \u001b[38;5;28mself\u001b[39m\u001b[38;5;241m.\u001b[39m_download_file(data_url, local_path,\n\u001b[1;32m    560\u001b[0m                                 cache\u001b[38;5;241m=\u001b[39mcache, head_safe\u001b[38;5;241m=\u001b[39m\u001b[38;5;28;01mTrue\u001b[39;00m, continuation\u001b[38;5;241m=\u001b[39m\u001b[38;5;28;01mFalse\u001b[39;00m)\n\u001b[1;32m    561\u001b[0m \u001b[38;5;28;01melse\u001b[39;00m:\n\u001b[0;32m--> 562\u001b[0m     \u001b[38;5;28mself\u001b[39m\u001b[38;5;241m.\u001b[39m_download_file(data_url, local_path,\n\u001b[1;32m    563\u001b[0m                         cache\u001b[38;5;241m=\u001b[39mcache, head_safe\u001b[38;5;241m=\u001b[39m\u001b[38;5;28;01mTrue\u001b[39;00m, continuation\u001b[38;5;241m=\u001b[39m\u001b[38;5;28;01mFalse\u001b[39;00m)\n\u001b[1;32m    565\u001b[0m \u001b[38;5;66;03m# check if file exists also this is where would perform md5,\u001b[39;00m\n\u001b[1;32m    566\u001b[0m \u001b[38;5;66;03m# and also check the filesize if the database reliably reported file sizes\u001b[39;00m\n\u001b[1;32m    567\u001b[0m \u001b[38;5;28;01mif\u001b[39;00m (\u001b[38;5;129;01mnot\u001b[39;00m os\u001b[38;5;241m.\u001b[39mpath\u001b[38;5;241m.\u001b[39misfile(local_path)) \u001b[38;5;129;01mand\u001b[39;00m (status \u001b[38;5;241m!=\u001b[39m \u001b[38;5;124m\"\u001b[39m\u001b[38;5;124mSKIPPED\u001b[39m\u001b[38;5;124m\"\u001b[39m):\n",
      "File \u001b[0;32m~/miniconda3/envs/MyEnv/lib/python3.11/site-packages/astroquery/query.py:498\u001b[0m, in \u001b[0;36mBaseQuery._download_file\u001b[0;34m(self, url, local_filepath, timeout, auth, continuation, cache, method, head_safe, **kwargs)\u001b[0m\n\u001b[1;32m    495\u001b[0m \u001b[38;5;28;01mwith\u001b[39;00m ProgressBarOrSpinner(length, \u001b[38;5;124mf\u001b[39m\u001b[38;5;124m'\u001b[39m\u001b[38;5;124mDownloading URL \u001b[39m\u001b[38;5;132;01m{\u001b[39;00murl\u001b[38;5;132;01m}\u001b[39;00m\u001b[38;5;124m to \u001b[39m\u001b[38;5;132;01m{\u001b[39;00mlocal_filepath\u001b[38;5;132;01m}\u001b[39;00m\u001b[38;5;124m ...\u001b[39m\u001b[38;5;124m'\u001b[39m,\n\u001b[1;32m    496\u001b[0m                           file\u001b[38;5;241m=\u001b[39mprogress_stream) \u001b[38;5;28;01mas\u001b[39;00m pb:\n\u001b[1;32m    497\u001b[0m     \u001b[38;5;28;01mwith\u001b[39;00m \u001b[38;5;28mopen\u001b[39m(local_filepath, open_mode) \u001b[38;5;28;01mas\u001b[39;00m f:\n\u001b[0;32m--> 498\u001b[0m         \u001b[38;5;28;01mfor\u001b[39;00m block \u001b[38;5;129;01min\u001b[39;00m response\u001b[38;5;241m.\u001b[39miter_content(blocksize):\n\u001b[1;32m    499\u001b[0m             f\u001b[38;5;241m.\u001b[39mwrite(block)\n\u001b[1;32m    500\u001b[0m             bytes_read \u001b[38;5;241m+\u001b[39m\u001b[38;5;241m=\u001b[39m \u001b[38;5;28mlen\u001b[39m(block)\n",
      "File \u001b[0;32m~/miniconda3/envs/MyEnv/lib/python3.11/site-packages/requests/models.py:816\u001b[0m, in \u001b[0;36mResponse.iter_content.<locals>.generate\u001b[0;34m()\u001b[0m\n\u001b[1;32m    814\u001b[0m \u001b[38;5;28;01mif\u001b[39;00m \u001b[38;5;28mhasattr\u001b[39m(\u001b[38;5;28mself\u001b[39m\u001b[38;5;241m.\u001b[39mraw, \u001b[38;5;124m\"\u001b[39m\u001b[38;5;124mstream\u001b[39m\u001b[38;5;124m\"\u001b[39m):\n\u001b[1;32m    815\u001b[0m     \u001b[38;5;28;01mtry\u001b[39;00m:\n\u001b[0;32m--> 816\u001b[0m         \u001b[38;5;28;01myield from\u001b[39;00m \u001b[38;5;28mself\u001b[39m\u001b[38;5;241m.\u001b[39mraw\u001b[38;5;241m.\u001b[39mstream(chunk_size, decode_content\u001b[38;5;241m=\u001b[39m\u001b[38;5;28;01mTrue\u001b[39;00m)\n\u001b[1;32m    817\u001b[0m     \u001b[38;5;28;01mexcept\u001b[39;00m ProtocolError \u001b[38;5;28;01mas\u001b[39;00m e:\n\u001b[1;32m    818\u001b[0m         \u001b[38;5;28;01mraise\u001b[39;00m ChunkedEncodingError(e)\n",
      "File \u001b[0;32m~/miniconda3/envs/MyEnv/lib/python3.11/site-packages/urllib3/response.py:628\u001b[0m, in \u001b[0;36mHTTPResponse.stream\u001b[0;34m(self, amt, decode_content)\u001b[0m\n\u001b[1;32m    626\u001b[0m \u001b[38;5;28;01melse\u001b[39;00m:\n\u001b[1;32m    627\u001b[0m     \u001b[38;5;28;01mwhile\u001b[39;00m \u001b[38;5;129;01mnot\u001b[39;00m is_fp_closed(\u001b[38;5;28mself\u001b[39m\u001b[38;5;241m.\u001b[39m_fp):\n\u001b[0;32m--> 628\u001b[0m         data \u001b[38;5;241m=\u001b[39m \u001b[38;5;28mself\u001b[39m\u001b[38;5;241m.\u001b[39mread(amt\u001b[38;5;241m=\u001b[39mamt, decode_content\u001b[38;5;241m=\u001b[39mdecode_content)\n\u001b[1;32m    630\u001b[0m         \u001b[38;5;28;01mif\u001b[39;00m data:\n\u001b[1;32m    631\u001b[0m             \u001b[38;5;28;01myield\u001b[39;00m data\n",
      "File \u001b[0;32m~/miniconda3/envs/MyEnv/lib/python3.11/site-packages/urllib3/response.py:567\u001b[0m, in \u001b[0;36mHTTPResponse.read\u001b[0;34m(self, amt, decode_content, cache_content)\u001b[0m\n\u001b[1;32m    564\u001b[0m fp_closed \u001b[38;5;241m=\u001b[39m \u001b[38;5;28mgetattr\u001b[39m(\u001b[38;5;28mself\u001b[39m\u001b[38;5;241m.\u001b[39m_fp, \u001b[38;5;124m\"\u001b[39m\u001b[38;5;124mclosed\u001b[39m\u001b[38;5;124m\"\u001b[39m, \u001b[38;5;28;01mFalse\u001b[39;00m)\n\u001b[1;32m    566\u001b[0m \u001b[38;5;28;01mwith\u001b[39;00m \u001b[38;5;28mself\u001b[39m\u001b[38;5;241m.\u001b[39m_error_catcher():\n\u001b[0;32m--> 567\u001b[0m     data \u001b[38;5;241m=\u001b[39m \u001b[38;5;28mself\u001b[39m\u001b[38;5;241m.\u001b[39m_fp_read(amt) \u001b[38;5;28;01mif\u001b[39;00m \u001b[38;5;129;01mnot\u001b[39;00m fp_closed \u001b[38;5;28;01melse\u001b[39;00m \u001b[38;5;124mb\u001b[39m\u001b[38;5;124m\"\u001b[39m\u001b[38;5;124m\"\u001b[39m\n\u001b[1;32m    568\u001b[0m     \u001b[38;5;28;01mif\u001b[39;00m amt \u001b[38;5;129;01mis\u001b[39;00m \u001b[38;5;28;01mNone\u001b[39;00m:\n\u001b[1;32m    569\u001b[0m         flush_decoder \u001b[38;5;241m=\u001b[39m \u001b[38;5;28;01mTrue\u001b[39;00m\n",
      "File \u001b[0;32m~/miniconda3/envs/MyEnv/lib/python3.11/site-packages/urllib3/response.py:533\u001b[0m, in \u001b[0;36mHTTPResponse._fp_read\u001b[0;34m(self, amt)\u001b[0m\n\u001b[1;32m    530\u001b[0m     \u001b[38;5;28;01mreturn\u001b[39;00m buffer\u001b[38;5;241m.\u001b[39mgetvalue()\n\u001b[1;32m    531\u001b[0m \u001b[38;5;28;01melse\u001b[39;00m:\n\u001b[1;32m    532\u001b[0m     \u001b[38;5;66;03m# StringIO doesn't like amt=None\u001b[39;00m\n\u001b[0;32m--> 533\u001b[0m     \u001b[38;5;28;01mreturn\u001b[39;00m \u001b[38;5;28mself\u001b[39m\u001b[38;5;241m.\u001b[39m_fp\u001b[38;5;241m.\u001b[39mread(amt) \u001b[38;5;28;01mif\u001b[39;00m amt \u001b[38;5;129;01mis\u001b[39;00m \u001b[38;5;129;01mnot\u001b[39;00m \u001b[38;5;28;01mNone\u001b[39;00m \u001b[38;5;28;01melse\u001b[39;00m \u001b[38;5;28mself\u001b[39m\u001b[38;5;241m.\u001b[39m_fp\u001b[38;5;241m.\u001b[39mread()\n",
      "File \u001b[0;32m~/miniconda3/envs/MyEnv/lib/python3.11/http/client.py:466\u001b[0m, in \u001b[0;36mHTTPResponse.read\u001b[0;34m(self, amt)\u001b[0m\n\u001b[1;32m    463\u001b[0m \u001b[38;5;28;01mif\u001b[39;00m \u001b[38;5;28mself\u001b[39m\u001b[38;5;241m.\u001b[39mlength \u001b[38;5;129;01mis\u001b[39;00m \u001b[38;5;129;01mnot\u001b[39;00m \u001b[38;5;28;01mNone\u001b[39;00m \u001b[38;5;129;01mand\u001b[39;00m amt \u001b[38;5;241m>\u001b[39m \u001b[38;5;28mself\u001b[39m\u001b[38;5;241m.\u001b[39mlength:\n\u001b[1;32m    464\u001b[0m     \u001b[38;5;66;03m# clip the read to the \"end of response\"\u001b[39;00m\n\u001b[1;32m    465\u001b[0m     amt \u001b[38;5;241m=\u001b[39m \u001b[38;5;28mself\u001b[39m\u001b[38;5;241m.\u001b[39mlength\n\u001b[0;32m--> 466\u001b[0m s \u001b[38;5;241m=\u001b[39m \u001b[38;5;28mself\u001b[39m\u001b[38;5;241m.\u001b[39mfp\u001b[38;5;241m.\u001b[39mread(amt)\n\u001b[1;32m    467\u001b[0m \u001b[38;5;28;01mif\u001b[39;00m \u001b[38;5;129;01mnot\u001b[39;00m s \u001b[38;5;129;01mand\u001b[39;00m amt:\n\u001b[1;32m    468\u001b[0m     \u001b[38;5;66;03m# Ideally, we would raise IncompleteRead if the content-length\u001b[39;00m\n\u001b[1;32m    469\u001b[0m     \u001b[38;5;66;03m# wasn't satisfied, but it might break compatibility.\u001b[39;00m\n\u001b[1;32m    470\u001b[0m     \u001b[38;5;28mself\u001b[39m\u001b[38;5;241m.\u001b[39m_close_conn()\n",
      "File \u001b[0;32m~/miniconda3/envs/MyEnv/lib/python3.11/socket.py:706\u001b[0m, in \u001b[0;36mSocketIO.readinto\u001b[0;34m(self, b)\u001b[0m\n\u001b[1;32m    704\u001b[0m \u001b[38;5;28;01mwhile\u001b[39;00m \u001b[38;5;28;01mTrue\u001b[39;00m:\n\u001b[1;32m    705\u001b[0m     \u001b[38;5;28;01mtry\u001b[39;00m:\n\u001b[0;32m--> 706\u001b[0m         \u001b[38;5;28;01mreturn\u001b[39;00m \u001b[38;5;28mself\u001b[39m\u001b[38;5;241m.\u001b[39m_sock\u001b[38;5;241m.\u001b[39mrecv_into(b)\n\u001b[1;32m    707\u001b[0m     \u001b[38;5;28;01mexcept\u001b[39;00m timeout:\n\u001b[1;32m    708\u001b[0m         \u001b[38;5;28mself\u001b[39m\u001b[38;5;241m.\u001b[39m_timeout_occurred \u001b[38;5;241m=\u001b[39m \u001b[38;5;28;01mTrue\u001b[39;00m\n",
      "File \u001b[0;32m~/miniconda3/envs/MyEnv/lib/python3.11/ssl.py:1311\u001b[0m, in \u001b[0;36mSSLSocket.recv_into\u001b[0;34m(self, buffer, nbytes, flags)\u001b[0m\n\u001b[1;32m   1307\u001b[0m     \u001b[38;5;28;01mif\u001b[39;00m flags \u001b[38;5;241m!=\u001b[39m \u001b[38;5;241m0\u001b[39m:\n\u001b[1;32m   1308\u001b[0m         \u001b[38;5;28;01mraise\u001b[39;00m \u001b[38;5;167;01mValueError\u001b[39;00m(\n\u001b[1;32m   1309\u001b[0m           \u001b[38;5;124m\"\u001b[39m\u001b[38;5;124mnon-zero flags not allowed in calls to recv_into() on \u001b[39m\u001b[38;5;132;01m%s\u001b[39;00m\u001b[38;5;124m\"\u001b[39m \u001b[38;5;241m%\u001b[39m\n\u001b[1;32m   1310\u001b[0m           \u001b[38;5;28mself\u001b[39m\u001b[38;5;241m.\u001b[39m\u001b[38;5;18m__class__\u001b[39m)\n\u001b[0;32m-> 1311\u001b[0m     \u001b[38;5;28;01mreturn\u001b[39;00m \u001b[38;5;28mself\u001b[39m\u001b[38;5;241m.\u001b[39mread(nbytes, buffer)\n\u001b[1;32m   1312\u001b[0m \u001b[38;5;28;01melse\u001b[39;00m:\n\u001b[1;32m   1313\u001b[0m     \u001b[38;5;28;01mreturn\u001b[39;00m \u001b[38;5;28msuper\u001b[39m()\u001b[38;5;241m.\u001b[39mrecv_into(buffer, nbytes, flags)\n",
      "File \u001b[0;32m~/miniconda3/envs/MyEnv/lib/python3.11/ssl.py:1167\u001b[0m, in \u001b[0;36mSSLSocket.read\u001b[0;34m(self, len, buffer)\u001b[0m\n\u001b[1;32m   1165\u001b[0m \u001b[38;5;28;01mtry\u001b[39;00m:\n\u001b[1;32m   1166\u001b[0m     \u001b[38;5;28;01mif\u001b[39;00m buffer \u001b[38;5;129;01mis\u001b[39;00m \u001b[38;5;129;01mnot\u001b[39;00m \u001b[38;5;28;01mNone\u001b[39;00m:\n\u001b[0;32m-> 1167\u001b[0m         \u001b[38;5;28;01mreturn\u001b[39;00m \u001b[38;5;28mself\u001b[39m\u001b[38;5;241m.\u001b[39m_sslobj\u001b[38;5;241m.\u001b[39mread(\u001b[38;5;28mlen\u001b[39m, buffer)\n\u001b[1;32m   1168\u001b[0m     \u001b[38;5;28;01melse\u001b[39;00m:\n\u001b[1;32m   1169\u001b[0m         \u001b[38;5;28;01mreturn\u001b[39;00m \u001b[38;5;28mself\u001b[39m\u001b[38;5;241m.\u001b[39m_sslobj\u001b[38;5;241m.\u001b[39mread(\u001b[38;5;28mlen\u001b[39m)\n",
      "\u001b[0;31mKeyboardInterrupt\u001b[0m: "
     ]
    }
   ],
   "source": [
    "\"\"\"\n",
    "Example 10\n",
    "++++++++++\n",
    "Retrieve Hubble archival data of M83 and make a figure\n",
    "\"\"\"\n",
    "from astroquery.mast import Mast, Observations\n",
    "from astropy.visualization import make_lupton_rgb, ImageNormalize\n",
    "import matplotlib.pyplot as plt\n",
    "# import reproject\n",
    "\n",
    "result = Observations.query_object('M83')\n",
    "selected_bands = result[(result['obs_collection'] == 'HST') &\n",
    "                        (result['instrument_name'] == 'WFC3/UVIS') &\n",
    "                        ((result['filters'] == 'F657N') |\n",
    "                         (result['filters'] == 'F487N') |\n",
    "                         (result['filters'] == 'F336W')) &\n",
    "                        (result['target_name'] == 'MESSIER-083')]\n",
    "prodlist = Observations.get_product_list(selected_bands)\n",
    "filtered_prodlist = Observations.filter_products(prodlist)\n",
    "\n",
    "downloaded = Observations.download_products(filtered_prodlist)\n",
    "\n",
    "blue = fits.open(downloaded['Local Path'][2])\n",
    "red = fits.open(downloaded['Local Path'][5])\n",
    "green = fits.open(downloaded['Local Path'][8])\n",
    "\n",
    "target_header = red['SCI'].header"
   ]
  },
  {
   "cell_type": "code",
   "execution_count": 13,
   "id": "18709839",
   "metadata": {},
   "outputs": [
    {
     "ename": "NameError",
     "evalue": "name 'downloaded' is not defined",
     "output_type": "error",
     "traceback": [
      "\u001b[0;31m---------------------------------------------------------------------------\u001b[0m",
      "\u001b[0;31mNameError\u001b[0m                                 Traceback (most recent call last)",
      "Cell \u001b[0;32mIn[13], line 1\u001b[0m\n\u001b[0;32m----> 1\u001b[0m blue \u001b[38;5;241m=\u001b[39m fits\u001b[38;5;241m.\u001b[39mopen(downloaded[\u001b[38;5;124m'\u001b[39m\u001b[38;5;124mLocal Path\u001b[39m\u001b[38;5;124m'\u001b[39m][\u001b[38;5;241m2\u001b[39m])\n\u001b[1;32m      2\u001b[0m red \u001b[38;5;241m=\u001b[39m fits\u001b[38;5;241m.\u001b[39mopen(downloaded[\u001b[38;5;124m'\u001b[39m\u001b[38;5;124mLocal Path\u001b[39m\u001b[38;5;124m'\u001b[39m][\u001b[38;5;241m5\u001b[39m])\n\u001b[1;32m      3\u001b[0m green \u001b[38;5;241m=\u001b[39m fits\u001b[38;5;241m.\u001b[39mopen(downloaded[\u001b[38;5;124m'\u001b[39m\u001b[38;5;124mLocal Path\u001b[39m\u001b[38;5;124m'\u001b[39m][\u001b[38;5;241m8\u001b[39m])\n",
      "\u001b[0;31mNameError\u001b[0m: name 'downloaded' is not defined"
     ]
    }
   ],
   "source": [
    "blue = fits.open(downloaded['Local Path'][2])\n",
    "red = fits.open(downloaded['Local Path'][5])\n",
    "green = fits.open(downloaded['Local Path'][8])\n",
    "\n",
    "target_header = red['SCI'].header"
   ]
  },
  {
   "cell_type": "code",
   "execution_count": null,
   "id": "580d3e0d",
   "metadata": {},
   "outputs": [],
   "source": []
  }
 ],
 "metadata": {
  "kernelspec": {
   "display_name": "Python 3 (ipykernel)",
   "language": "python",
   "name": "python3"
  },
  "language_info": {
   "codemirror_mode": {
    "name": "ipython",
    "version": 3
   },
   "file_extension": ".py",
   "mimetype": "text/x-python",
   "name": "python",
   "nbconvert_exporter": "python",
   "pygments_lexer": "ipython3",
   "version": "3.11.5"
  }
 },
 "nbformat": 4,
 "nbformat_minor": 5
}
