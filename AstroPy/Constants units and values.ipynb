{
 "cells": [
  {
   "cell_type": "markdown",
   "id": "cf802c52",
   "metadata": {},
   "source": [
    "# Eddington limit for Sun calculation"
   ]
  },
  {
   "cell_type": "markdown",
   "id": "3f4072dd",
   "metadata": {},
   "source": [
    "https://docs.astropy.org/en/stable/constants/index.html#module-astropy.constants\n",
    "\n",
    "https://het.as.utexas.edu/HET/Software/Astropy-1.0/units/index.html"
   ]
  },
  {
   "cell_type": "code",
   "execution_count": 4,
   "id": "680076c9",
   "metadata": {},
   "outputs": [],
   "source": [
    "import numpy as np\n",
    "from astropy import constants as const\n",
    "from astropy import units as u"
   ]
  },
  {
   "cell_type": "markdown",
   "id": "44f145ef",
   "metadata": {},
   "source": [
    "### Units"
   ]
  },
  {
   "cell_type": "code",
   "execution_count": 5,
   "id": "1bb53628",
   "metadata": {},
   "outputs": [
    {
     "name": "stdout",
     "output_type": "stream",
     "text": [
      "hourangle\n",
      "[Unit(\"hourangle\")]\n",
      "angle\n"
     ]
    }
   ],
   "source": [
    "ha = u.hourangle\n",
    "print(ha)\n",
    "print(ha.bases)\n",
    "print(ha.physical_type)"
   ]
  },
  {
   "cell_type": "code",
   "execution_count": 6,
   "id": "7c8fdbf7",
   "metadata": {},
   "outputs": [
    {
     "data": {
      "text/plain": [
       "['Franklin', 'statcoulomb', 'statC', 'esu']"
      ]
     },
     "execution_count": 6,
     "metadata": {},
     "output_type": "execute_result"
    }
   ],
   "source": [
    "u.Fr.aliases"
   ]
  },
  {
   "cell_type": "code",
   "execution_count": 7,
   "id": "cfdce0cb",
   "metadata": {},
   "outputs": [
    {
     "data": {
      "text/latex": [
       "$\\mathrm{3.1622777 \\times 10^{-5}\\,\\frac{m^{3/2}\\,kg^{1/2}}{s}}$"
      ],
      "text/plain": [
       "Unit(\"3.16228e-05 m(3/2) kg(1/2) / s\")"
      ]
     },
     "execution_count": 7,
     "metadata": {},
     "output_type": "execute_result"
    }
   ],
   "source": [
    "u.Fr.si"
   ]
  },
  {
   "cell_type": "code",
   "execution_count": null,
   "id": "a0d21cf9",
   "metadata": {},
   "outputs": [],
   "source": []
  },
  {
   "cell_type": "markdown",
   "id": "9bd854e6",
   "metadata": {},
   "source": [
    "### Constants"
   ]
  },
  {
   "cell_type": "code",
   "execution_count": 8,
   "id": "fa9a2cd1",
   "metadata": {},
   "outputs": [
    {
     "name": "stdout",
     "output_type": "stream",
     "text": [
      "  Name   = Gravitational constant\n",
      "  Value  = 6.6743e-11\n",
      "  Uncertainty  = 1.5e-15\n",
      "  Unit  = m3 / (kg s2)\n",
      "  Reference = CODATA 2018\n"
     ]
    },
    {
     "data": {
      "text/latex": [
       "$6.6743 \\times 10^{-11} \\; \\mathrm{\\frac{m^{3}}{kg\\,s^{2}}}$"
      ],
      "text/plain": [
       "<<class 'astropy.constants.codata2018.CODATA2018'> name='Gravitational constant' value=6.6743e-11 uncertainty=1.5e-15 unit='m3 / (kg s2)' reference='CODATA 2018'>"
      ]
     },
     "execution_count": 8,
     "metadata": {},
     "output_type": "execute_result"
    }
   ],
   "source": [
    "G = const.G\n",
    "print(G)\n",
    "\n",
    "G"
   ]
  },
  {
   "cell_type": "code",
   "execution_count": 9,
   "id": "c99c9944",
   "metadata": {},
   "outputs": [
    {
     "data": {
      "text/latex": [
       "$6.6524587 \\times 10^{-25} \\; \\mathrm{cm^{2}}$"
      ],
      "text/plain": [
       "<Quantity 6.65245872e-25 cm2>"
      ]
     },
     "execution_count": 9,
     "metadata": {},
     "output_type": "execute_result"
    }
   ],
   "source": [
    "# defining constants \n",
    "me = const.m_e.cgs\n",
    "mp = const.m_p.cgs\n",
    "e = const.e.esu\n",
    "c = const.c.cgs\n",
    "\n",
    "G = const.G.cgs\n",
    "\n",
    "Lsun = const.L_sun.cgs\n",
    "Msun = const.M_sun.cgs\n",
    "Rsun = const.R_sun.cgs\n",
    "\n",
    "sigmt = (8*np.pi/3*(e**2/me/c**2)**2).cgs\n",
    "sigmt"
   ]
  },
  {
   "cell_type": "code",
   "execution_count": 10,
   "id": "ea45f17e",
   "metadata": {},
   "outputs": [
    {
     "data": {
      "text/latex": [
       "$1.2570652 \\times 10^{38} \\; \\mathrm{\\frac{cm^{2}\\,g}{s^{3}}}$"
      ],
      "text/plain": [
       "<Quantity 1.25706518e+38 cm2 g / s3>"
      ]
     },
     "execution_count": 10,
     "metadata": {},
     "output_type": "execute_result"
    }
   ],
   "source": [
    "Ledd = 4*np.pi*G*Msun*mp*c/sigmt # 1.26 * 10**38 [erg/s]\n",
    "Ledd"
   ]
  },
  {
   "cell_type": "code",
   "execution_count": 62,
   "id": "e4946f28",
   "metadata": {},
   "outputs": [
    {
     "data": {
      "text/latex": [
       "$3.828 \\times 10^{33} \\; \\mathrm{\\frac{erg}{s}}$"
      ],
      "text/plain": [
       "<Quantity 3.828e+33 erg / s>"
      ]
     },
     "execution_count": 62,
     "metadata": {},
     "output_type": "execute_result"
    }
   ],
   "source": [
    "Lsun"
   ]
  },
  {
   "cell_type": "code",
   "execution_count": 7,
   "id": "81bfe858",
   "metadata": {},
   "outputs": [
    {
     "data": {
      "text/latex": [
       "$3.828 \\times 10^{26} \\; \\mathrm{W}$"
      ],
      "text/plain": [
       "<<class 'astropy.constants.iau2015.IAU2015'> name='Nominal solar luminosity' value=3.828e+26 uncertainty=0.0 unit='W' reference='IAU 2015 Resolution B 3'>"
      ]
     },
     "execution_count": 7,
     "metadata": {},
     "output_type": "execute_result"
    }
   ],
   "source": [
    "const.L_sun"
   ]
  },
  {
   "cell_type": "markdown",
   "id": "cf3b8130",
   "metadata": {},
   "source": [
    " 1 W = 1 J s−1 = 1 kg⋅m2⋅s−3 (SI)\n",
    " \n",
    " 1 erg = 1 cm2⋅g⋅s−2 (cgs)\n",
    " \n",
    " 1 erg = 10−7 J = 1 g⋅cm2/s2\n",
    " \n",
    " 1 erg = 2.77778×10−11 W⋅h"
   ]
  },
  {
   "cell_type": "code",
   "execution_count": 12,
   "id": "50e82da1",
   "metadata": {},
   "outputs": [
    {
     "data": {
      "text/plain": [
       "10000"
      ]
     },
     "execution_count": 12,
     "metadata": {},
     "output_type": "execute_result"
    }
   ],
   "source": [
    "m**2/Fr**4/s**4"
   ]
  },
  {
   "cell_type": "code",
   "execution_count": 13,
   "id": "0934de3f",
   "metadata": {},
   "outputs": [
    {
     "name": "stdout",
     "output_type": "stream",
     "text": [
      "  Name   = Electron charge\n",
      "  Value  = 1.602176634e-19\n",
      "  Uncertainty  = 0.0\n",
      "  Unit  = C\n",
      "  Reference = CODATA 2018\n"
     ]
    }
   ],
   "source": [
    "print(const.e)"
   ]
  },
  {
   "cell_type": "code",
   "execution_count": 11,
   "id": "e4c8aa22",
   "metadata": {},
   "outputs": [
    {
     "data": {
      "text/latex": [
       "$6.957 \\times 10^{10} \\; \\mathrm{cm}$"
      ],
      "text/plain": [
       "<Quantity 6.957e+10 cm>"
      ]
     },
     "execution_count": 11,
     "metadata": {},
     "output_type": "execute_result"
    }
   ],
   "source": [
    "Rsun"
   ]
  },
  {
   "cell_type": "code",
   "execution_count": 20,
   "id": "ca2655a2",
   "metadata": {},
   "outputs": [
    {
     "data": {
      "text/latex": [
       "$1.4374012 \\times 10^{-11} \\; \\mathrm{\\frac{AU}{cm}}$"
      ],
      "text/plain": [
       "<Quantity 1.43740118e-11 AU / cm>"
      ]
     },
     "execution_count": 20,
     "metadata": {},
     "output_type": "execute_result"
    }
   ],
   "source": [
    "1*u.au / Rsun"
   ]
  },
  {
   "cell_type": "code",
   "execution_count": 21,
   "id": "fb4a8bb1",
   "metadata": {},
   "outputs": [
    {
     "data": {
      "text/plain": [
       "0.00465047"
      ]
     },
     "execution_count": 21,
     "metadata": {},
     "output_type": "execute_result"
    }
   ],
   "source": [
    "0.00465047"
   ]
  },
  {
   "cell_type": "code",
   "execution_count": null,
   "id": "aa15ed50",
   "metadata": {},
   "outputs": [],
   "source": []
  }
 ],
 "metadata": {
  "kernelspec": {
   "display_name": "Python 3 (ipykernel)",
   "language": "python",
   "name": "python3"
  },
  "language_info": {
   "codemirror_mode": {
    "name": "ipython",
    "version": 3
   },
   "file_extension": ".py",
   "mimetype": "text/x-python",
   "name": "python",
   "nbconvert_exporter": "python",
   "pygments_lexer": "ipython3",
   "version": "3.11.5"
  }
 },
 "nbformat": 4,
 "nbformat_minor": 5
}
