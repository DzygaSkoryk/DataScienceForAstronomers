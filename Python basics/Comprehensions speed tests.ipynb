{
 "cells": [
  {
   "cell_type": "code",
   "execution_count": 2,
   "id": "c3853f03",
   "metadata": {},
   "outputs": [],
   "source": [
    "N = 1000"
   ]
  },
  {
   "cell_type": "code",
   "execution_count": 3,
   "id": "56323c3c",
   "metadata": {},
   "outputs": [
    {
     "name": "stdout",
     "output_type": "stream",
     "text": [
      "CPU times: user 39 µs, sys: 8 µs, total: 47 µs\n",
      "Wall time: 51 µs\n"
     ]
    }
   ],
   "source": [
    "%time l1 = [i+2 for i in range(N+1)]"
   ]
  },
  {
   "cell_type": "code",
   "execution_count": 4,
   "id": "02ded090",
   "metadata": {},
   "outputs": [
    {
     "name": "stdout",
     "output_type": "stream",
     "text": [
      "CPU times: user 2.34 ms, sys: 0 ns, total: 2.34 ms\n",
      "Wall time: 1.66 ms\n"
     ]
    }
   ],
   "source": [
    "%time l1 = [i+2 for i in range(N+1)]"
   ]
  },
  {
   "cell_type": "code",
   "execution_count": 5,
   "id": "d869cfa9",
   "metadata": {},
   "outputs": [
    {
     "name": "stdout",
     "output_type": "stream",
     "text": [
      "CPU times: user 74 µs, sys: 14 µs, total: 88 µs\n",
      "Wall time: 93.9 µs\n"
     ]
    }
   ],
   "source": [
    "%time l1 = [i+2 for i in range(N+1)]"
   ]
  },
  {
   "cell_type": "code",
   "execution_count": 6,
   "id": "602afa7b",
   "metadata": {},
   "outputs": [
    {
     "name": "stdout",
     "output_type": "stream",
     "text": [
      "CPU times: user 61 µs, sys: 12 µs, total: 73 µs\n",
      "Wall time: 79.2 µs\n"
     ]
    }
   ],
   "source": [
    "%time l1 = [i+2 for i in range(N+1)]"
   ]
  },
  {
   "cell_type": "code",
   "execution_count": 7,
   "id": "41b39b3f",
   "metadata": {},
   "outputs": [
    {
     "name": "stdout",
     "output_type": "stream",
     "text": [
      "35.9 µs ± 7.14 µs per loop (mean ± std. dev. of 7 runs, 10,000 loops each)\n"
     ]
    }
   ],
   "source": [
    "%timeit l1 = [i+2 for i in range(N+1)]"
   ]
  },
  {
   "cell_type": "markdown",
   "id": "f4e90cbc",
   "metadata": {},
   "source": [
    "### 1d loop"
   ]
  },
  {
   "cell_type": "code",
   "execution_count": 25,
   "id": "40757f0e",
   "metadata": {},
   "outputs": [],
   "source": [
    "def loop(N):\n",
    "    res = []\n",
    "    for i in range(N+1):\n",
    "        res.append(i**2)\n",
    "    return res    "
   ]
  },
  {
   "cell_type": "code",
   "execution_count": 26,
   "id": "4d9ce557",
   "metadata": {},
   "outputs": [
    {
     "name": "stdout",
     "output_type": "stream",
     "text": [
      "48.9 µs ± 3.89 µs per loop (mean ± std. dev. of 7 runs, 10,000 loops each)\n"
     ]
    }
   ],
   "source": [
    "%timeit l1 = [i**2 for i in range(N+1)]"
   ]
  },
  {
   "cell_type": "code",
   "execution_count": 27,
   "id": "53d9b17d",
   "metadata": {},
   "outputs": [
    {
     "name": "stdout",
     "output_type": "stream",
     "text": [
      "50.1 µs ± 1.99 µs per loop (mean ± std. dev. of 7 runs, 10,000 loops each)\n"
     ]
    }
   ],
   "source": [
    "%timeit l2 = loop(N)"
   ]
  },
  {
   "cell_type": "markdown",
   "id": "010d845f",
   "metadata": {},
   "source": [
    "### Double loops"
   ]
  },
  {
   "cell_type": "code",
   "execution_count": 15,
   "id": "1097f832",
   "metadata": {},
   "outputs": [],
   "source": [
    "N = 1000\n",
    "M = 100"
   ]
  },
  {
   "cell_type": "code",
   "execution_count": 22,
   "id": "0f99f477",
   "metadata": {},
   "outputs": [],
   "source": [
    "def loop2d(N,M):\n",
    "    res = []\n",
    "    for i in range(N+1):\n",
    "        for j in range(M+1):\n",
    "            res.append(i*j)\n",
    "    return res   "
   ]
  },
  {
   "cell_type": "code",
   "execution_count": 23,
   "id": "3af01036",
   "metadata": {},
   "outputs": [
    {
     "name": "stdout",
     "output_type": "stream",
     "text": [
      "3.83 ms ± 571 µs per loop (mean ± std. dev. of 7 runs, 100 loops each)\n"
     ]
    }
   ],
   "source": [
    "%timeit l2 = loop2d(N,M)"
   ]
  },
  {
   "cell_type": "code",
   "execution_count": 24,
   "id": "6d57f76f",
   "metadata": {},
   "outputs": [
    {
     "name": "stdout",
     "output_type": "stream",
     "text": [
      "2.91 ms ± 209 µs per loop (mean ± std. dev. of 7 runs, 100 loops each)\n"
     ]
    }
   ],
   "source": [
    "%timeit l2 = [i*j for i in range(N+1) for j in range(M+1)]"
   ]
  },
  {
   "cell_type": "code",
   "execution_count": 1,
   "id": "68d8aaf7",
   "metadata": {},
   "outputs": [],
   "source": [
    "import time\n",
    "iterations = 100000000"
   ]
  },
  {
   "cell_type": "code",
   "execution_count": 5,
   "id": "047817e8",
   "metadata": {},
   "outputs": [
    {
     "name": "stdout",
     "output_type": "stream",
     "text": [
      "10.220139026641846\n"
     ]
    }
   ],
   "source": [
    "start = time.time()\n",
    "mylist = []\n",
    "for i in range(iterations):\n",
    "    mylist.append(i+2)\n",
    "end = time.time()\n",
    "print(end - start)"
   ]
  },
  {
   "cell_type": "code",
   "execution_count": 4,
   "id": "8a99b285",
   "metadata": {},
   "outputs": [
    {
     "name": "stdout",
     "output_type": "stream",
     "text": [
      "76.95997762680054\n"
     ]
    }
   ],
   "source": [
    "secondsstart = time.time()\n",
    "mylist = [i+2 for i in range(iterations)]\n",
    "end = time.time()\n",
    "print(end - start)"
   ]
  },
  {
   "cell_type": "code",
   "execution_count": null,
   "id": "92f2f06a",
   "metadata": {},
   "outputs": [],
   "source": [
    "start = time.time()\n",
    "mylist = []\n",
    "for i in range(iterations):\n",
    "    mylist.append(i+2)\n",
    "end = time.time()\n",
    "print(end - start)"
   ]
  }
 ],
 "metadata": {
  "kernelspec": {
   "display_name": "Python 3 (ipykernel)",
   "language": "python",
   "name": "python3"
  },
  "language_info": {
   "codemirror_mode": {
    "name": "ipython",
    "version": 3
   },
   "file_extension": ".py",
   "mimetype": "text/x-python",
   "name": "python",
   "nbconvert_exporter": "python",
   "pygments_lexer": "ipython3",
   "version": "3.11.5"
  }
 },
 "nbformat": 4,
 "nbformat_minor": 5
}
