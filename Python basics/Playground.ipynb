{
 "cells": [
  {
   "cell_type": "code",
   "execution_count": 2,
   "id": "1cf9741b-153e-442a-be0d-56a2ffb721e7",
   "metadata": {},
   "outputs": [],
   "source": [
    "a = 4+2+2+2+4+1+2+5\n",
    "b =4+4+6+4+7\n",
    "c = 4+5+4+5+5 +5 + 1\n",
    "d=4+5+4+5+5 +5 + 1\n"
   ]
  },
  {
   "cell_type": "code",
   "execution_count": 3,
   "id": "dcb69fa8-4900-4159-ba52-944efeedce24",
   "metadata": {},
   "outputs": [
    {
     "data": {
      "text/plain": [
       "(22, 25, 29, 29)"
      ]
     },
     "execution_count": 3,
     "metadata": {},
     "output_type": "execute_result"
    }
   ],
   "source": [
    "a, b, c, d"
   ]
  },
  {
   "cell_type": "code",
   "execution_count": 4,
   "id": "a5b6e135-b916-46af-8aed-77882558c8f9",
   "metadata": {},
   "outputs": [
    {
     "data": {
      "text/plain": [
       "22"
      ]
     },
     "execution_count": 4,
     "metadata": {},
     "output_type": "execute_result"
    }
   ],
   "source": [
    "5+5+4+4+4"
   ]
  },
  {
   "cell_type": "code",
   "execution_count": 5,
   "id": "96121385-5341-4dd4-9976-9b2d0a935819",
   "metadata": {},
   "outputs": [
    {
     "data": {
      "text/plain": [
       "102"
      ]
     },
     "execution_count": 5,
     "metadata": {},
     "output_type": "execute_result"
    }
   ],
   "source": [
    "22+22+29+29"
   ]
  },
  {
   "cell_type": "code",
   "execution_count": 7,
   "id": "d19a2125-4a78-4bf7-b2e6-a9f25afff2a6",
   "metadata": {},
   "outputs": [
    {
     "data": {
      "text/plain": [
       "2550"
      ]
     },
     "execution_count": 7,
     "metadata": {},
     "output_type": "execute_result"
    }
   ],
   "source": [
    "102*25"
   ]
  },
  {
   "cell_type": "code",
   "execution_count": null,
   "id": "87f8dccf-30cb-470e-8a0e-047b1fdb6943",
   "metadata": {},
   "outputs": [],
   "source": []
  }
 ],
 "metadata": {
  "kernelspec": {
   "display_name": "Python 3 (ipykernel)",
   "language": "python",
   "name": "python3"
  },
  "language_info": {
   "codemirror_mode": {
    "name": "ipython",
    "version": 3
   },
   "file_extension": ".py",
   "mimetype": "text/x-python",
   "name": "python",
   "nbconvert_exporter": "python",
   "pygments_lexer": "ipython3",
   "version": "3.12.5"
  }
 },
 "nbformat": 4,
 "nbformat_minor": 5
}
